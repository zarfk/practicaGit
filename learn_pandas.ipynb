{
 "cells": [
  {
   "cell_type": "markdown",
   "id": "287266b0-b51e-4972-bdd3-f2e34171dd5d",
   "metadata": {},
   "source": [
    "# Aprender pandas"
   ]
  },
  {
   "cell_type": "code",
   "execution_count": 2,
   "id": "0f285aa8-66ac-4361-bc4e-cd8c51fdb080",
   "metadata": {},
   "outputs": [],
   "source": [
    "import pandas as pd\n",
    "import numpy as np"
   ]
  },
  {
   "cell_type": "markdown",
   "id": "69d2c7ff-61a6-43a4-836e-1c909763b73d",
   "metadata": {},
   "source": [
    "## Series: creación, manipulación y uso"
   ]
  },
  {
   "cell_type": "markdown",
   "id": "e2f4e77a-2ae4-418a-8f3b-65040b3f29e9",
   "metadata": {
    "jp-MarkdownHeadingCollapsed": true
   },
   "source": [
    "### creacion de series por lista y diccionario"
   ]
  },
  {
   "cell_type": "code",
   "execution_count": 25,
   "id": "ea9797be-e9a0-4737-b5dd-6cbe92cfe618",
   "metadata": {},
   "outputs": [
    {
     "name": "stdout",
     "output_type": "stream",
     "text": [
      "0    1\n",
      "1    2\n",
      "2    3\n",
      "3    4\n",
      "dtype: int32\n",
      "uno     1\n",
      "dos     2\n",
      "tres    3\n",
      "dtype: int64\n"
     ]
    }
   ],
   "source": [
    "a = np.arange(1, 5)\n",
    "d = {\"uno\": 1, \"dos\": 2, \"tres\": 3}\n",
    "\n",
    "s1 = pd.Series(a)\n",
    "s2 = pd.Series(d)\n",
    "\n",
    "print(s1)\n",
    "print(s2)"
   ]
  },
  {
   "cell_type": "markdown",
   "id": "70882394-6b46-4648-a56b-e6ca92e06163",
   "metadata": {
    "jp-MarkdownHeadingCollapsed": true
   },
   "source": [
    "### Acceder a elementos de series"
   ]
  },
  {
   "cell_type": "code",
   "execution_count": 35,
   "id": "0e6cff5d-c126-4e02-88a1-233c6a5c0858",
   "metadata": {},
   "outputs": [
    {
     "name": "stdout",
     "output_type": "stream",
     "text": [
      "2\n",
      "3\n",
      "0    1\n",
      "1    2\n",
      "dtype: int32\n"
     ]
    }
   ],
   "source": [
    "print(s2[\"dos\"])\n",
    "print(s1.iloc[2])\n",
    "print(s1[s1 <= 2])"
   ]
  },
  {
   "cell_type": "markdown",
   "id": "6cda7bf4-3de1-4b78-9492-699fc93a155e",
   "metadata": {
    "jp-MarkdownHeadingCollapsed": true
   },
   "source": [
    "### Crear un valor por medio del indice"
   ]
  },
  {
   "cell_type": "code",
   "execution_count": 29,
   "id": "01664024-890a-4018-850e-18ac86abb0a3",
   "metadata": {},
   "outputs": [
    {
     "data": {
      "text/plain": [
       "uno      1\n",
       "dos      2\n",
       "tres     3\n",
       "diez    10\n",
       "dtype: int64"
      ]
     },
     "execution_count": 29,
     "metadata": {},
     "output_type": "execute_result"
    }
   ],
   "source": [
    "s2[\"diez\"] = 10\n",
    "s2"
   ]
  },
  {
   "cell_type": "markdown",
   "id": "8487453e-4efb-4806-a88b-4851c2c4a1a9",
   "metadata": {
    "jp-MarkdownHeadingCollapsed": true
   },
   "source": [
    "### Operar series con valores escalares"
   ]
  },
  {
   "cell_type": "code",
   "execution_count": 31,
   "id": "2981b41d-7361-4b09-b3c8-92c61a1d820c",
   "metadata": {},
   "outputs": [
    {
     "name": "stdout",
     "output_type": "stream",
     "text": [
      "uno       1\n",
      "dos       4\n",
      "tres      9\n",
      "diez    100\n",
      "dtype: int64\n",
      "uno      4\n",
      "dos      5\n",
      "tres     6\n",
      "diez    13\n",
      "dtype: int64\n"
     ]
    }
   ],
   "source": [
    "print(s2**2)\n",
    "print(s2+3)"
   ]
  },
  {
   "cell_type": "markdown",
   "id": "5f483a5e-d71d-4287-90f0-3ca35b5d80f6",
   "metadata": {
    "jp-MarkdownHeadingCollapsed": true
   },
   "source": [
    "### funciones de las series"
   ]
  },
  {
   "cell_type": "code",
   "execution_count": 33,
   "id": "e978c545-df93-461f-b0bf-9eddf9c70a28",
   "metadata": {},
   "outputs": [
    {
     "name": "stdout",
     "output_type": "stream",
     "text": [
      "1\n",
      "10\n",
      "4.0\n"
     ]
    }
   ],
   "source": [
    "print(s.min())\n",
    "print(s.max())\n",
    "print(s.mean())"
   ]
  },
  {
   "cell_type": "code",
   "execution_count": 21,
   "id": "a24a26cd-c718-45cc-8b39-36775c3cb2a0",
   "metadata": {},
   "outputs": [
    {
     "data": {
      "text/plain": [
       "uno     0.000000\n",
       "dos     0.693147\n",
       "tres    1.098612\n",
       "diez    2.302585\n",
       "dtype: float64"
      ]
     },
     "execution_count": 21,
     "metadata": {},
     "output_type": "execute_result"
    }
   ],
   "source": [
    "# Aplicarle una funcion a cada elemento de mi serie:\n",
    "\n",
    "s.apply(np.log)"
   ]
  },
  {
   "cell_type": "markdown",
   "id": "93dd1994-22cc-4f26-98e2-d2dc75eca287",
   "metadata": {},
   "source": [
    "### Agrupar dos series o mas"
   ]
  },
  {
   "cell_type": "code",
   "execution_count": 36,
   "id": "d6e22b15-1677-4b4d-8691-f7013a74bcac",
   "metadata": {},
   "outputs": [
    {
     "data": {
      "text/html": [
       "<div>\n",
       "<style scoped>\n",
       "    .dataframe tbody tr th:only-of-type {\n",
       "        vertical-align: middle;\n",
       "    }\n",
       "\n",
       "    .dataframe tbody tr th {\n",
       "        vertical-align: top;\n",
       "    }\n",
       "\n",
       "    .dataframe thead th {\n",
       "        text-align: right;\n",
       "    }\n",
       "</style>\n",
       "<table border=\"1\" class=\"dataframe\">\n",
       "  <thead>\n",
       "    <tr style=\"text-align: right;\">\n",
       "      <th></th>\n",
       "      <th>edades</th>\n",
       "      <th>nombres</th>\n",
       "    </tr>\n",
       "  </thead>\n",
       "  <tbody>\n",
       "    <tr>\n",
       "      <th>uno</th>\n",
       "      <td>1</td>\n",
       "      <td>juan</td>\n",
       "    </tr>\n",
       "    <tr>\n",
       "      <th>dos</th>\n",
       "      <td>2</td>\n",
       "      <td>ana</td>\n",
       "    </tr>\n",
       "    <tr>\n",
       "      <th>tres</th>\n",
       "      <td>3</td>\n",
       "      <td>carlos</td>\n",
       "    </tr>\n",
       "    <tr>\n",
       "      <th>diez</th>\n",
       "      <td>10</td>\n",
       "      <td>maria</td>\n",
       "    </tr>\n",
       "  </tbody>\n",
       "</table>\n",
       "</div>"
      ],
      "text/plain": [
       "      edades nombres\n",
       "uno        1    juan\n",
       "dos        2     ana\n",
       "tres       3  carlos\n",
       "diez      10   maria"
      ]
     },
     "execution_count": 36,
     "metadata": {},
     "output_type": "execute_result"
    }
   ],
   "source": [
    "e = [\"juan\", \"ana\", \"carlos\", \"maria\"]\n",
    "p = pd.DataFrame({\"edades\": s, \"nombres\": e})\n",
    "p"
   ]
  },
  {
   "cell_type": "markdown",
   "id": "91966cd0-dedb-4cca-a920-90fa1695ec9d",
   "metadata": {},
   "source": [
    "## DataFrame: fundamentos y operaciones básicas"
   ]
  },
  {
   "cell_type": "markdown",
   "id": "7e90f09e-6ca8-4ce2-947a-60da50d58606",
   "metadata": {
    "jp-MarkdownHeadingCollapsed": true
   },
   "source": [
    "### Crear dataframe"
   ]
  },
  {
   "cell_type": "code",
   "execution_count": 50,
   "id": "a9724ca2-e6fe-4c1a-9d1d-b32a491750ad",
   "metadata": {},
   "outputs": [
    {
     "data": {
      "text/html": [
       "<div>\n",
       "<style scoped>\n",
       "    .dataframe tbody tr th:only-of-type {\n",
       "        vertical-align: middle;\n",
       "    }\n",
       "\n",
       "    .dataframe tbody tr th {\n",
       "        vertical-align: top;\n",
       "    }\n",
       "\n",
       "    .dataframe thead th {\n",
       "        text-align: right;\n",
       "    }\n",
       "</style>\n",
       "<table border=\"1\" class=\"dataframe\">\n",
       "  <thead>\n",
       "    <tr style=\"text-align: right;\">\n",
       "      <th></th>\n",
       "      <th>Nombre</th>\n",
       "      <th>Edad</th>\n",
       "      <th>Ciudad</th>\n",
       "    </tr>\n",
       "  </thead>\n",
       "  <tbody>\n",
       "    <tr>\n",
       "      <th>0</th>\n",
       "      <td>Ana</td>\n",
       "      <td>21</td>\n",
       "      <td>Buenos aires</td>\n",
       "    </tr>\n",
       "    <tr>\n",
       "      <th>1</th>\n",
       "      <td>Josué</td>\n",
       "      <td>19</td>\n",
       "      <td>Bogotá</td>\n",
       "    </tr>\n",
       "    <tr>\n",
       "      <th>2</th>\n",
       "      <td>Maria</td>\n",
       "      <td>20</td>\n",
       "      <td>San salvador</td>\n",
       "    </tr>\n",
       "    <tr>\n",
       "      <th>3</th>\n",
       "      <td>Ana</td>\n",
       "      <td>19</td>\n",
       "      <td>Santiago</td>\n",
       "    </tr>\n",
       "    <tr>\n",
       "      <th>4</th>\n",
       "      <td>Francisco</td>\n",
       "      <td>21</td>\n",
       "      <td>Buenos aires</td>\n",
       "    </tr>\n",
       "  </tbody>\n",
       "</table>\n",
       "</div>"
      ],
      "text/plain": [
       "      Nombre  Edad        Ciudad\n",
       "0        Ana    21  Buenos aires\n",
       "1      Josué    19        Bogotá\n",
       "2      Maria    20  San salvador\n",
       "3        Ana    19      Santiago\n",
       "4  Francisco    21  Buenos aires"
      ]
     },
     "execution_count": 50,
     "metadata": {},
     "output_type": "execute_result"
    }
   ],
   "source": [
    "data1 = [\n",
    "    {\"Nombre\": \"Ana\" , \"Edad\": 21 , \"Ciudad\": \"Buenos aires\"},\n",
    "    {\"Nombre\": \"Josué\" , \"Edad\": 19 , \"Ciudad\": \"Bogotá\"},\n",
    "    {\"Nombre\": \"Maria\" , \"Edad\": 20 , \"Ciudad\": \"San salvador\"},\n",
    "    {\"Nombre\": \"Ana\" , \"Edad\": 19 , \"Ciudad\": \"Santiago\"},\n",
    "    {\"Nombre\": \"Francisco\" , \"Edad\": 21 , \"Ciudad\": \"Buenos aires\"},\n",
    "]\n",
    "\n",
    "df1 = pd.DataFrame(data1)\n",
    "df1"
   ]
  },
  {
   "cell_type": "code",
   "execution_count": 43,
   "id": "04bcf88d-302a-48d2-aac6-21e941e72dd7",
   "metadata": {},
   "outputs": [
    {
     "data": {
      "text/html": [
       "<div>\n",
       "<style scoped>\n",
       "    .dataframe tbody tr th:only-of-type {\n",
       "        vertical-align: middle;\n",
       "    }\n",
       "\n",
       "    .dataframe tbody tr th {\n",
       "        vertical-align: top;\n",
       "    }\n",
       "\n",
       "    .dataframe thead th {\n",
       "        text-align: right;\n",
       "    }\n",
       "</style>\n",
       "<table border=\"1\" class=\"dataframe\">\n",
       "  <thead>\n",
       "    <tr style=\"text-align: right;\">\n",
       "      <th></th>\n",
       "      <th>nombre</th>\n",
       "      <th>edad</th>\n",
       "      <th>ciudad</th>\n",
       "    </tr>\n",
       "  </thead>\n",
       "  <tbody>\n",
       "    <tr>\n",
       "      <th>0</th>\n",
       "      <td>carlos</td>\n",
       "      <td>14</td>\n",
       "      <td>SS</td>\n",
       "    </tr>\n",
       "    <tr>\n",
       "      <th>1</th>\n",
       "      <td>sheily</td>\n",
       "      <td>22</td>\n",
       "      <td>SS</td>\n",
       "    </tr>\n",
       "    <tr>\n",
       "      <th>2</th>\n",
       "      <td>francisco</td>\n",
       "      <td>22</td>\n",
       "      <td>SS</td>\n",
       "    </tr>\n",
       "  </tbody>\n",
       "</table>\n",
       "</div>"
      ],
      "text/plain": [
       "      nombre  edad ciudad\n",
       "0     carlos    14     SS\n",
       "1     sheily    22     SS\n",
       "2  francisco    22     SS"
      ]
     },
     "execution_count": 43,
     "metadata": {},
     "output_type": "execute_result"
    }
   ],
   "source": [
    "data2 = {\n",
    "    \"nombre\": [\"carlos\", \"sheily\", \"francisco\"],\n",
    "    \"edad\": [14, 22, 22],\n",
    "    \"ciudad\": [\"SS\", \"SS\", \"SS\"]\n",
    "}\n",
    "\n",
    "df2 = pd.DataFrame(data2)\n",
    "df2"
   ]
  },
  {
   "cell_type": "markdown",
   "id": "43bd6d7b-c472-4585-9dd8-df552e7cf5f1",
   "metadata": {},
   "source": [
    "### Columnas"
   ]
  },
  {
   "cell_type": "markdown",
   "id": "30a0c3ec-fe59-441f-bd01-cb91d03e5c48",
   "metadata": {},
   "source": [
    "#### Acceder a columna"
   ]
  },
  {
   "cell_type": "code",
   "execution_count": 45,
   "id": "e1d178b5-344d-4a41-abc2-c3632e475218",
   "metadata": {},
   "outputs": [
    {
     "data": {
      "text/plain": [
       "0      Ana\n",
       "1    Josué\n",
       "2    Maria\n",
       "Name: Nombre, dtype: object"
      ]
     },
     "execution_count": 45,
     "metadata": {},
     "output_type": "execute_result"
    }
   ],
   "source": [
    "nombres = df1[\"Nombre\"]\n",
    "nombres"
   ]
  },
  {
   "cell_type": "code",
   "execution_count": null,
   "id": "310caac7-bb95-4d3c-935a-035cf361bd06",
   "metadata": {},
   "outputs": [],
   "source": [
    "nombres.iloc[:, [1, 2, 3]] #Seleccionar todos los registros de la columna 1, 2 y 3\n",
    "nombres[[\"col1\", \"col2\", \"col3\"]] # lo mismo"
   ]
  },
  {
   "cell_type": "markdown",
   "id": "97bbfe67-0c8b-449c-903d-c9317a7f3a61",
   "metadata": {
    "jp-MarkdownHeadingCollapsed": true
   },
   "source": [
    "#### Crear columna"
   ]
  },
  {
   "cell_type": "code",
   "execution_count": 51,
   "id": "3a09b5cc-0574-4bfb-b122-0fca6dde6f96",
   "metadata": {},
   "outputs": [
    {
     "data": {
      "text/html": [
       "<div>\n",
       "<style scoped>\n",
       "    .dataframe tbody tr th:only-of-type {\n",
       "        vertical-align: middle;\n",
       "    }\n",
       "\n",
       "    .dataframe tbody tr th {\n",
       "        vertical-align: top;\n",
       "    }\n",
       "\n",
       "    .dataframe thead th {\n",
       "        text-align: right;\n",
       "    }\n",
       "</style>\n",
       "<table border=\"1\" class=\"dataframe\">\n",
       "  <thead>\n",
       "    <tr style=\"text-align: right;\">\n",
       "      <th></th>\n",
       "      <th>Nombre</th>\n",
       "      <th>Edad</th>\n",
       "      <th>Ciudad</th>\n",
       "      <th>Salario</th>\n",
       "    </tr>\n",
       "  </thead>\n",
       "  <tbody>\n",
       "    <tr>\n",
       "      <th>0</th>\n",
       "      <td>Ana</td>\n",
       "      <td>21</td>\n",
       "      <td>Buenos aires</td>\n",
       "      <td>1200</td>\n",
       "    </tr>\n",
       "    <tr>\n",
       "      <th>1</th>\n",
       "      <td>Josué</td>\n",
       "      <td>19</td>\n",
       "      <td>Bogotá</td>\n",
       "      <td>790</td>\n",
       "    </tr>\n",
       "    <tr>\n",
       "      <th>2</th>\n",
       "      <td>Maria</td>\n",
       "      <td>20</td>\n",
       "      <td>San salvador</td>\n",
       "      <td>800</td>\n",
       "    </tr>\n",
       "    <tr>\n",
       "      <th>3</th>\n",
       "      <td>Ana</td>\n",
       "      <td>19</td>\n",
       "      <td>Santiago</td>\n",
       "      <td>820</td>\n",
       "    </tr>\n",
       "    <tr>\n",
       "      <th>4</th>\n",
       "      <td>Francisco</td>\n",
       "      <td>21</td>\n",
       "      <td>Buenos aires</td>\n",
       "      <td>2000</td>\n",
       "    </tr>\n",
       "  </tbody>\n",
       "</table>\n",
       "</div>"
      ],
      "text/plain": [
       "      Nombre  Edad        Ciudad  Salario\n",
       "0        Ana    21  Buenos aires     1200\n",
       "1      Josué    19        Bogotá      790\n",
       "2      Maria    20  San salvador      800\n",
       "3        Ana    19      Santiago      820\n",
       "4  Francisco    21  Buenos aires     2000"
      ]
     },
     "execution_count": 51,
     "metadata": {},
     "output_type": "execute_result"
    }
   ],
   "source": [
    "df1[\"Salario\"] = [1200, 790, 800, 820, 2000]\n",
    "df1"
   ]
  },
  {
   "cell_type": "markdown",
   "id": "6649c4b3-9a8e-4c51-bd08-7214e6aa4903",
   "metadata": {},
   "source": [
    "#### Eliminar columna"
   ]
  },
  {
   "cell_type": "code",
   "execution_count": 52,
   "id": "37c5ede9-018c-4a06-ab26-4c3cb11f0e15",
   "metadata": {},
   "outputs": [
    {
     "data": {
      "text/html": [
       "<div>\n",
       "<style scoped>\n",
       "    .dataframe tbody tr th:only-of-type {\n",
       "        vertical-align: middle;\n",
       "    }\n",
       "\n",
       "    .dataframe tbody tr th {\n",
       "        vertical-align: top;\n",
       "    }\n",
       "\n",
       "    .dataframe thead th {\n",
       "        text-align: right;\n",
       "    }\n",
       "</style>\n",
       "<table border=\"1\" class=\"dataframe\">\n",
       "  <thead>\n",
       "    <tr style=\"text-align: right;\">\n",
       "      <th></th>\n",
       "      <th>Nombre</th>\n",
       "      <th>Edad</th>\n",
       "      <th>Salario</th>\n",
       "    </tr>\n",
       "  </thead>\n",
       "  <tbody>\n",
       "    <tr>\n",
       "      <th>0</th>\n",
       "      <td>Ana</td>\n",
       "      <td>21</td>\n",
       "      <td>1200</td>\n",
       "    </tr>\n",
       "    <tr>\n",
       "      <th>1</th>\n",
       "      <td>Josué</td>\n",
       "      <td>19</td>\n",
       "      <td>790</td>\n",
       "    </tr>\n",
       "    <tr>\n",
       "      <th>2</th>\n",
       "      <td>Maria</td>\n",
       "      <td>20</td>\n",
       "      <td>800</td>\n",
       "    </tr>\n",
       "    <tr>\n",
       "      <th>3</th>\n",
       "      <td>Ana</td>\n",
       "      <td>19</td>\n",
       "      <td>820</td>\n",
       "    </tr>\n",
       "    <tr>\n",
       "      <th>4</th>\n",
       "      <td>Francisco</td>\n",
       "      <td>21</td>\n",
       "      <td>2000</td>\n",
       "    </tr>\n",
       "  </tbody>\n",
       "</table>\n",
       "</div>"
      ],
      "text/plain": [
       "      Nombre  Edad  Salario\n",
       "0        Ana    21     1200\n",
       "1      Josué    19      790\n",
       "2      Maria    20      800\n",
       "3        Ana    19      820\n",
       "4  Francisco    21     2000"
      ]
     },
     "execution_count": 52,
     "metadata": {},
     "output_type": "execute_result"
    }
   ],
   "source": [
    "df1.drop(\"Ciudad\", axis = 1, inplace=True)\n",
    "df1"
   ]
  },
  {
   "cell_type": "markdown",
   "id": "6b604b2d-9713-4e48-9696-fc4487cf9d45",
   "metadata": {},
   "source": [
    "### Filas"
   ]
  },
  {
   "cell_type": "markdown",
   "id": "b13b45e6-0751-4051-a285-faa0c024081b",
   "metadata": {
    "jp-MarkdownHeadingCollapsed": true
   },
   "source": [
    "#### Acceder a filas"
   ]
  },
  {
   "cell_type": "code",
   "execution_count": 49,
   "id": "a727fcc2-b26f-45a7-b368-621f02c71f8b",
   "metadata": {},
   "outputs": [
    {
     "data": {
      "text/plain": [
       "Nombre      Ana\n",
       "Edad         21\n",
       "Salario    1200\n",
       "Name: 0, dtype: object"
      ]
     },
     "execution_count": 49,
     "metadata": {},
     "output_type": "execute_result"
    }
   ],
   "source": [
    "primera_fila = df1.iloc[0]\n",
    "primera_fila"
   ]
  },
  {
   "cell_type": "code",
   "execution_count": 55,
   "id": "a0c72f12-cd79-49d7-9f6d-50d1a9995c3e",
   "metadata": {},
   "outputs": [
    {
     "data": {
      "text/html": [
       "<div>\n",
       "<style scoped>\n",
       "    .dataframe tbody tr th:only-of-type {\n",
       "        vertical-align: middle;\n",
       "    }\n",
       "\n",
       "    .dataframe tbody tr th {\n",
       "        vertical-align: top;\n",
       "    }\n",
       "\n",
       "    .dataframe thead th {\n",
       "        text-align: right;\n",
       "    }\n",
       "</style>\n",
       "<table border=\"1\" class=\"dataframe\">\n",
       "  <thead>\n",
       "    <tr style=\"text-align: right;\">\n",
       "      <th></th>\n",
       "      <th>Nombre</th>\n",
       "      <th>Edad</th>\n",
       "      <th>Salario</th>\n",
       "    </tr>\n",
       "  </thead>\n",
       "  <tbody>\n",
       "    <tr>\n",
       "      <th>0</th>\n",
       "      <td>Ana</td>\n",
       "      <td>21</td>\n",
       "      <td>1200</td>\n",
       "    </tr>\n",
       "    <tr>\n",
       "      <th>3</th>\n",
       "      <td>Ana</td>\n",
       "      <td>19</td>\n",
       "      <td>820</td>\n",
       "    </tr>\n",
       "  </tbody>\n",
       "</table>\n",
       "</div>"
      ],
      "text/plain": [
       "  Nombre  Edad  Salario\n",
       "0    Ana    21     1200\n",
       "3    Ana    19      820"
      ]
     },
     "execution_count": 55,
     "metadata": {},
     "output_type": "execute_result"
    }
   ],
   "source": [
    "fila_anas = df1.loc[df1[\"Nombre\"] == \"Ana\"]\n",
    "fila_anas"
   ]
  },
  {
   "cell_type": "markdown",
   "id": "7b202f79-270c-4692-883b-4883e8fb32fa",
   "metadata": {
    "jp-MarkdownHeadingCollapsed": true
   },
   "source": [
    "#### Ordenar filas por alguna columna"
   ]
  },
  {
   "cell_type": "code",
   "execution_count": 56,
   "id": "00ed583e-f821-4b23-9428-382af74edfa0",
   "metadata": {},
   "outputs": [
    {
     "data": {
      "text/html": [
       "<div>\n",
       "<style scoped>\n",
       "    .dataframe tbody tr th:only-of-type {\n",
       "        vertical-align: middle;\n",
       "    }\n",
       "\n",
       "    .dataframe tbody tr th {\n",
       "        vertical-align: top;\n",
       "    }\n",
       "\n",
       "    .dataframe thead th {\n",
       "        text-align: right;\n",
       "    }\n",
       "</style>\n",
       "<table border=\"1\" class=\"dataframe\">\n",
       "  <thead>\n",
       "    <tr style=\"text-align: right;\">\n",
       "      <th></th>\n",
       "      <th>Nombre</th>\n",
       "      <th>Edad</th>\n",
       "      <th>Salario</th>\n",
       "    </tr>\n",
       "  </thead>\n",
       "  <tbody>\n",
       "    <tr>\n",
       "      <th>1</th>\n",
       "      <td>Josué</td>\n",
       "      <td>19</td>\n",
       "      <td>790</td>\n",
       "    </tr>\n",
       "    <tr>\n",
       "      <th>2</th>\n",
       "      <td>Maria</td>\n",
       "      <td>20</td>\n",
       "      <td>800</td>\n",
       "    </tr>\n",
       "    <tr>\n",
       "      <th>3</th>\n",
       "      <td>Ana</td>\n",
       "      <td>19</td>\n",
       "      <td>820</td>\n",
       "    </tr>\n",
       "    <tr>\n",
       "      <th>0</th>\n",
       "      <td>Ana</td>\n",
       "      <td>21</td>\n",
       "      <td>1200</td>\n",
       "    </tr>\n",
       "    <tr>\n",
       "      <th>4</th>\n",
       "      <td>Francisco</td>\n",
       "      <td>21</td>\n",
       "      <td>2000</td>\n",
       "    </tr>\n",
       "  </tbody>\n",
       "</table>\n",
       "</div>"
      ],
      "text/plain": [
       "      Nombre  Edad  Salario\n",
       "1      Josué    19      790\n",
       "2      Maria    20      800\n",
       "3        Ana    19      820\n",
       "0        Ana    21     1200\n",
       "4  Francisco    21     2000"
      ]
     },
     "execution_count": 56,
     "metadata": {},
     "output_type": "execute_result"
    }
   ],
   "source": [
    "df1.sort_values(by=\"Salario\", ascending=True)"
   ]
  },
  {
   "cell_type": "markdown",
   "id": "a3dd12c3-c8bb-4732-a7fc-8d74cb34d1dd",
   "metadata": {
    "jp-MarkdownHeadingCollapsed": true
   },
   "source": [
    "#### Borrar filas con datos vacios"
   ]
  },
  {
   "cell_type": "code",
   "execution_count": 58,
   "id": "cb06ad53-9dc4-40ca-a151-f119db4cbdee",
   "metadata": {},
   "outputs": [
    {
     "data": {
      "text/html": [
       "<div>\n",
       "<style scoped>\n",
       "    .dataframe tbody tr th:only-of-type {\n",
       "        vertical-align: middle;\n",
       "    }\n",
       "\n",
       "    .dataframe tbody tr th {\n",
       "        vertical-align: top;\n",
       "    }\n",
       "\n",
       "    .dataframe thead th {\n",
       "        text-align: right;\n",
       "    }\n",
       "</style>\n",
       "<table border=\"1\" class=\"dataframe\">\n",
       "  <thead>\n",
       "    <tr style=\"text-align: right;\">\n",
       "      <th></th>\n",
       "      <th>Nombre</th>\n",
       "      <th>Edad</th>\n",
       "      <th>Salario</th>\n",
       "    </tr>\n",
       "  </thead>\n",
       "  <tbody>\n",
       "    <tr>\n",
       "      <th>0</th>\n",
       "      <td>Ana</td>\n",
       "      <td>21.0</td>\n",
       "      <td>2000.0</td>\n",
       "    </tr>\n",
       "    <tr>\n",
       "      <th>1</th>\n",
       "      <td>Manuel</td>\n",
       "      <td>23.0</td>\n",
       "      <td>700.0</td>\n",
       "    </tr>\n",
       "    <tr>\n",
       "      <th>2</th>\n",
       "      <td>Victor</td>\n",
       "      <td>22.0</td>\n",
       "      <td>NaN</td>\n",
       "    </tr>\n",
       "    <tr>\n",
       "      <th>3</th>\n",
       "      <td>Josue</td>\n",
       "      <td>20.0</td>\n",
       "      <td>340.0</td>\n",
       "    </tr>\n",
       "    <tr>\n",
       "      <th>4</th>\n",
       "      <td>Carlos</td>\n",
       "      <td>NaN</td>\n",
       "      <td>NaN</td>\n",
       "    </tr>\n",
       "    <tr>\n",
       "      <th>5</th>\n",
       "      <td>Eduardo</td>\n",
       "      <td>19.0</td>\n",
       "      <td>400.0</td>\n",
       "    </tr>\n",
       "    <tr>\n",
       "      <th>6</th>\n",
       "      <td>Maria</td>\n",
       "      <td>NaN</td>\n",
       "      <td>2300.0</td>\n",
       "    </tr>\n",
       "  </tbody>\n",
       "</table>\n",
       "</div>"
      ],
      "text/plain": [
       "    Nombre  Edad  Salario\n",
       "0      Ana  21.0   2000.0\n",
       "1   Manuel  23.0    700.0\n",
       "2   Victor  22.0      NaN\n",
       "3    Josue  20.0    340.0\n",
       "4   Carlos   NaN      NaN\n",
       "5  Eduardo  19.0    400.0\n",
       "6    Maria   NaN   2300.0"
      ]
     },
     "execution_count": 58,
     "metadata": {},
     "output_type": "execute_result"
    }
   ],
   "source": [
    "data = {\n",
    "    \"Nombre\": [\"Ana\", \"Manuel\", \"Victor\", \"Josue\", \"Carlos\", \"Eduardo\", \"Maria\"],\n",
    "    \"Edad\": [21, 23, 22, 20, None, 19, None],\n",
    "    \"Salario\": [2000, 700, None, 340, None, 400, 2300]\n",
    "}\n",
    "\n",
    "df = pd.DataFrame(data)\n",
    "df"
   ]
  },
  {
   "cell_type": "code",
   "execution_count": 60,
   "id": "baeaceda-f271-47ce-bdc5-06fc88fec2d4",
   "metadata": {},
   "outputs": [
    {
     "data": {
      "text/html": [
       "<div>\n",
       "<style scoped>\n",
       "    .dataframe tbody tr th:only-of-type {\n",
       "        vertical-align: middle;\n",
       "    }\n",
       "\n",
       "    .dataframe tbody tr th {\n",
       "        vertical-align: top;\n",
       "    }\n",
       "\n",
       "    .dataframe thead th {\n",
       "        text-align: right;\n",
       "    }\n",
       "</style>\n",
       "<table border=\"1\" class=\"dataframe\">\n",
       "  <thead>\n",
       "    <tr style=\"text-align: right;\">\n",
       "      <th></th>\n",
       "      <th>Nombre</th>\n",
       "      <th>Edad</th>\n",
       "      <th>Salario</th>\n",
       "    </tr>\n",
       "  </thead>\n",
       "  <tbody>\n",
       "    <tr>\n",
       "      <th>0</th>\n",
       "      <td>Ana</td>\n",
       "      <td>21.0</td>\n",
       "      <td>2000.0</td>\n",
       "    </tr>\n",
       "    <tr>\n",
       "      <th>1</th>\n",
       "      <td>Manuel</td>\n",
       "      <td>23.0</td>\n",
       "      <td>700.0</td>\n",
       "    </tr>\n",
       "    <tr>\n",
       "      <th>3</th>\n",
       "      <td>Josue</td>\n",
       "      <td>20.0</td>\n",
       "      <td>340.0</td>\n",
       "    </tr>\n",
       "    <tr>\n",
       "      <th>5</th>\n",
       "      <td>Eduardo</td>\n",
       "      <td>19.0</td>\n",
       "      <td>400.0</td>\n",
       "    </tr>\n",
       "  </tbody>\n",
       "</table>\n",
       "</div>"
      ],
      "text/plain": [
       "    Nombre  Edad  Salario\n",
       "0      Ana  21.0   2000.0\n",
       "1   Manuel  23.0    700.0\n",
       "3    Josue  20.0    340.0\n",
       "5  Eduardo  19.0    400.0"
      ]
     },
     "execution_count": 60,
     "metadata": {},
     "output_type": "execute_result"
    }
   ],
   "source": [
    "df_limpio = df.dropna()\n",
    "df_limpio"
   ]
  },
  {
   "cell_type": "markdown",
   "id": "d3ab35b7-7679-401f-96e6-4b3a4794edfd",
   "metadata": {},
   "source": [
    "#### Modificar datos vacios con datos por defecto"
   ]
  },
  {
   "cell_type": "code",
   "execution_count": 63,
   "id": "3cae7f5b-5cbc-419f-9156-4fc55d54d0a5",
   "metadata": {},
   "outputs": [
    {
     "data": {
      "text/html": [
       "<div>\n",
       "<style scoped>\n",
       "    .dataframe tbody tr th:only-of-type {\n",
       "        vertical-align: middle;\n",
       "    }\n",
       "\n",
       "    .dataframe tbody tr th {\n",
       "        vertical-align: top;\n",
       "    }\n",
       "\n",
       "    .dataframe thead th {\n",
       "        text-align: right;\n",
       "    }\n",
       "</style>\n",
       "<table border=\"1\" class=\"dataframe\">\n",
       "  <thead>\n",
       "    <tr style=\"text-align: right;\">\n",
       "      <th></th>\n",
       "      <th>Nombre</th>\n",
       "      <th>Edad</th>\n",
       "      <th>Salario</th>\n",
       "    </tr>\n",
       "  </thead>\n",
       "  <tbody>\n",
       "    <tr>\n",
       "      <th>0</th>\n",
       "      <td>Ana</td>\n",
       "      <td>21.0</td>\n",
       "      <td>2000.0</td>\n",
       "    </tr>\n",
       "    <tr>\n",
       "      <th>1</th>\n",
       "      <td>Manuel</td>\n",
       "      <td>23.0</td>\n",
       "      <td>700.0</td>\n",
       "    </tr>\n",
       "    <tr>\n",
       "      <th>2</th>\n",
       "      <td>Victor</td>\n",
       "      <td>22.0</td>\n",
       "      <td>0.0</td>\n",
       "    </tr>\n",
       "    <tr>\n",
       "      <th>3</th>\n",
       "      <td>Josue</td>\n",
       "      <td>20.0</td>\n",
       "      <td>340.0</td>\n",
       "    </tr>\n",
       "    <tr>\n",
       "      <th>4</th>\n",
       "      <td>Carlos</td>\n",
       "      <td>20.0</td>\n",
       "      <td>0.0</td>\n",
       "    </tr>\n",
       "    <tr>\n",
       "      <th>5</th>\n",
       "      <td>Eduardo</td>\n",
       "      <td>19.0</td>\n",
       "      <td>400.0</td>\n",
       "    </tr>\n",
       "    <tr>\n",
       "      <th>6</th>\n",
       "      <td>Maria</td>\n",
       "      <td>20.0</td>\n",
       "      <td>2300.0</td>\n",
       "    </tr>\n",
       "  </tbody>\n",
       "</table>\n",
       "</div>"
      ],
      "text/plain": [
       "    Nombre  Edad  Salario\n",
       "0      Ana  21.0   2000.0\n",
       "1   Manuel  23.0    700.0\n",
       "2   Victor  22.0      0.0\n",
       "3    Josue  20.0    340.0\n",
       "4   Carlos  20.0      0.0\n",
       "5  Eduardo  19.0    400.0\n",
       "6    Maria  20.0   2300.0"
      ]
     },
     "execution_count": 63,
     "metadata": {},
     "output_type": "execute_result"
    }
   ],
   "source": [
    "df.fillna(value={\"Edad\": 20, \"Salario\": 0}, inplace=True)\n",
    "df"
   ]
  },
  {
   "cell_type": "markdown",
   "id": "406aa881-5ef0-4efa-a386-9ae0f383771f",
   "metadata": {
    "jp-MarkdownHeadingCollapsed": true
   },
   "source": [
    "## Trabajar con datos temporales en series y dataframes"
   ]
  },
  {
   "cell_type": "markdown",
   "id": "b818db62-d556-492e-9a26-63b0d9bfa1e2",
   "metadata": {
    "jp-MarkdownHeadingCollapsed": true
   },
   "source": [
    "### Crear series con datos temporales como indice"
   ]
  },
  {
   "cell_type": "code",
   "execution_count": 64,
   "id": "4c7cd7b9-29ad-40a1-8ba2-7ce09379fbd3",
   "metadata": {},
   "outputs": [
    {
     "data": {
      "text/plain": [
       "2024-11-01    10\n",
       "2024-11-02    20\n",
       "2024-11-03    30\n",
       "2024-11-04    40\n",
       "2024-11-05    50\n",
       "2024-11-06    60\n",
       "Freq: D, dtype: int64"
      ]
     },
     "execution_count": 64,
     "metadata": {},
     "output_type": "execute_result"
    }
   ],
   "source": [
    "fechas = pd.date_range(start=\"2024-11-01\", periods=6, freq=\"D\")\n",
    "valores = [10, 20, 30, 40, 50, 60]\n",
    "\n",
    "serie_temporal = pd.Series(valores, index=fechas)\n",
    "serie_temporal"
   ]
  },
  {
   "cell_type": "markdown",
   "id": "5ee202c6-6e2a-42a5-85aa-9c4e58e5772b",
   "metadata": {},
   "source": [
    "#### Acceder a valores de series por fechas"
   ]
  },
  {
   "cell_type": "code",
   "execution_count": 66,
   "id": "1c3dce59-4f1c-4b76-8b0f-3b17a44da5ba",
   "metadata": {},
   "outputs": [
    {
     "name": "stdout",
     "output_type": "stream",
     "text": [
      "20\n",
      "2024-11-03    30\n",
      "2024-11-04    40\n",
      "2024-11-05    50\n",
      "Freq: D, dtype: int64\n",
      "2024-11-03    30\n",
      "2024-11-05    50\n",
      "Freq: 2D, dtype: int64\n"
     ]
    }
   ],
   "source": [
    "print(serie_temporal[\"2024-11-02\"])\n",
    "print(serie_temporal[\"2024-11-03\":\"2024-11-05\"])\n",
    "print(serie_temporal[\"2024-11-03\":\"2024-11-05\":2])"
   ]
  },
  {
   "cell_type": "markdown",
   "id": "086dc3f7-3749-4a4a-8fb9-f7db60f777f2",
   "metadata": {
    "jp-MarkdownHeadingCollapsed": true
   },
   "source": [
    "### Crear dataframes con valores temporales como indice"
   ]
  },
  {
   "cell_type": "code",
   "execution_count": 73,
   "id": "7f19a0b3-989f-423c-ad23-7084548b4237",
   "metadata": {},
   "outputs": [
    {
     "data": {
      "text/html": [
       "<div>\n",
       "<style scoped>\n",
       "    .dataframe tbody tr th:only-of-type {\n",
       "        vertical-align: middle;\n",
       "    }\n",
       "\n",
       "    .dataframe tbody tr th {\n",
       "        vertical-align: top;\n",
       "    }\n",
       "\n",
       "    .dataframe thead th {\n",
       "        text-align: right;\n",
       "    }\n",
       "</style>\n",
       "<table border=\"1\" class=\"dataframe\">\n",
       "  <thead>\n",
       "    <tr style=\"text-align: right;\">\n",
       "      <th></th>\n",
       "      <th>fecha</th>\n",
       "      <th>valores</th>\n",
       "    </tr>\n",
       "  </thead>\n",
       "  <tbody>\n",
       "    <tr>\n",
       "      <th>0</th>\n",
       "      <td>2024-11-01</td>\n",
       "      <td>10</td>\n",
       "    </tr>\n",
       "    <tr>\n",
       "      <th>1</th>\n",
       "      <td>2024-11-02</td>\n",
       "      <td>20</td>\n",
       "    </tr>\n",
       "    <tr>\n",
       "      <th>2</th>\n",
       "      <td>2024-11-03</td>\n",
       "      <td>30</td>\n",
       "    </tr>\n",
       "    <tr>\n",
       "      <th>3</th>\n",
       "      <td>2024-11-04</td>\n",
       "      <td>40</td>\n",
       "    </tr>\n",
       "    <tr>\n",
       "      <th>4</th>\n",
       "      <td>2024-11-05</td>\n",
       "      <td>50</td>\n",
       "    </tr>\n",
       "    <tr>\n",
       "      <th>5</th>\n",
       "      <td>2024-11-06</td>\n",
       "      <td>60</td>\n",
       "    </tr>\n",
       "  </tbody>\n",
       "</table>\n",
       "</div>"
      ],
      "text/plain": [
       "       fecha  valores\n",
       "0 2024-11-01       10\n",
       "1 2024-11-02       20\n",
       "2 2024-11-03       30\n",
       "3 2024-11-04       40\n",
       "4 2024-11-05       50\n",
       "5 2024-11-06       60"
      ]
     },
     "execution_count": 73,
     "metadata": {},
     "output_type": "execute_result"
    }
   ],
   "source": [
    "data = {\n",
    "    \"fecha\": fechas,\n",
    "    \"valores\": valores\n",
    "}\n",
    "\n",
    "df = pd.DataFrame(data)\n",
    "df"
   ]
  },
  {
   "cell_type": "code",
   "execution_count": 74,
   "id": "59e7a124-ac93-4a72-bb97-0795377f80ab",
   "metadata": {},
   "outputs": [
    {
     "data": {
      "text/html": [
       "<div>\n",
       "<style scoped>\n",
       "    .dataframe tbody tr th:only-of-type {\n",
       "        vertical-align: middle;\n",
       "    }\n",
       "\n",
       "    .dataframe tbody tr th {\n",
       "        vertical-align: top;\n",
       "    }\n",
       "\n",
       "    .dataframe thead th {\n",
       "        text-align: right;\n",
       "    }\n",
       "</style>\n",
       "<table border=\"1\" class=\"dataframe\">\n",
       "  <thead>\n",
       "    <tr style=\"text-align: right;\">\n",
       "      <th></th>\n",
       "      <th>valores</th>\n",
       "    </tr>\n",
       "    <tr>\n",
       "      <th>fecha</th>\n",
       "      <th></th>\n",
       "    </tr>\n",
       "  </thead>\n",
       "  <tbody>\n",
       "    <tr>\n",
       "      <th>2024-11-01</th>\n",
       "      <td>10</td>\n",
       "    </tr>\n",
       "    <tr>\n",
       "      <th>2024-11-02</th>\n",
       "      <td>20</td>\n",
       "    </tr>\n",
       "    <tr>\n",
       "      <th>2024-11-03</th>\n",
       "      <td>30</td>\n",
       "    </tr>\n",
       "    <tr>\n",
       "      <th>2024-11-04</th>\n",
       "      <td>40</td>\n",
       "    </tr>\n",
       "    <tr>\n",
       "      <th>2024-11-05</th>\n",
       "      <td>50</td>\n",
       "    </tr>\n",
       "    <tr>\n",
       "      <th>2024-11-06</th>\n",
       "      <td>60</td>\n",
       "    </tr>\n",
       "  </tbody>\n",
       "</table>\n",
       "</div>"
      ],
      "text/plain": [
       "            valores\n",
       "fecha              \n",
       "2024-11-01       10\n",
       "2024-11-02       20\n",
       "2024-11-03       30\n",
       "2024-11-04       40\n",
       "2024-11-05       50\n",
       "2024-11-06       60"
      ]
     },
     "execution_count": 74,
     "metadata": {},
     "output_type": "execute_result"
    }
   ],
   "source": [
    "df.set_index(\"fecha\", inplace=True)\n",
    "df"
   ]
  },
  {
   "cell_type": "markdown",
   "id": "7d5da84d-b897-4aa2-9150-3f0d9eaa580d",
   "metadata": {},
   "source": [
    "#### Obtener promedio de cada mes"
   ]
  },
  {
   "cell_type": "code",
   "execution_count": 76,
   "id": "29b84e0d-dcde-4a20-971c-e4247fbfc0b6",
   "metadata": {},
   "outputs": [
    {
     "data": {
      "text/html": [
       "<div>\n",
       "<style scoped>\n",
       "    .dataframe tbody tr th:only-of-type {\n",
       "        vertical-align: middle;\n",
       "    }\n",
       "\n",
       "    .dataframe tbody tr th {\n",
       "        vertical-align: top;\n",
       "    }\n",
       "\n",
       "    .dataframe thead th {\n",
       "        text-align: right;\n",
       "    }\n",
       "</style>\n",
       "<table border=\"1\" class=\"dataframe\">\n",
       "  <thead>\n",
       "    <tr style=\"text-align: right;\">\n",
       "      <th></th>\n",
       "      <th>valores</th>\n",
       "    </tr>\n",
       "    <tr>\n",
       "      <th>fecha</th>\n",
       "      <th></th>\n",
       "    </tr>\n",
       "  </thead>\n",
       "  <tbody>\n",
       "    <tr>\n",
       "      <th>2024-11-30</th>\n",
       "      <td>35.0</td>\n",
       "    </tr>\n",
       "  </tbody>\n",
       "</table>\n",
       "</div>"
      ],
      "text/plain": [
       "            valores\n",
       "fecha              \n",
       "2024-11-30     35.0"
      ]
     },
     "execution_count": 76,
     "metadata": {},
     "output_type": "execute_result"
    }
   ],
   "source": [
    "# Hacer un agrupamiento por mes y obtener la media:\n",
    "\n",
    "media_mensual = df.resample(\"ME\").mean()\n",
    "media_mensual\n",
    "\n",
    "# Si tuvieramos mas fechas, se veria la media de cada mes"
   ]
  },
  {
   "cell_type": "markdown",
   "id": "7124798f-9cbd-4c8a-81bd-d931eb2fddba",
   "metadata": {},
   "source": [
    "#### Crear columnas con valores desplazados y diferenciaentre columna"
   ]
  },
  {
   "cell_type": "code",
   "execution_count": 86,
   "id": "8d01f43a-3bac-46fc-a73d-ea320ab9e477",
   "metadata": {},
   "outputs": [
    {
     "data": {
      "text/html": [
       "<div>\n",
       "<style scoped>\n",
       "    .dataframe tbody tr th:only-of-type {\n",
       "        vertical-align: middle;\n",
       "    }\n",
       "\n",
       "    .dataframe tbody tr th {\n",
       "        vertical-align: top;\n",
       "    }\n",
       "\n",
       "    .dataframe thead th {\n",
       "        text-align: right;\n",
       "    }\n",
       "</style>\n",
       "<table border=\"1\" class=\"dataframe\">\n",
       "  <thead>\n",
       "    <tr style=\"text-align: right;\">\n",
       "      <th></th>\n",
       "      <th>valores</th>\n",
       "      <th>valores desplazados</th>\n",
       "      <th>diferencia</th>\n",
       "    </tr>\n",
       "    <tr>\n",
       "      <th>fecha</th>\n",
       "      <th></th>\n",
       "      <th></th>\n",
       "      <th></th>\n",
       "    </tr>\n",
       "  </thead>\n",
       "  <tbody>\n",
       "    <tr>\n",
       "      <th>2024-11-01</th>\n",
       "      <td>10</td>\n",
       "      <td>NaN</td>\n",
       "      <td>NaN</td>\n",
       "    </tr>\n",
       "    <tr>\n",
       "      <th>2024-11-02</th>\n",
       "      <td>20</td>\n",
       "      <td>10.0</td>\n",
       "      <td>10.0</td>\n",
       "    </tr>\n",
       "    <tr>\n",
       "      <th>2024-11-03</th>\n",
       "      <td>30</td>\n",
       "      <td>20.0</td>\n",
       "      <td>10.0</td>\n",
       "    </tr>\n",
       "    <tr>\n",
       "      <th>2024-11-04</th>\n",
       "      <td>40</td>\n",
       "      <td>30.0</td>\n",
       "      <td>10.0</td>\n",
       "    </tr>\n",
       "    <tr>\n",
       "      <th>2024-11-05</th>\n",
       "      <td>50</td>\n",
       "      <td>40.0</td>\n",
       "      <td>10.0</td>\n",
       "    </tr>\n",
       "    <tr>\n",
       "      <th>2024-11-06</th>\n",
       "      <td>60</td>\n",
       "      <td>50.0</td>\n",
       "      <td>10.0</td>\n",
       "    </tr>\n",
       "  </tbody>\n",
       "</table>\n",
       "</div>"
      ],
      "text/plain": [
       "            valores  valores desplazados  diferencia\n",
       "fecha                                               \n",
       "2024-11-01       10                  NaN         NaN\n",
       "2024-11-02       20                 10.0        10.0\n",
       "2024-11-03       30                 20.0        10.0\n",
       "2024-11-04       40                 30.0        10.0\n",
       "2024-11-05       50                 40.0        10.0\n",
       "2024-11-06       60                 50.0        10.0"
      ]
     },
     "execution_count": 86,
     "metadata": {},
     "output_type": "execute_result"
    }
   ],
   "source": [
    "df[\"valores desplazados\"] = df[\"valores\"].shift(1)\n",
    "df[\"diferencia\"] = df[\"valores\"].diff()\n",
    "df"
   ]
  },
  {
   "cell_type": "markdown",
   "id": "fea89cc8-a70d-49ae-abe0-483f76dc503d",
   "metadata": {},
   "source": [
    "## Index object"
   ]
  },
  {
   "cell_type": "code",
   "execution_count": 12,
   "id": "4446da89-32b6-4378-824e-294384ccd386",
   "metadata": {},
   "outputs": [
    {
     "data": {
      "text/html": [
       "<div>\n",
       "<style scoped>\n",
       "    .dataframe tbody tr th:only-of-type {\n",
       "        vertical-align: middle;\n",
       "    }\n",
       "\n",
       "    .dataframe tbody tr th {\n",
       "        vertical-align: top;\n",
       "    }\n",
       "\n",
       "    .dataframe thead th {\n",
       "        text-align: right;\n",
       "    }\n",
       "</style>\n",
       "<table border=\"1\" class=\"dataframe\">\n",
       "  <thead>\n",
       "    <tr style=\"text-align: right;\">\n",
       "      <th></th>\n",
       "      <th>Precio</th>\n",
       "    </tr>\n",
       "    <tr>\n",
       "      <th>Producto</th>\n",
       "      <th></th>\n",
       "    </tr>\n",
       "  </thead>\n",
       "  <tbody>\n",
       "    <tr>\n",
       "      <th>Manzanas</th>\n",
       "      <td>100</td>\n",
       "    </tr>\n",
       "    <tr>\n",
       "      <th>Naranjas</th>\n",
       "      <td>80</td>\n",
       "    </tr>\n",
       "    <tr>\n",
       "      <th>Plátanos</th>\n",
       "      <td>60</td>\n",
       "    </tr>\n",
       "    <tr>\n",
       "      <th>Uvas</th>\n",
       "      <td>120</td>\n",
       "    </tr>\n",
       "    <tr>\n",
       "      <th>Peras</th>\n",
       "      <td>90</td>\n",
       "    </tr>\n",
       "  </tbody>\n",
       "</table>\n",
       "</div>"
      ],
      "text/plain": [
       "          Precio\n",
       "Producto        \n",
       "Manzanas     100\n",
       "Naranjas      80\n",
       "Plátanos      60\n",
       "Uvas         120\n",
       "Peras         90"
      ]
     },
     "execution_count": 12,
     "metadata": {},
     "output_type": "execute_result"
    }
   ],
   "source": [
    "data = {\n",
    "    'Producto': ['Manzanas', 'Naranjas', 'Plátanos', 'Uvas', 'Peras'],\n",
    "    'Precio': [100, 80, 60, 120, 90]\n",
    "}\n",
    "df = pd.DataFrame(data)\n",
    "df.set_index('Producto', inplace=True)\n",
    "df"
   ]
  },
  {
   "cell_type": "markdown",
   "id": "fdda7a4d-3daa-4b3c-a6dd-4115b23c5860",
   "metadata": {},
   "source": [
    "### Acceder a un elemento por el indice"
   ]
  },
  {
   "cell_type": "code",
   "execution_count": 13,
   "id": "a318094c-aed6-488f-a48c-a3b7ce8ce06f",
   "metadata": {},
   "outputs": [
    {
     "name": "stdout",
     "output_type": "stream",
     "text": [
      "Precio    120\n",
      "Name: Uvas, dtype: int64\n"
     ]
    }
   ],
   "source": [
    "precio_uvas = df.loc['Uvas']\n",
    "print(precio_uvas)"
   ]
  },
  {
   "cell_type": "markdown",
   "id": "091842b3-7400-44b1-a7cd-331fa448cad7",
   "metadata": {},
   "source": [
    "### Cambiar orden de los indices"
   ]
  },
  {
   "cell_type": "code",
   "execution_count": 6,
   "id": "bf82541b-a279-429c-a042-4315a08cb762",
   "metadata": {},
   "outputs": [
    {
     "name": "stdout",
     "output_type": "stream",
     "text": [
      "          Precio\n",
      "Producto        \n",
      "Uvas       120.0\n",
      "Manzanas   100.0\n",
      "Naranjas    80.0\n",
      "Peras       90.0\n",
      "Plátanos    60.0\n",
      "Melones      NaN\n"
     ]
    }
   ],
   "source": [
    "nuevo_orden = ['Uvas', 'Manzanas', 'Naranjas', 'Peras', 'Plátanos', 'Melones']\n",
    "df_reindexado = df.reindex(nuevo_orden)\n",
    "print(df_reindexado)"
   ]
  },
  {
   "cell_type": "markdown",
   "id": "f66f9acd-0cb9-492e-940b-839e837c4134",
   "metadata": {},
   "source": [
    "### Ver que indices se intersectan entre ambos elementos"
   ]
  },
  {
   "cell_type": "code",
   "execution_count": 7,
   "id": "c929ab3c-91a3-43b7-9207-3b91308bd5d0",
   "metadata": {},
   "outputs": [
    {
     "name": "stdout",
     "output_type": "stream",
     "text": [
      "Index(['Manzanas', 'Peras', 'Melones'], dtype='object')\n",
      "Index(['Manzanas', 'Peras'], dtype='object')\n"
     ]
    }
   ],
   "source": [
    "index2 = pd.Index(['Manzanas', 'Peras', 'Melones'])\n",
    "interseccion = df.index.intersection(index2)\n",
    "print(index2)\n",
    "print(interseccion)"
   ]
  },
  {
   "cell_type": "code",
   "execution_count": 14,
   "id": "4a816b06-c42a-4162-b13e-dd9fdabe71fd",
   "metadata": {},
   "outputs": [
    {
     "data": {
      "text/html": [
       "<div>\n",
       "<style scoped>\n",
       "    .dataframe tbody tr th:only-of-type {\n",
       "        vertical-align: middle;\n",
       "    }\n",
       "\n",
       "    .dataframe tbody tr th {\n",
       "        vertical-align: top;\n",
       "    }\n",
       "\n",
       "    .dataframe thead th {\n",
       "        text-align: right;\n",
       "    }\n",
       "</style>\n",
       "<table border=\"1\" class=\"dataframe\">\n",
       "  <thead>\n",
       "    <tr style=\"text-align: right;\">\n",
       "      <th></th>\n",
       "      <th>Precio</th>\n",
       "    </tr>\n",
       "    <tr>\n",
       "      <th>Producto</th>\n",
       "      <th></th>\n",
       "    </tr>\n",
       "  </thead>\n",
       "  <tbody>\n",
       "    <tr>\n",
       "      <th>Manzanas</th>\n",
       "      <td>100</td>\n",
       "    </tr>\n",
       "    <tr>\n",
       "      <th>Naranjas</th>\n",
       "      <td>80</td>\n",
       "    </tr>\n",
       "    <tr>\n",
       "      <th>Plátanos</th>\n",
       "      <td>60</td>\n",
       "    </tr>\n",
       "    <tr>\n",
       "      <th>Uvas</th>\n",
       "      <td>120</td>\n",
       "    </tr>\n",
       "    <tr>\n",
       "      <th>Peras</th>\n",
       "      <td>90</td>\n",
       "    </tr>\n",
       "  </tbody>\n",
       "</table>\n",
       "</div>"
      ],
      "text/plain": [
       "          Precio\n",
       "Producto        \n",
       "Manzanas     100\n",
       "Naranjas      80\n",
       "Plátanos      60\n",
       "Uvas         120\n",
       "Peras         90"
      ]
     },
     "execution_count": 14,
     "metadata": {},
     "output_type": "execute_result"
    }
   ],
   "source": [
    "df"
   ]
  },
  {
   "cell_type": "code",
   "execution_count": 9,
   "id": "2f9b45fa-b687-41a9-b94e-275f1f77d026",
   "metadata": {},
   "outputs": [],
   "source": [
    "#### Eliminar filas o columnas"
   ]
  },
  {
   "cell_type": "code",
   "execution_count": 10,
   "id": "f161368b-272b-457d-8643-439bb14627e6",
   "metadata": {},
   "outputs": [],
   "source": [
    "# Eliminar filas por indice\n",
    "df.drop(index=\"Uvas\", axis=0, inplace=True)\n",
    "\n",
    "# Eliminar columna\n",
    "df.drop(\"Precio\", axis=1, inplace=True)"
   ]
  },
  {
   "cell_type": "code",
   "execution_count": 20,
   "id": "14682046-6f73-4a6e-8847-a944a06b5442",
   "metadata": {},
   "outputs": [
    {
     "name": "stdout",
     "output_type": "stream",
     "text": [
      "120\n"
     ]
    }
   ],
   "source": [
    "print(df.loc[\"Uvas\", \"Precio\"])"
   ]
  },
  {
   "cell_type": "code",
   "execution_count": 1,
   "id": "932049d8-09a5-404d-aafd-300b0bf813e2",
   "metadata": {},
   "outputs": [],
   "source": [
    "data_prueba = {\n",
    "    \"col1\" : [1, 2, 3],\n",
    "    \"col2\" : [4, 5, 6],\n",
    "    \"col3\" : [7, 8, 9]\n",
    "}"
   ]
  },
  {
   "cell_type": "code",
   "execution_count": 3,
   "id": "d91e6d8d-2309-447a-8273-1bca65afecd6",
   "metadata": {},
   "outputs": [
    {
     "data": {
      "text/html": [
       "<div>\n",
       "<style scoped>\n",
       "    .dataframe tbody tr th:only-of-type {\n",
       "        vertical-align: middle;\n",
       "    }\n",
       "\n",
       "    .dataframe tbody tr th {\n",
       "        vertical-align: top;\n",
       "    }\n",
       "\n",
       "    .dataframe thead th {\n",
       "        text-align: right;\n",
       "    }\n",
       "</style>\n",
       "<table border=\"1\" class=\"dataframe\">\n",
       "  <thead>\n",
       "    <tr style=\"text-align: right;\">\n",
       "      <th></th>\n",
       "      <th>col1</th>\n",
       "      <th>col2</th>\n",
       "      <th>col3</th>\n",
       "    </tr>\n",
       "  </thead>\n",
       "  <tbody>\n",
       "    <tr>\n",
       "      <th>0</th>\n",
       "      <td>1</td>\n",
       "      <td>4</td>\n",
       "      <td>7</td>\n",
       "    </tr>\n",
       "    <tr>\n",
       "      <th>1</th>\n",
       "      <td>2</td>\n",
       "      <td>5</td>\n",
       "      <td>8</td>\n",
       "    </tr>\n",
       "    <tr>\n",
       "      <th>2</th>\n",
       "      <td>3</td>\n",
       "      <td>6</td>\n",
       "      <td>9</td>\n",
       "    </tr>\n",
       "  </tbody>\n",
       "</table>\n",
       "</div>"
      ],
      "text/plain": [
       "   col1  col2  col3\n",
       "0     1     4     7\n",
       "1     2     5     8\n",
       "2     3     6     9"
      ]
     },
     "execution_count": 3,
     "metadata": {},
     "output_type": "execute_result"
    }
   ],
   "source": [
    "df_prueba = pd.DataFrame(data_prueba)\n",
    "df_prueba"
   ]
  },
  {
   "cell_type": "code",
   "execution_count": 5,
   "id": "f32562f4-06cb-480a-b8b9-28b878095e29",
   "metadata": {},
   "outputs": [
    {
     "data": {
      "text/plain": [
       "0    12\n",
       "1    15\n",
       "2    18\n",
       "dtype: int64"
      ]
     },
     "execution_count": 5,
     "metadata": {},
     "output_type": "execute_result"
    }
   ],
   "source": [
    "df1_prueba = df_prueba.apply(np.sum, axis=1)\n",
    "df1_prueba"
   ]
  },
  {
   "cell_type": "code",
   "execution_count": 6,
   "id": "ff1965e2-ea09-4bb0-adb9-b068df3b7240",
   "metadata": {},
   "outputs": [
    {
     "data": {
      "text/plain": [
       "col1     6\n",
       "col2    15\n",
       "col3    24\n",
       "dtype: int64"
      ]
     },
     "execution_count": 6,
     "metadata": {},
     "output_type": "execute_result"
    }
   ],
   "source": [
    "df2_prueba = df_prueba.apply(np.sum, axis=0)\n",
    "df2_prueba"
   ]
  },
  {
   "cell_type": "code",
   "execution_count": null,
   "id": "eec0f7e8-2d11-46f7-9648-a8b258d63b57",
   "metadata": {},
   "outputs": [],
   "source": []
  }
 ],
 "metadata": {
  "kernelspec": {
   "display_name": "Python 3 (ipykernel)",
   "language": "python",
   "name": "python3"
  },
  "language_info": {
   "codemirror_mode": {
    "name": "ipython",
    "version": 3
   },
   "file_extension": ".py",
   "mimetype": "text/x-python",
   "name": "python",
   "nbconvert_exporter": "python",
   "pygments_lexer": "ipython3",
   "version": "3.12.7"
  }
 },
 "nbformat": 4,
 "nbformat_minor": 5
}
