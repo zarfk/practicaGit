{
 "cells": [
  {
   "cell_type": "code",
   "execution_count": 1,
   "id": "c101f5dd-012a-4c9e-9de8-2ce787ce383b",
   "metadata": {},
   "outputs": [],
   "source": [
    "import pandas as pd"
   ]
  },
  {
   "cell_type": "code",
   "execution_count": 2,
   "id": "0e34898a-0eda-45cb-b088-886ebf860ce2",
   "metadata": {},
   "outputs": [
    {
     "name": "stdout",
     "output_type": "stream",
     "text": [
      "   Producto  Precio\n",
      "0  Manzanas     100\n",
      "1  Naranjas      80\n",
      "2  Plátanos      60\n",
      "3      Uvas     120\n",
      "4     Peras      90\n"
     ]
    }
   ],
   "source": [
    "data = {\n",
    "    'Producto': ['Manzanas', 'Naranjas', 'Plátanos', 'Uvas', 'Peras'],\n",
    "    'Precio': [100, 80, 60, 120, 90]\n",
    "}\n",
    "df = pd.DataFrame(data)\n",
    "print(df)"
   ]
  },
  {
   "cell_type": "code",
   "execution_count": 3,
   "id": "409e7c08-4956-4dc0-85c2-69cf92e2731d",
   "metadata": {},
   "outputs": [],
   "source": [
    "df.set_index('Producto', inplace=True)"
   ]
  },
  {
   "cell_type": "code",
   "execution_count": 4,
   "id": "ce0a47a2-d4e6-47c1-9016-f030f4ccb97f",
   "metadata": {},
   "outputs": [
    {
     "name": "stdout",
     "output_type": "stream",
     "text": [
      "          Precio\n",
      "Producto        \n",
      "Manzanas     100\n",
      "Naranjas      80\n",
      "Plátanos      60\n",
      "Uvas         120\n",
      "Peras         90\n"
     ]
    }
   ],
   "source": [
    "print(df)"
   ]
  },
  {
   "cell_type": "code",
   "execution_count": 5,
   "id": "52b656a6-bd71-4afd-a1b8-5b71dcb4ad89",
   "metadata": {},
   "outputs": [
    {
     "name": "stdout",
     "output_type": "stream",
     "text": [
      "Precio    120\n",
      "Name: Uvas, dtype: int64\n"
     ]
    }
   ],
   "source": [
    "precio_uvas = df.loc['Uvas']\n",
    "print(precio_uvas)"
   ]
  },
  {
   "cell_type": "code",
   "execution_count": 6,
   "id": "811814e1-f2c7-4f58-a161-13b265b2e27d",
   "metadata": {},
   "outputs": [
    {
     "name": "stdout",
     "output_type": "stream",
     "text": [
      "          Precio\n",
      "Producto        \n",
      "Uvas       120.0\n",
      "Manzanas   100.0\n",
      "Naranjas    80.0\n",
      "Peras       90.0\n",
      "Plátanos    60.0\n",
      "Melones      NaN\n"
     ]
    }
   ],
   "source": [
    "nuevo_orden = ['Uvas', 'Manzanas', 'Naranjas', 'Peras', 'Plátanos', 'Melones']\n",
    "df_reindexado = df.reindex(nuevo_orden)\n",
    "print(df_reindexado)"
   ]
  },
  {
   "cell_type": "code",
   "execution_count": 7,
   "id": "c607581b-dfc0-4073-87ec-56178183ffcf",
   "metadata": {},
   "outputs": [
    {
     "name": "stdout",
     "output_type": "stream",
     "text": [
      "Index(['Manzanas', 'Peras'], dtype='object')\n"
     ]
    }
   ],
   "source": [
    "index2 = pd.Index(['Manzanas', 'Peras', 'Melones'])\n",
    "interseccion = df.index.intersection(index2)\n",
    "print(interseccion)"
   ]
  },
  {
   "cell_type": "code",
   "execution_count": null,
   "id": "42f48d79-78e8-40be-8341-316a987bb1f3",
   "metadata": {},
   "outputs": [],
   "source": []
  }
 ],
 "metadata": {
  "kernelspec": {
   "display_name": "Python 3 (ipykernel)",
   "language": "python",
   "name": "python3"
  },
  "language_info": {
   "codemirror_mode": {
    "name": "ipython",
    "version": 3
   },
   "file_extension": ".py",
   "mimetype": "text/x-python",
   "name": "python",
   "nbconvert_exporter": "python",
   "pygments_lexer": "ipython3",
   "version": "3.12.7"
  }
 },
 "nbformat": 4,
 "nbformat_minor": 5
}
