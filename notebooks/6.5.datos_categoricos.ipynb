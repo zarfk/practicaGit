{
 "cells": [
  {
   "cell_type": "code",
   "execution_count": 1,
   "id": "8be739be-bd05-484b-bd4e-538324fa9194",
   "metadata": {},
   "outputs": [],
   "source": [
    "import pandas as pd"
   ]
  },
  {
   "cell_type": "code",
   "execution_count": 2,
   "id": "25ab90d7-03be-441d-8c36-7fab0c6ebdc5",
   "metadata": {},
   "outputs": [
    {
     "data": {
      "text/html": [
       "<div>\n",
       "<style scoped>\n",
       "    .dataframe tbody tr th:only-of-type {\n",
       "        vertical-align: middle;\n",
       "    }\n",
       "\n",
       "    .dataframe tbody tr th {\n",
       "        vertical-align: top;\n",
       "    }\n",
       "\n",
       "    .dataframe thead th {\n",
       "        text-align: right;\n",
       "    }\n",
       "</style>\n",
       "<table border=\"1\" class=\"dataframe\">\n",
       "  <thead>\n",
       "    <tr style=\"text-align: right;\">\n",
       "      <th></th>\n",
       "      <th>Empleado</th>\n",
       "      <th>Departamento</th>\n",
       "      <th>Salario</th>\n",
       "      <th>Años_Experiencia</th>\n",
       "    </tr>\n",
       "  </thead>\n",
       "  <tbody>\n",
       "    <tr>\n",
       "      <th>0</th>\n",
       "      <td>Juan</td>\n",
       "      <td>Ventas</td>\n",
       "      <td>50000</td>\n",
       "      <td>5</td>\n",
       "    </tr>\n",
       "    <tr>\n",
       "      <th>1</th>\n",
       "      <td>Ana</td>\n",
       "      <td>Marketing</td>\n",
       "      <td>60000</td>\n",
       "      <td>7</td>\n",
       "    </tr>\n",
       "    <tr>\n",
       "      <th>2</th>\n",
       "      <td>Pedro</td>\n",
       "      <td>Ventas</td>\n",
       "      <td>55000</td>\n",
       "      <td>6</td>\n",
       "    </tr>\n",
       "    <tr>\n",
       "      <th>3</th>\n",
       "      <td>Luis</td>\n",
       "      <td>IT</td>\n",
       "      <td>58000</td>\n",
       "      <td>8</td>\n",
       "    </tr>\n",
       "    <tr>\n",
       "      <th>4</th>\n",
       "      <td>Maria</td>\n",
       "      <td>Marketing</td>\n",
       "      <td>62000</td>\n",
       "      <td>9</td>\n",
       "    </tr>\n",
       "    <tr>\n",
       "      <th>5</th>\n",
       "      <td>Ana</td>\n",
       "      <td>IT</td>\n",
       "      <td>60000</td>\n",
       "      <td>7</td>\n",
       "    </tr>\n",
       "    <tr>\n",
       "      <th>6</th>\n",
       "      <td>Pedro</td>\n",
       "      <td>Ventas</td>\n",
       "      <td>55000</td>\n",
       "      <td>6</td>\n",
       "    </tr>\n",
       "    <tr>\n",
       "      <th>7</th>\n",
       "      <td>Luis</td>\n",
       "      <td>Marketing</td>\n",
       "      <td>58000</td>\n",
       "      <td>8</td>\n",
       "    </tr>\n",
       "    <tr>\n",
       "      <th>8</th>\n",
       "      <td>Maria</td>\n",
       "      <td>Ventas</td>\n",
       "      <td>62000</td>\n",
       "      <td>9</td>\n",
       "    </tr>\n",
       "  </tbody>\n",
       "</table>\n",
       "</div>"
      ],
      "text/plain": [
       "  Empleado Departamento  Salario  Años_Experiencia\n",
       "0     Juan       Ventas    50000                 5\n",
       "1      Ana    Marketing    60000                 7\n",
       "2    Pedro       Ventas    55000                 6\n",
       "3     Luis           IT    58000                 8\n",
       "4    Maria    Marketing    62000                 9\n",
       "5      Ana           IT    60000                 7\n",
       "6    Pedro       Ventas    55000                 6\n",
       "7     Luis    Marketing    58000                 8\n",
       "8    Maria       Ventas    62000                 9"
      ]
     },
     "metadata": {},
     "output_type": "display_data"
    }
   ],
   "source": [
    "data = {\n",
    "    'Empleado': ['Juan', 'Ana', 'Pedro', 'Luis', 'Maria', 'Ana', 'Pedro', 'Luis', 'Maria'],\n",
    "    'Departamento': ['Ventas', 'Marketing', 'Ventas', 'IT', 'Marketing', 'IT', 'Ventas', 'Marketing', 'Ventas'],\n",
    "    'Salario': [50000, 60000, 55000, 58000, 62000, 60000, 55000, 58000, 62000],\n",
    "    'Años_Experiencia': [5, 7, 6, 8, 9, 7, 6, 8, 9]\n",
    "}\n",
    "\n",
    "df = pd.DataFrame(data)\n",
    "display(df)"
   ]
  },
  {
   "cell_type": "code",
   "execution_count": 3,
   "id": "028b5a18-9602-410d-ba50-14a7eb769179",
   "metadata": {},
   "outputs": [
    {
     "data": {
      "text/plain": [
       "0       Ventas\n",
       "1    Marketing\n",
       "2       Ventas\n",
       "3           IT\n",
       "4    Marketing\n",
       "5           IT\n",
       "6       Ventas\n",
       "7    Marketing\n",
       "8       Ventas\n",
       "Name: Departamento, dtype: category\n",
       "Categories (3, object): ['IT', 'Marketing', 'Ventas']"
      ]
     },
     "execution_count": 3,
     "metadata": {},
     "output_type": "execute_result"
    }
   ],
   "source": [
    "df['Departamento'] = df['Departamento'].astype('category')\n",
    "df['Departamento']"
   ]
  },
  {
   "cell_type": "code",
   "execution_count": 4,
   "id": "4589f56d-8413-4e74-8cac-4102aa3db195",
   "metadata": {},
   "outputs": [
    {
     "data": {
      "text/plain": [
       "Index(['IT', 'Marketing', 'Ventas'], dtype='object')"
      ]
     },
     "execution_count": 4,
     "metadata": {},
     "output_type": "execute_result"
    }
   ],
   "source": [
    "df['Departamento'].cat.categories"
   ]
  },
  {
   "cell_type": "code",
   "execution_count": 5,
   "id": "8d29b8cf-a4e7-4304-8856-46c99c41913f",
   "metadata": {},
   "outputs": [
    {
     "data": {
      "text/plain": [
       "0    2\n",
       "1    1\n",
       "2    2\n",
       "3    0\n",
       "4    1\n",
       "5    0\n",
       "6    2\n",
       "7    1\n",
       "8    2\n",
       "dtype: int8"
      ]
     },
     "execution_count": 5,
     "metadata": {},
     "output_type": "execute_result"
    }
   ],
   "source": [
    "df['Departamento'].cat.codes"
   ]
  },
  {
   "cell_type": "code",
   "execution_count": 6,
   "id": "7e79c514-2ace-41ef-bbf2-f2cc1064d12f",
   "metadata": {},
   "outputs": [
    {
     "data": {
      "text/plain": [
       "0       Ventas\n",
       "1    Marketing\n",
       "2       Ventas\n",
       "3           IT\n",
       "4    Marketing\n",
       "5           IT\n",
       "6       Ventas\n",
       "7    Marketing\n",
       "8       Ventas\n",
       "Name: Departamento, dtype: category\n",
       "Categories (3, object): ['IT' < 'Ventas' < 'Marketing']"
      ]
     },
     "execution_count": 6,
     "metadata": {},
     "output_type": "execute_result"
    }
   ],
   "source": [
    "df['Departamento'] = df['Departamento'].cat.reorder_categories(['IT', 'Ventas', 'Marketing'], ordered=True)\n",
    "df['Departamento']"
   ]
  },
  {
   "cell_type": "code",
   "execution_count": 7,
   "id": "efae72f1-1d69-4d4d-8a49-b5defd6e7041",
   "metadata": {},
   "outputs": [],
   "source": [
    "df['Departamento'] = df['Departamento'].cat.add_categories(['Recursos Humanos'])"
   ]
  },
  {
   "cell_type": "code",
   "execution_count": 10,
   "id": "4f9d2f8c-6a38-4c43-804e-ae2d46e0c140",
   "metadata": {},
   "outputs": [],
   "source": [
    "df['Departamento'] = df['Departamento'].cat.remove_categories(['Recursos Humanos'])"
   ]
  },
  {
   "cell_type": "code",
   "execution_count": 12,
   "id": "34bf7355-9587-4430-98ad-abc608189ca1",
   "metadata": {},
   "outputs": [
    {
     "data": {
      "text/html": [
       "<div>\n",
       "<style scoped>\n",
       "    .dataframe tbody tr th:only-of-type {\n",
       "        vertical-align: middle;\n",
       "    }\n",
       "\n",
       "    .dataframe tbody tr th {\n",
       "        vertical-align: top;\n",
       "    }\n",
       "\n",
       "    .dataframe thead th {\n",
       "        text-align: right;\n",
       "    }\n",
       "</style>\n",
       "<table border=\"1\" class=\"dataframe\">\n",
       "  <thead>\n",
       "    <tr style=\"text-align: right;\">\n",
       "      <th></th>\n",
       "      <th>Empleado</th>\n",
       "      <th>Departamento</th>\n",
       "      <th>Salario</th>\n",
       "      <th>Años_Experiencia</th>\n",
       "    </tr>\n",
       "  </thead>\n",
       "  <tbody>\n",
       "    <tr>\n",
       "      <th>0</th>\n",
       "      <td>Juan</td>\n",
       "      <td>Ventas</td>\n",
       "      <td>50000</td>\n",
       "      <td>5</td>\n",
       "    </tr>\n",
       "    <tr>\n",
       "      <th>1</th>\n",
       "      <td>Ana</td>\n",
       "      <td>Marketing</td>\n",
       "      <td>60000</td>\n",
       "      <td>7</td>\n",
       "    </tr>\n",
       "    <tr>\n",
       "      <th>2</th>\n",
       "      <td>Pedro</td>\n",
       "      <td>Ventas</td>\n",
       "      <td>55000</td>\n",
       "      <td>6</td>\n",
       "    </tr>\n",
       "    <tr>\n",
       "      <th>3</th>\n",
       "      <td>Luis</td>\n",
       "      <td>IT</td>\n",
       "      <td>58000</td>\n",
       "      <td>8</td>\n",
       "    </tr>\n",
       "    <tr>\n",
       "      <th>4</th>\n",
       "      <td>Maria</td>\n",
       "      <td>Marketing</td>\n",
       "      <td>62000</td>\n",
       "      <td>9</td>\n",
       "    </tr>\n",
       "    <tr>\n",
       "      <th>5</th>\n",
       "      <td>Ana</td>\n",
       "      <td>IT</td>\n",
       "      <td>60000</td>\n",
       "      <td>7</td>\n",
       "    </tr>\n",
       "    <tr>\n",
       "      <th>6</th>\n",
       "      <td>Pedro</td>\n",
       "      <td>Ventas</td>\n",
       "      <td>55000</td>\n",
       "      <td>6</td>\n",
       "    </tr>\n",
       "    <tr>\n",
       "      <th>7</th>\n",
       "      <td>Luis</td>\n",
       "      <td>Marketing</td>\n",
       "      <td>58000</td>\n",
       "      <td>8</td>\n",
       "    </tr>\n",
       "    <tr>\n",
       "      <th>8</th>\n",
       "      <td>Maria</td>\n",
       "      <td>Ventas</td>\n",
       "      <td>62000</td>\n",
       "      <td>9</td>\n",
       "    </tr>\n",
       "  </tbody>\n",
       "</table>\n",
       "</div>"
      ],
      "text/plain": [
       "  Empleado Departamento  Salario  Años_Experiencia\n",
       "0     Juan       Ventas    50000                 5\n",
       "1      Ana    Marketing    60000                 7\n",
       "2    Pedro       Ventas    55000                 6\n",
       "3     Luis           IT    58000                 8\n",
       "4    Maria    Marketing    62000                 9\n",
       "5      Ana           IT    60000                 7\n",
       "6    Pedro       Ventas    55000                 6\n",
       "7     Luis    Marketing    58000                 8\n",
       "8    Maria       Ventas    62000                 9"
      ]
     },
     "execution_count": 12,
     "metadata": {},
     "output_type": "execute_result"
    }
   ],
   "source": [
    "df"
   ]
  },
  {
   "cell_type": "code",
   "execution_count": 13,
   "id": "1aa7c7cf-eed2-4f71-967c-b9aee5412346",
   "metadata": {},
   "outputs": [
    {
     "data": {
      "text/html": [
       "<div>\n",
       "<style scoped>\n",
       "    .dataframe tbody tr th:only-of-type {\n",
       "        vertical-align: middle;\n",
       "    }\n",
       "\n",
       "    .dataframe tbody tr th {\n",
       "        vertical-align: top;\n",
       "    }\n",
       "\n",
       "    .dataframe thead th {\n",
       "        text-align: right;\n",
       "    }\n",
       "</style>\n",
       "<table border=\"1\" class=\"dataframe\">\n",
       "  <thead>\n",
       "    <tr style=\"text-align: right;\">\n",
       "      <th></th>\n",
       "      <th>Departamento_IT</th>\n",
       "      <th>Departamento_Ventas</th>\n",
       "      <th>Departamento_Marketing</th>\n",
       "    </tr>\n",
       "  </thead>\n",
       "  <tbody>\n",
       "    <tr>\n",
       "      <th>0</th>\n",
       "      <td>0</td>\n",
       "      <td>1</td>\n",
       "      <td>0</td>\n",
       "    </tr>\n",
       "    <tr>\n",
       "      <th>1</th>\n",
       "      <td>0</td>\n",
       "      <td>0</td>\n",
       "      <td>1</td>\n",
       "    </tr>\n",
       "    <tr>\n",
       "      <th>2</th>\n",
       "      <td>0</td>\n",
       "      <td>1</td>\n",
       "      <td>0</td>\n",
       "    </tr>\n",
       "    <tr>\n",
       "      <th>3</th>\n",
       "      <td>1</td>\n",
       "      <td>0</td>\n",
       "      <td>0</td>\n",
       "    </tr>\n",
       "    <tr>\n",
       "      <th>4</th>\n",
       "      <td>0</td>\n",
       "      <td>0</td>\n",
       "      <td>1</td>\n",
       "    </tr>\n",
       "    <tr>\n",
       "      <th>5</th>\n",
       "      <td>1</td>\n",
       "      <td>0</td>\n",
       "      <td>0</td>\n",
       "    </tr>\n",
       "    <tr>\n",
       "      <th>6</th>\n",
       "      <td>0</td>\n",
       "      <td>1</td>\n",
       "      <td>0</td>\n",
       "    </tr>\n",
       "    <tr>\n",
       "      <th>7</th>\n",
       "      <td>0</td>\n",
       "      <td>0</td>\n",
       "      <td>1</td>\n",
       "    </tr>\n",
       "    <tr>\n",
       "      <th>8</th>\n",
       "      <td>0</td>\n",
       "      <td>1</td>\n",
       "      <td>0</td>\n",
       "    </tr>\n",
       "  </tbody>\n",
       "</table>\n",
       "</div>"
      ],
      "text/plain": [
       "   Departamento_IT  Departamento_Ventas  Departamento_Marketing\n",
       "0                0                    1                       0\n",
       "1                0                    0                       1\n",
       "2                0                    1                       0\n",
       "3                1                    0                       0\n",
       "4                0                    0                       1\n",
       "5                1                    0                       0\n",
       "6                0                    1                       0\n",
       "7                0                    0                       1\n",
       "8                0                    1                       0"
      ]
     },
     "metadata": {},
     "output_type": "display_data"
    }
   ],
   "source": [
    "one_hot = pd.get_dummies(df['Departamento'], prefix='Departamento')\n",
    "display(one_hot)"
   ]
  },
  {
   "cell_type": "code",
   "execution_count": 14,
   "id": "cfb89a8a-049f-4c5e-8087-38b784e26c20",
   "metadata": {},
   "outputs": [
    {
     "data": {
      "text/plain": [
       "Departamento\n",
       "IT           118000\n",
       "Ventas       222000\n",
       "Marketing    180000\n",
       "Name: Salario, dtype: int64"
      ]
     },
     "metadata": {},
     "output_type": "display_data"
    }
   ],
   "source": [
    "agrupacion_categorica = df.groupby('Departamento')['Salario'].sum()\n",
    "display(agrupacion_categorica)"
   ]
  },
  {
   "cell_type": "code",
   "execution_count": null,
   "id": "a56cd34d-5107-4ae7-b3fd-68179cba789d",
   "metadata": {},
   "outputs": [],
   "source": []
  }
 ],
 "metadata": {
  "kernelspec": {
   "display_name": "Python 3 (ipykernel)",
   "language": "python",
   "name": "python3"
  },
  "language_info": {
   "codemirror_mode": {
    "name": "ipython",
    "version": 3
   },
   "file_extension": ".py",
   "mimetype": "text/x-python",
   "name": "python",
   "nbconvert_exporter": "python",
   "pygments_lexer": "ipython3",
   "version": "3.12.4"
  }
 },
 "nbformat": 4,
 "nbformat_minor": 5
}
