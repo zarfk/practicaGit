{
 "cells": [
  {
   "cell_type": "code",
   "execution_count": 1,
   "id": "8df14413-3486-424b-92b4-2e4a7277576d",
   "metadata": {},
   "outputs": [],
   "source": [
    "import pandas as pd"
   ]
  },
  {
   "cell_type": "code",
   "execution_count": 2,
   "id": "891ec7a7-e7eb-4847-a716-0dc986f951c2",
   "metadata": {},
   "outputs": [
    {
     "name": "stdout",
     "output_type": "stream",
     "text": [
      "2020-01-01    34\n",
      "2020-01-02    44\n",
      "2020-01-03    65\n",
      "2020-01-04    53\n",
      "2020-01-05    39\n",
      "2020-01-06    76\n",
      "Freq: D, dtype: int64\n"
     ]
    }
   ],
   "source": [
    "fechas = pd.date_range(start='2020-01-01', periods=6, freq='D')\n",
    "valores = [34, 44, 65, 53, 39, 76]\n",
    "serie_temporal = pd.Series(valores, index=fechas)\n",
    "print(serie_temporal)"
   ]
  },
  {
   "cell_type": "code",
   "execution_count": 3,
   "id": "d7cd6547-b4d1-4a19-813f-42f253ef3d10",
   "metadata": {},
   "outputs": [
    {
     "name": "stdout",
     "output_type": "stream",
     "text": [
      "65\n"
     ]
    }
   ],
   "source": [
    "print(serie_temporal['2020-01-03'])"
   ]
  },
  {
   "cell_type": "code",
   "execution_count": 4,
   "id": "f86610d8-9839-4af2-b432-09b0285ce0e5",
   "metadata": {},
   "outputs": [
    {
     "name": "stdout",
     "output_type": "stream",
     "text": [
      "2020-01-02    44\n",
      "2020-01-03    65\n",
      "2020-01-04    53\n",
      "2020-01-05    39\n",
      "Freq: D, dtype: int64\n"
     ]
    }
   ],
   "source": [
    "print(serie_temporal['2020-01-02':'2020-01-05'])"
   ]
  },
  {
   "cell_type": "code",
   "execution_count": 6,
   "id": "b20f30ac-6ff1-4ded-aa84-7a338aa84be1",
   "metadata": {},
   "outputs": [
    {
     "name": "stdout",
     "output_type": "stream",
     "text": [
      "       Fecha  Ventas\n",
      "0 2020-01-01     345\n",
      "1 2020-01-02     456\n",
      "2 2020-01-03     567\n",
      "3 2020-01-04     678\n",
      "4 2020-01-05     234\n",
      "5 2020-01-06     590\n"
     ]
    }
   ],
   "source": [
    "data = {\n",
    "    'Fecha': pd.date_range(start='2020-01-01', periods=6, freq='D'),\n",
    "    'Ventas': [345, 456, 567, 678, 234, 590]\n",
    "}\n",
    "df = pd.DataFrame(data)\n",
    "print(df)"
   ]
  },
  {
   "cell_type": "code",
   "execution_count": 7,
   "id": "432ff720-094c-4d1b-99ad-ab2cb2d21637",
   "metadata": {},
   "outputs": [
    {
     "name": "stdout",
     "output_type": "stream",
     "text": [
      "            Ventas\n",
      "Fecha             \n",
      "2020-01-01     345\n",
      "2020-01-02     456\n",
      "2020-01-03     567\n",
      "2020-01-04     678\n",
      "2020-01-05     234\n",
      "2020-01-06     590\n"
     ]
    }
   ],
   "source": [
    "df.set_index('Fecha', inplace=True)\n",
    "print(df)"
   ]
  },
  {
   "cell_type": "code",
   "execution_count": 9,
   "id": "31d6f10b-6a2c-4598-87cb-cc9681c94daf",
   "metadata": {},
   "outputs": [
    {
     "name": "stdout",
     "output_type": "stream",
     "text": [
      "                Ventas\n",
      "Fecha                 \n",
      "2020-01-31  478.333333\n"
     ]
    }
   ],
   "source": [
    "resumen_mensual = df.resample('M').mean()\n",
    "print(resumen_mensual)"
   ]
  },
  {
   "cell_type": "code",
   "execution_count": 10,
   "id": "e6738eea-df75-4a3e-9bcf-f50027420be9",
   "metadata": {},
   "outputs": [
    {
     "name": "stdout",
     "output_type": "stream",
     "text": [
      "            Ventas  Ventas_desplazadas  Cambio_ventas\n",
      "Fecha                                                \n",
      "2020-01-01     345                 NaN            NaN\n",
      "2020-01-02     456               345.0          111.0\n",
      "2020-01-03     567               456.0          111.0\n",
      "2020-01-04     678               567.0          111.0\n",
      "2020-01-05     234               678.0         -444.0\n",
      "2020-01-06     590               234.0          356.0\n"
     ]
    }
   ],
   "source": [
    "df['Ventas_desplazadas'] = df['Ventas'].shift(1)\n",
    "df['Cambio_ventas'] = df['Ventas'].diff()\n",
    "print(df)"
   ]
  },
  {
   "cell_type": "code",
   "execution_count": null,
   "id": "0f229d49-705c-4779-b43a-b0ef4f722edc",
   "metadata": {},
   "outputs": [],
   "source": []
  }
 ],
 "metadata": {
  "kernelspec": {
   "display_name": "Python 3 (ipykernel)",
   "language": "python",
   "name": "python3"
  },
  "language_info": {
   "codemirror_mode": {
    "name": "ipython",
    "version": 3
   },
   "file_extension": ".py",
   "mimetype": "text/x-python",
   "name": "python",
   "nbconvert_exporter": "python",
   "pygments_lexer": "ipython3",
   "version": "3.12.3"
  }
 },
 "nbformat": 4,
 "nbformat_minor": 5
}
