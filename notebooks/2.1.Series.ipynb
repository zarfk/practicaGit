{
 "cells": [
  {
   "cell_type": "code",
   "execution_count": 45,
   "id": "a3c775bf-f516-4dc8-8ce9-f64b2f14fd6e",
   "metadata": {},
   "outputs": [],
   "source": [
    "import pandas as pd\n",
    "import numpy as np"
   ]
  },
  {
   "cell_type": "code",
   "execution_count": 46,
   "id": "359d10c9-85f0-461b-b185-dd194b012186",
   "metadata": {},
   "outputs": [
    {
     "data": {
      "text/plain": [
       "0    1\n",
       "1    2\n",
       "2    3\n",
       "3    4\n",
       "4    5\n",
       "dtype: int64"
      ]
     },
     "execution_count": 46,
     "metadata": {},
     "output_type": "execute_result"
    }
   ],
   "source": [
    "numeros = pd.Series([1, 2, 3, 4, 5])\n",
    "numeros"
   ]
  },
  {
   "cell_type": "code",
   "execution_count": 47,
   "id": "fa7ad138-5ea4-4f69-aa0f-a66b61b5fc8f",
   "metadata": {},
   "outputs": [
    {
     "data": {
      "text/plain": [
       "a    1\n",
       "b    2\n",
       "c    3\n",
       "d    4\n",
       "e    5\n",
       "dtype: int64"
      ]
     },
     "execution_count": 47,
     "metadata": {},
     "output_type": "execute_result"
    }
   ],
   "source": [
    "numeros = pd.Series([1, 2, 3, 4, 5], index=['a', 'b', 'c', 'd', 'e'])\n",
    "numeros"
   ]
  },
  {
   "cell_type": "code",
   "execution_count": 48,
   "id": "5a294319-0ff6-47f6-b493-dfc838d259ce",
   "metadata": {},
   "outputs": [
    {
     "data": {
      "text/plain": [
       "a    1\n",
       "b    2\n",
       "c    3\n",
       "dtype: int64"
      ]
     },
     "execution_count": 48,
     "metadata": {},
     "output_type": "execute_result"
    }
   ],
   "source": [
    "datos = {'a': 1, 'b': 2, 'c': 3}\n",
    "serie_dict = pd.Series(datos)\n",
    "serie_dict"
   ]
  },
  {
   "cell_type": "code",
   "execution_count": 49,
   "id": "4c7a769d-b89b-4608-9103-a0adafc3a1ee",
   "metadata": {},
   "outputs": [
    {
     "data": {
      "text/plain": [
       "3"
      ]
     },
     "execution_count": 49,
     "metadata": {},
     "output_type": "execute_result"
    }
   ],
   "source": [
    "numeros['c']"
   ]
  },
  {
   "cell_type": "code",
   "execution_count": 50,
   "id": "f02e1201-1cfc-4108-b795-7ace7d882969",
   "metadata": {},
   "outputs": [],
   "source": [
    "numeros['a'] = 10"
   ]
  },
  {
   "cell_type": "code",
   "execution_count": 51,
   "id": "36430797-89a0-482d-a69f-3a11078aa1fd",
   "metadata": {},
   "outputs": [
    {
     "data": {
      "text/plain": [
       "a    10\n",
       "b     2\n",
       "c     3\n",
       "d     4\n",
       "e     5\n",
       "dtype: int64"
      ]
     },
     "execution_count": 51,
     "metadata": {},
     "output_type": "execute_result"
    }
   ],
   "source": [
    "numeros"
   ]
  },
  {
   "cell_type": "code",
   "execution_count": 54,
   "id": "34037733-5b36-4119-999e-31558b063da2",
   "metadata": {},
   "outputs": [
    {
     "data": {
      "text/plain": [
       "a    100\n",
       "b      4\n",
       "c      9\n",
       "d     16\n",
       "e     25\n",
       "dtype: int64"
      ]
     },
     "execution_count": 54,
     "metadata": {},
     "output_type": "execute_result"
    }
   ],
   "source": [
    "cuadrados = numeros**2\n",
    "cuadrados"
   ]
  },
  {
   "cell_type": "code",
   "execution_count": 53,
   "id": "4c149ec0-475e-4f54-a214-3f6f26b02a35",
   "metadata": {},
   "outputs": [
    {
     "data": {
      "text/plain": [
       "a    13\n",
       "b     5\n",
       "c     6\n",
       "d     7\n",
       "e     8\n",
       "dtype: int64"
      ]
     },
     "execution_count": 53,
     "metadata": {},
     "output_type": "execute_result"
    }
   ],
   "source": [
    "numeros + 3"
   ]
  },
  {
   "cell_type": "code",
   "execution_count": 55,
   "id": "9495cae0-ad98-4864-93db-ba5c63e98db4",
   "metadata": {},
   "outputs": [
    {
     "data": {
      "text/plain": [
       "a    10\n",
       "b     2\n",
       "c     3\n",
       "d     4\n",
       "e     5\n",
       "dtype: int64"
      ]
     },
     "execution_count": 55,
     "metadata": {},
     "output_type": "execute_result"
    }
   ],
   "source": [
    "numeros"
   ]
  },
  {
   "cell_type": "code",
   "execution_count": 56,
   "id": "8bb8a37e-251f-4c4a-aa49-ee5574d076c0",
   "metadata": {},
   "outputs": [
    {
     "data": {
      "text/plain": [
       "4.8"
      ]
     },
     "execution_count": 56,
     "metadata": {},
     "output_type": "execute_result"
    }
   ],
   "source": [
    "numeros.mean()"
   ]
  },
  {
   "cell_type": "code",
   "execution_count": 57,
   "id": "8f671f55-2671-4c1c-abd9-89ae9952df8f",
   "metadata": {},
   "outputs": [
    {
     "data": {
      "text/plain": [
       "24"
      ]
     },
     "execution_count": 57,
     "metadata": {},
     "output_type": "execute_result"
    }
   ],
   "source": [
    "numeros.sum()"
   ]
  },
  {
   "cell_type": "code",
   "execution_count": 58,
   "id": "28bf1538-1802-45c5-b1be-73996571ee7d",
   "metadata": {},
   "outputs": [
    {
     "data": {
      "text/plain": [
       "10"
      ]
     },
     "execution_count": 58,
     "metadata": {},
     "output_type": "execute_result"
    }
   ],
   "source": [
    "numeros.max()"
   ]
  },
  {
   "cell_type": "code",
   "execution_count": 59,
   "id": "1661bf94-2628-4408-9b7b-dcd36d77d269",
   "metadata": {},
   "outputs": [
    {
     "data": {
      "text/plain": [
       "2"
      ]
     },
     "execution_count": 59,
     "metadata": {},
     "output_type": "execute_result"
    }
   ],
   "source": [
    "numeros.min()"
   ]
  },
  {
   "cell_type": "code",
   "execution_count": 62,
   "id": "6b5c4b35-c6b6-41f2-b032-131de0e4130b",
   "metadata": {},
   "outputs": [
    {
     "data": {
      "text/plain": [
       "b    2\n",
       "c    3\n",
       "dtype: int64"
      ]
     },
     "execution_count": 62,
     "metadata": {},
     "output_type": "execute_result"
    }
   ],
   "source": [
    "numeros[numeros <= 3]"
   ]
  },
  {
   "cell_type": "code",
   "execution_count": 63,
   "id": "003d809c-8f73-4135-8fea-97e15cf5d59b",
   "metadata": {},
   "outputs": [
    {
     "data": {
      "text/plain": [
       "a    2.302585\n",
       "b    0.693147\n",
       "c    1.098612\n",
       "d    1.386294\n",
       "e    1.609438\n",
       "dtype: float64"
      ]
     },
     "execution_count": 63,
     "metadata": {},
     "output_type": "execute_result"
    }
   ],
   "source": [
    "numeros.apply(np.log)"
   ]
  },
  {
   "cell_type": "code",
   "execution_count": 64,
   "id": "0752be61-8aa5-40c5-83d1-3fce0fb82625",
   "metadata": {},
   "outputs": [
    {
     "data": {
      "text/html": [
       "<div>\n",
       "<style scoped>\n",
       "    .dataframe tbody tr th:only-of-type {\n",
       "        vertical-align: middle;\n",
       "    }\n",
       "\n",
       "    .dataframe tbody tr th {\n",
       "        vertical-align: top;\n",
       "    }\n",
       "\n",
       "    .dataframe thead th {\n",
       "        text-align: right;\n",
       "    }\n",
       "</style>\n",
       "<table border=\"1\" class=\"dataframe\">\n",
       "  <thead>\n",
       "    <tr style=\"text-align: right;\">\n",
       "      <th></th>\n",
       "      <th>Nombre</th>\n",
       "      <th>Edad</th>\n",
       "    </tr>\n",
       "  </thead>\n",
       "  <tbody>\n",
       "    <tr>\n",
       "      <th>0</th>\n",
       "      <td>Ana</td>\n",
       "      <td>25</td>\n",
       "    </tr>\n",
       "    <tr>\n",
       "      <th>1</th>\n",
       "      <td>Luis</td>\n",
       "      <td>30</td>\n",
       "    </tr>\n",
       "    <tr>\n",
       "      <th>2</th>\n",
       "      <td>Pedro</td>\n",
       "      <td>35</td>\n",
       "    </tr>\n",
       "  </tbody>\n",
       "</table>\n",
       "</div>"
      ],
      "text/plain": [
       "  Nombre  Edad\n",
       "0    Ana    25\n",
       "1   Luis    30\n",
       "2  Pedro    35"
      ]
     },
     "execution_count": 64,
     "metadata": {},
     "output_type": "execute_result"
    }
   ],
   "source": [
    "nombres = pd.Series(['Ana', 'Luis', 'Pedro'])\n",
    "edades = pd.Series([25, 30, 35])\n",
    "df_personas = pd.DataFrame({'Nombre': nombres, 'Edad': edades})\n",
    "df_personas"
   ]
  },
  {
   "cell_type": "code",
   "execution_count": null,
   "id": "96c523a5-824b-4ce3-8c15-08a42ad900b4",
   "metadata": {},
   "outputs": [],
   "source": []
  }
 ],
 "metadata": {
  "kernelspec": {
   "display_name": "Python 3 (ipykernel)",
   "language": "python",
   "name": "python3"
  },
  "language_info": {
   "codemirror_mode": {
    "name": "ipython",
    "version": 3
   },
   "file_extension": ".py",
   "mimetype": "text/x-python",
   "name": "python",
   "nbconvert_exporter": "python",
   "pygments_lexer": "ipython3",
   "version": "3.12.3"
  }
 },
 "nbformat": 4,
 "nbformat_minor": 5
}
