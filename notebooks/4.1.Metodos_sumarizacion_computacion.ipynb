{
 "cells": [
  {
   "cell_type": "code",
   "execution_count": 1,
   "id": "2ac15790-dac4-4402-bbfa-91a0773f839d",
   "metadata": {},
   "outputs": [],
   "source": [
    "import pandas as pd"
   ]
  },
  {
   "cell_type": "code",
   "execution_count": 2,
   "id": "ecdc2cff-3e2f-487f-ab71-fac19a5f88c8",
   "metadata": {},
   "outputs": [
    {
     "data": {
      "text/html": [
       "<div>\n",
       "<style scoped>\n",
       "    .dataframe tbody tr th:only-of-type {\n",
       "        vertical-align: middle;\n",
       "    }\n",
       "\n",
       "    .dataframe tbody tr th {\n",
       "        vertical-align: top;\n",
       "    }\n",
       "\n",
       "    .dataframe thead th {\n",
       "        text-align: right;\n",
       "    }\n",
       "</style>\n",
       "<table border=\"1\" class=\"dataframe\">\n",
       "  <thead>\n",
       "    <tr style=\"text-align: right;\">\n",
       "      <th></th>\n",
       "      <th>Producto</th>\n",
       "      <th>Precio</th>\n",
       "      <th>Stock</th>\n",
       "    </tr>\n",
       "  </thead>\n",
       "  <tbody>\n",
       "    <tr>\n",
       "      <th>0</th>\n",
       "      <td>Manzanas</td>\n",
       "      <td>100</td>\n",
       "      <td>30</td>\n",
       "    </tr>\n",
       "    <tr>\n",
       "      <th>1</th>\n",
       "      <td>Naranjas</td>\n",
       "      <td>80</td>\n",
       "      <td>50</td>\n",
       "    </tr>\n",
       "    <tr>\n",
       "      <th>2</th>\n",
       "      <td>Plátanos</td>\n",
       "      <td>60</td>\n",
       "      <td>20</td>\n",
       "    </tr>\n",
       "    <tr>\n",
       "      <th>3</th>\n",
       "      <td>Uvas</td>\n",
       "      <td>120</td>\n",
       "      <td>60</td>\n",
       "    </tr>\n",
       "    <tr>\n",
       "      <th>4</th>\n",
       "      <td>Peras</td>\n",
       "      <td>90</td>\n",
       "      <td>40</td>\n",
       "    </tr>\n",
       "  </tbody>\n",
       "</table>\n",
       "</div>"
      ],
      "text/plain": [
       "   Producto  Precio  Stock\n",
       "0  Manzanas     100     30\n",
       "1  Naranjas      80     50\n",
       "2  Plátanos      60     20\n",
       "3      Uvas     120     60\n",
       "4     Peras      90     40"
      ]
     },
     "execution_count": 2,
     "metadata": {},
     "output_type": "execute_result"
    }
   ],
   "source": [
    "data = {\n",
    "    'Producto': ['Manzanas', 'Naranjas', 'Plátanos', 'Uvas', 'Peras'],\n",
    "    'Precio': [100, 80, 60, 120, 90],\n",
    "    'Stock': [30, 50, 20, 60, 40]\n",
    "}\n",
    "\n",
    "df = pd.DataFrame(data)\n",
    "df"
   ]
  },
  {
   "cell_type": "code",
   "execution_count": 6,
   "id": "4053ff14-3941-4d0a-aa43-a5736e4855e6",
   "metadata": {},
   "outputs": [
    {
     "name": "stdout",
     "output_type": "stream",
     "text": [
      "Suma de precios: 450\n"
     ]
    }
   ],
   "source": [
    "suma_precios = df['Precio'].sum()\n",
    "print(\"Suma de precios:\", suma_precios)"
   ]
  },
  {
   "cell_type": "code",
   "execution_count": 4,
   "id": "8131fd00-d469-4cee-87db-ecccebd49dc4",
   "metadata": {},
   "outputs": [
    {
     "name": "stdout",
     "output_type": "stream",
     "text": [
      "Media de precios: 90.0\n"
     ]
    }
   ],
   "source": [
    "media_precios = df['Precio'].mean()\n",
    "print(\"Media de precios:\", media_precios)"
   ]
  },
  {
   "cell_type": "code",
   "execution_count": 5,
   "id": "0c1d9ab7-e11c-42cf-9a48-59d7e98d7e14",
   "metadata": {},
   "outputs": [
    {
     "name": "stdout",
     "output_type": "stream",
     "text": [
      "Mediana de precios: 90.0\n"
     ]
    }
   ],
   "source": [
    "mediana_precios = df['Precio'].median()\n",
    "print(\"Mediana de precios:\", mediana_precios)"
   ]
  },
  {
   "cell_type": "code",
   "execution_count": 7,
   "id": "2e0ad1c0-dd93-4366-9eae-14e6b0bae4c0",
   "metadata": {},
   "outputs": [
    {
     "name": "stdout",
     "output_type": "stream",
     "text": [
      "Mínimo precio: 60\n",
      "Máximo precio: 120\n"
     ]
    }
   ],
   "source": [
    "min_precio = df['Precio'].min()\n",
    "max_precio = df['Precio'].max()\n",
    "print(\"Mínimo precio:\", min_precio)\n",
    "print(\"Máximo precio:\", max_precio)"
   ]
  },
  {
   "cell_type": "code",
   "execution_count": 8,
   "id": "dfbd30d6-2cc7-44f9-892a-8bd847012b9e",
   "metadata": {},
   "outputs": [
    {
     "name": "stdout",
     "output_type": "stream",
     "text": [
      "Desviación estándar de precios: 22.360679774997898\n",
      "Varianza de precios: 500.0\n"
     ]
    }
   ],
   "source": [
    "std_precio = df['Precio'].std()\n",
    "var_precio = df['Precio'].var()\n",
    "print(\"Desviación estándar de precios:\", std_precio)\n",
    "print(\"Varianza de precios:\", var_precio)"
   ]
  },
  {
   "cell_type": "code",
   "execution_count": 10,
   "id": "de8a8e79-2d9d-4163-bb0f-e808a0da47b6",
   "metadata": {},
   "outputs": [
    {
     "data": {
      "text/plain": [
       "count      5.00000\n",
       "mean      90.00000\n",
       "std       22.36068\n",
       "min       60.00000\n",
       "25%       80.00000\n",
       "50%       90.00000\n",
       "75%      100.00000\n",
       "max      120.00000\n",
       "Name: Precio, dtype: float64"
      ]
     },
     "execution_count": 10,
     "metadata": {},
     "output_type": "execute_result"
    }
   ],
   "source": [
    "resumen_precios = df['Precio'].describe()\n",
    "resumen_precios"
   ]
  },
  {
   "cell_type": "code",
   "execution_count": 12,
   "id": "a9b9fe40-d938-4d3d-99aa-6dd8d6eeadcb",
   "metadata": {},
   "outputs": [
    {
     "name": "stdout",
     "output_type": "stream",
     "text": [
      "0    100\n",
      "1    180\n",
      "2    240\n",
      "3    360\n",
      "4    450\n",
      "Name: Precio, dtype: int64\n"
     ]
    },
    {
     "data": {
      "text/html": [
       "<div>\n",
       "<style scoped>\n",
       "    .dataframe tbody tr th:only-of-type {\n",
       "        vertical-align: middle;\n",
       "    }\n",
       "\n",
       "    .dataframe tbody tr th {\n",
       "        vertical-align: top;\n",
       "    }\n",
       "\n",
       "    .dataframe thead th {\n",
       "        text-align: right;\n",
       "    }\n",
       "</style>\n",
       "<table border=\"1\" class=\"dataframe\">\n",
       "  <thead>\n",
       "    <tr style=\"text-align: right;\">\n",
       "      <th></th>\n",
       "      <th>Producto</th>\n",
       "      <th>Precio</th>\n",
       "      <th>Stock</th>\n",
       "      <th>cum_sum_precios</th>\n",
       "    </tr>\n",
       "  </thead>\n",
       "  <tbody>\n",
       "    <tr>\n",
       "      <th>0</th>\n",
       "      <td>Manzanas</td>\n",
       "      <td>100</td>\n",
       "      <td>30</td>\n",
       "      <td>100</td>\n",
       "    </tr>\n",
       "    <tr>\n",
       "      <th>1</th>\n",
       "      <td>Naranjas</td>\n",
       "      <td>80</td>\n",
       "      <td>50</td>\n",
       "      <td>180</td>\n",
       "    </tr>\n",
       "    <tr>\n",
       "      <th>2</th>\n",
       "      <td>Plátanos</td>\n",
       "      <td>60</td>\n",
       "      <td>20</td>\n",
       "      <td>240</td>\n",
       "    </tr>\n",
       "    <tr>\n",
       "      <th>3</th>\n",
       "      <td>Uvas</td>\n",
       "      <td>120</td>\n",
       "      <td>60</td>\n",
       "      <td>360</td>\n",
       "    </tr>\n",
       "    <tr>\n",
       "      <th>4</th>\n",
       "      <td>Peras</td>\n",
       "      <td>90</td>\n",
       "      <td>40</td>\n",
       "      <td>450</td>\n",
       "    </tr>\n",
       "  </tbody>\n",
       "</table>\n",
       "</div>"
      ],
      "text/plain": [
       "   Producto  Precio  Stock  cum_sum_precios\n",
       "0  Manzanas     100     30              100\n",
       "1  Naranjas      80     50              180\n",
       "2  Plátanos      60     20              240\n",
       "3      Uvas     120     60              360\n",
       "4     Peras      90     40              450"
      ]
     },
     "execution_count": 12,
     "metadata": {},
     "output_type": "execute_result"
    }
   ],
   "source": [
    "cumsum_precios = df['Precio'].cumsum()\n",
    "print(cumsum_precios)\n",
    "df[\"cum_sum_precios\"] = cumsum_precios\n",
    "df"
   ]
  },
  {
   "cell_type": "code",
   "execution_count": 14,
   "id": "1cadb386-c4b0-4420-904e-b98e21fda210",
   "metadata": {},
   "outputs": [
    {
     "name": "stdout",
     "output_type": "stream",
     "text": [
      "0           100\n",
      "1          8000\n",
      "2        480000\n",
      "3      57600000\n",
      "4    5184000000\n",
      "Name: Precio, dtype: int64\n"
     ]
    },
    {
     "data": {
      "text/html": [
       "<div>\n",
       "<style scoped>\n",
       "    .dataframe tbody tr th:only-of-type {\n",
       "        vertical-align: middle;\n",
       "    }\n",
       "\n",
       "    .dataframe tbody tr th {\n",
       "        vertical-align: top;\n",
       "    }\n",
       "\n",
       "    .dataframe thead th {\n",
       "        text-align: right;\n",
       "    }\n",
       "</style>\n",
       "<table border=\"1\" class=\"dataframe\">\n",
       "  <thead>\n",
       "    <tr style=\"text-align: right;\">\n",
       "      <th></th>\n",
       "      <th>Producto</th>\n",
       "      <th>Precio</th>\n",
       "      <th>Stock</th>\n",
       "      <th>cum_sum_precios</th>\n",
       "      <th>cum_prod_precios</th>\n",
       "    </tr>\n",
       "  </thead>\n",
       "  <tbody>\n",
       "    <tr>\n",
       "      <th>0</th>\n",
       "      <td>Manzanas</td>\n",
       "      <td>100</td>\n",
       "      <td>30</td>\n",
       "      <td>100</td>\n",
       "      <td>100</td>\n",
       "    </tr>\n",
       "    <tr>\n",
       "      <th>1</th>\n",
       "      <td>Naranjas</td>\n",
       "      <td>80</td>\n",
       "      <td>50</td>\n",
       "      <td>180</td>\n",
       "      <td>8000</td>\n",
       "    </tr>\n",
       "    <tr>\n",
       "      <th>2</th>\n",
       "      <td>Plátanos</td>\n",
       "      <td>60</td>\n",
       "      <td>20</td>\n",
       "      <td>240</td>\n",
       "      <td>480000</td>\n",
       "    </tr>\n",
       "    <tr>\n",
       "      <th>3</th>\n",
       "      <td>Uvas</td>\n",
       "      <td>120</td>\n",
       "      <td>60</td>\n",
       "      <td>360</td>\n",
       "      <td>57600000</td>\n",
       "    </tr>\n",
       "    <tr>\n",
       "      <th>4</th>\n",
       "      <td>Peras</td>\n",
       "      <td>90</td>\n",
       "      <td>40</td>\n",
       "      <td>450</td>\n",
       "      <td>5184000000</td>\n",
       "    </tr>\n",
       "  </tbody>\n",
       "</table>\n",
       "</div>"
      ],
      "text/plain": [
       "   Producto  Precio  Stock  cum_sum_precios  cum_prod_precios\n",
       "0  Manzanas     100     30              100               100\n",
       "1  Naranjas      80     50              180              8000\n",
       "2  Plátanos      60     20              240            480000\n",
       "3      Uvas     120     60              360          57600000\n",
       "4     Peras      90     40              450        5184000000"
      ]
     },
     "execution_count": 14,
     "metadata": {},
     "output_type": "execute_result"
    }
   ],
   "source": [
    "cumprod_precios = df['Precio'].cumprod()\n",
    "print(cumprod_precios)\n",
    "df[\"cum_prod_precios\"] = cumprod_precios\n",
    "df"
   ]
  },
  {
   "cell_type": "code",
   "execution_count": 16,
   "id": "2b8af9d6-e815-4b60-9169-f6182dc5fd45",
   "metadata": {},
   "outputs": [
    {
     "name": "stdout",
     "output_type": "stream",
     "text": [
      "0     NaN\n",
      "1   -20.0\n",
      "2   -20.0\n",
      "3    60.0\n",
      "4   -30.0\n",
      "Name: Precio, dtype: float64\n"
     ]
    },
    {
     "data": {
      "text/html": [
       "<div>\n",
       "<style scoped>\n",
       "    .dataframe tbody tr th:only-of-type {\n",
       "        vertical-align: middle;\n",
       "    }\n",
       "\n",
       "    .dataframe tbody tr th {\n",
       "        vertical-align: top;\n",
       "    }\n",
       "\n",
       "    .dataframe thead th {\n",
       "        text-align: right;\n",
       "    }\n",
       "</style>\n",
       "<table border=\"1\" class=\"dataframe\">\n",
       "  <thead>\n",
       "    <tr style=\"text-align: right;\">\n",
       "      <th></th>\n",
       "      <th>Producto</th>\n",
       "      <th>Precio</th>\n",
       "      <th>Stock</th>\n",
       "      <th>cum_sum_precios</th>\n",
       "      <th>cum_prod_precios</th>\n",
       "      <th>diff_precios</th>\n",
       "    </tr>\n",
       "  </thead>\n",
       "  <tbody>\n",
       "    <tr>\n",
       "      <th>0</th>\n",
       "      <td>Manzanas</td>\n",
       "      <td>100</td>\n",
       "      <td>30</td>\n",
       "      <td>100</td>\n",
       "      <td>100</td>\n",
       "      <td>NaN</td>\n",
       "    </tr>\n",
       "    <tr>\n",
       "      <th>1</th>\n",
       "      <td>Naranjas</td>\n",
       "      <td>80</td>\n",
       "      <td>50</td>\n",
       "      <td>180</td>\n",
       "      <td>8000</td>\n",
       "      <td>-20.0</td>\n",
       "    </tr>\n",
       "    <tr>\n",
       "      <th>2</th>\n",
       "      <td>Plátanos</td>\n",
       "      <td>60</td>\n",
       "      <td>20</td>\n",
       "      <td>240</td>\n",
       "      <td>480000</td>\n",
       "      <td>-20.0</td>\n",
       "    </tr>\n",
       "    <tr>\n",
       "      <th>3</th>\n",
       "      <td>Uvas</td>\n",
       "      <td>120</td>\n",
       "      <td>60</td>\n",
       "      <td>360</td>\n",
       "      <td>57600000</td>\n",
       "      <td>60.0</td>\n",
       "    </tr>\n",
       "    <tr>\n",
       "      <th>4</th>\n",
       "      <td>Peras</td>\n",
       "      <td>90</td>\n",
       "      <td>40</td>\n",
       "      <td>450</td>\n",
       "      <td>5184000000</td>\n",
       "      <td>-30.0</td>\n",
       "    </tr>\n",
       "  </tbody>\n",
       "</table>\n",
       "</div>"
      ],
      "text/plain": [
       "   Producto  Precio  Stock  cum_sum_precios  cum_prod_precios  diff_precios\n",
       "0  Manzanas     100     30              100               100           NaN\n",
       "1  Naranjas      80     50              180              8000         -20.0\n",
       "2  Plátanos      60     20              240            480000         -20.0\n",
       "3      Uvas     120     60              360          57600000          60.0\n",
       "4     Peras      90     40              450        5184000000         -30.0"
      ]
     },
     "execution_count": 16,
     "metadata": {},
     "output_type": "execute_result"
    }
   ],
   "source": [
    "diff_precios = df['Precio'].diff()\n",
    "print(diff_precios)\n",
    "df[\"diff_precios\"] = diff_precios\n",
    "df"
   ]
  },
  {
   "cell_type": "code",
   "execution_count": 18,
   "id": "e4ebddd9-1ee9-4e9a-b53c-6ab276a6e08d",
   "metadata": {},
   "outputs": [
    {
     "name": "stdout",
     "output_type": "stream",
     "text": [
      "0     NaN\n",
      "1   -0.20\n",
      "2   -0.25\n",
      "3    1.00\n",
      "4   -0.25\n",
      "Name: Precio, dtype: float64\n"
     ]
    },
    {
     "data": {
      "text/html": [
       "<div>\n",
       "<style scoped>\n",
       "    .dataframe tbody tr th:only-of-type {\n",
       "        vertical-align: middle;\n",
       "    }\n",
       "\n",
       "    .dataframe tbody tr th {\n",
       "        vertical-align: top;\n",
       "    }\n",
       "\n",
       "    .dataframe thead th {\n",
       "        text-align: right;\n",
       "    }\n",
       "</style>\n",
       "<table border=\"1\" class=\"dataframe\">\n",
       "  <thead>\n",
       "    <tr style=\"text-align: right;\">\n",
       "      <th></th>\n",
       "      <th>Producto</th>\n",
       "      <th>Precio</th>\n",
       "      <th>Stock</th>\n",
       "      <th>cum_sum_precios</th>\n",
       "      <th>cum_prod_precios</th>\n",
       "      <th>diff_precios</th>\n",
       "      <th>pct_change_precios</th>\n",
       "    </tr>\n",
       "  </thead>\n",
       "  <tbody>\n",
       "    <tr>\n",
       "      <th>0</th>\n",
       "      <td>Manzanas</td>\n",
       "      <td>100</td>\n",
       "      <td>30</td>\n",
       "      <td>100</td>\n",
       "      <td>100</td>\n",
       "      <td>NaN</td>\n",
       "      <td>NaN</td>\n",
       "    </tr>\n",
       "    <tr>\n",
       "      <th>1</th>\n",
       "      <td>Naranjas</td>\n",
       "      <td>80</td>\n",
       "      <td>50</td>\n",
       "      <td>180</td>\n",
       "      <td>8000</td>\n",
       "      <td>-20.0</td>\n",
       "      <td>-0.20</td>\n",
       "    </tr>\n",
       "    <tr>\n",
       "      <th>2</th>\n",
       "      <td>Plátanos</td>\n",
       "      <td>60</td>\n",
       "      <td>20</td>\n",
       "      <td>240</td>\n",
       "      <td>480000</td>\n",
       "      <td>-20.0</td>\n",
       "      <td>-0.25</td>\n",
       "    </tr>\n",
       "    <tr>\n",
       "      <th>3</th>\n",
       "      <td>Uvas</td>\n",
       "      <td>120</td>\n",
       "      <td>60</td>\n",
       "      <td>360</td>\n",
       "      <td>57600000</td>\n",
       "      <td>60.0</td>\n",
       "      <td>1.00</td>\n",
       "    </tr>\n",
       "    <tr>\n",
       "      <th>4</th>\n",
       "      <td>Peras</td>\n",
       "      <td>90</td>\n",
       "      <td>40</td>\n",
       "      <td>450</td>\n",
       "      <td>5184000000</td>\n",
       "      <td>-30.0</td>\n",
       "      <td>-0.25</td>\n",
       "    </tr>\n",
       "  </tbody>\n",
       "</table>\n",
       "</div>"
      ],
      "text/plain": [
       "   Producto  Precio  Stock  cum_sum_precios  cum_prod_precios  diff_precios  \\\n",
       "0  Manzanas     100     30              100               100           NaN   \n",
       "1  Naranjas      80     50              180              8000         -20.0   \n",
       "2  Plátanos      60     20              240            480000         -20.0   \n",
       "3      Uvas     120     60              360          57600000          60.0   \n",
       "4     Peras      90     40              450        5184000000         -30.0   \n",
       "\n",
       "   pct_change_precios  \n",
       "0                 NaN  \n",
       "1               -0.20  \n",
       "2               -0.25  \n",
       "3                1.00  \n",
       "4               -0.25  "
      ]
     },
     "execution_count": 18,
     "metadata": {},
     "output_type": "execute_result"
    }
   ],
   "source": [
    "pct_change_precios = df['Precio'].pct_change()\n",
    "print(pct_change_precios)\n",
    "df[\"pct_change_precios\"] = pct_change_precios\n",
    "df"
   ]
  },
  {
   "cell_type": "code",
   "execution_count": null,
   "id": "ff7d5ad6-e4d5-4a70-8a9b-4e7a0b32b213",
   "metadata": {},
   "outputs": [],
   "source": []
  }
 ],
 "metadata": {
  "kernelspec": {
   "display_name": "Python 3 (ipykernel)",
   "language": "python",
   "name": "python3"
  },
  "language_info": {
   "codemirror_mode": {
    "name": "ipython",
    "version": 3
   },
   "file_extension": ".py",
   "mimetype": "text/x-python",
   "name": "python",
   "nbconvert_exporter": "python",
   "pygments_lexer": "ipython3",
   "version": "3.12.3"
  }
 },
 "nbformat": 4,
 "nbformat_minor": 5
}
