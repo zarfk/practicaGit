{
 "cells": [
  {
   "cell_type": "code",
   "execution_count": 1,
   "id": "f91a6c7a-09cc-4278-b11f-4366899498fe",
   "metadata": {},
   "outputs": [],
   "source": [
    "import pandas as pd"
   ]
  },
  {
   "cell_type": "code",
   "execution_count": 2,
   "id": "af931e8f-36ad-4a73-8234-6a87e25e6492",
   "metadata": {},
   "outputs": [
    {
     "data": {
      "text/html": [
       "<div>\n",
       "<style scoped>\n",
       "    .dataframe tbody tr th:only-of-type {\n",
       "        vertical-align: middle;\n",
       "    }\n",
       "\n",
       "    .dataframe tbody tr th {\n",
       "        vertical-align: top;\n",
       "    }\n",
       "\n",
       "    .dataframe thead th {\n",
       "        text-align: right;\n",
       "    }\n",
       "</style>\n",
       "<table border=\"1\" class=\"dataframe\">\n",
       "  <thead>\n",
       "    <tr style=\"text-align: right;\">\n",
       "      <th></th>\n",
       "      <th>A</th>\n",
       "      <th>B</th>\n",
       "      <th>C</th>\n",
       "    </tr>\n",
       "  </thead>\n",
       "  <tbody>\n",
       "    <tr>\n",
       "      <th>0</th>\n",
       "      <td>1.0</td>\n",
       "      <td>NaN</td>\n",
       "      <td>1.0</td>\n",
       "    </tr>\n",
       "    <tr>\n",
       "      <th>1</th>\n",
       "      <td>2.0</td>\n",
       "      <td>2.0</td>\n",
       "      <td>2.0</td>\n",
       "    </tr>\n",
       "    <tr>\n",
       "      <th>2</th>\n",
       "      <td>NaN</td>\n",
       "      <td>3.0</td>\n",
       "      <td>3.0</td>\n",
       "    </tr>\n",
       "    <tr>\n",
       "      <th>3</th>\n",
       "      <td>4.0</td>\n",
       "      <td>4.0</td>\n",
       "      <td>NaN</td>\n",
       "    </tr>\n",
       "    <tr>\n",
       "      <th>4</th>\n",
       "      <td>5.0</td>\n",
       "      <td>NaN</td>\n",
       "      <td>5.0</td>\n",
       "    </tr>\n",
       "  </tbody>\n",
       "</table>\n",
       "</div>"
      ],
      "text/plain": [
       "     A    B    C\n",
       "0  1.0  NaN  1.0\n",
       "1  2.0  2.0  2.0\n",
       "2  NaN  3.0  3.0\n",
       "3  4.0  4.0  NaN\n",
       "4  5.0  NaN  5.0"
      ]
     },
     "execution_count": 2,
     "metadata": {},
     "output_type": "execute_result"
    }
   ],
   "source": [
    "data = {\n",
    "    'A': [1, 2, None, 4, 5],\n",
    "    'B': [None, 2, 3, 4, None],\n",
    "    'C': [1, 2, 3, None, 5]\n",
    "}\n",
    "\n",
    "df = pd.DataFrame(data)\n",
    "df"
   ]
  },
  {
   "cell_type": "code",
   "execution_count": 3,
   "id": "8eb59809-5549-490f-9b0c-cb1c7b7a04be",
   "metadata": {},
   "outputs": [
    {
     "name": "stdout",
     "output_type": "stream",
     "text": [
      "Número de valores faltantes por columna:\n",
      " A    1\n",
      "B    2\n",
      "C    1\n",
      "dtype: int64\n"
     ]
    }
   ],
   "source": [
    "faltantes_por_columna = df.isnull().sum()\n",
    "print(\"Número de valores faltantes por columna:\\n\", faltantes_por_columna)"
   ]
  },
  {
   "cell_type": "code",
   "execution_count": 4,
   "id": "6c6e5c69-74bf-40f8-85cc-3340d3473123",
   "metadata": {},
   "outputs": [
    {
     "name": "stdout",
     "output_type": "stream",
     "text": [
      "DataFrame sin filas con valores faltantes:\n",
      "      A    B    C\n",
      "1  2.0  2.0  2.0\n"
     ]
    }
   ],
   "source": [
    "df_sin_filas_faltantes = df.dropna()\n",
    "print(\"DataFrame sin filas con valores faltantes:\\n\", df_sin_filas_faltantes)"
   ]
  },
  {
   "cell_type": "code",
   "execution_count": 5,
   "id": "28c59de7-fdba-4628-8ecb-a35536e3622c",
   "metadata": {},
   "outputs": [
    {
     "name": "stdout",
     "output_type": "stream",
     "text": [
      "DataFrame sin columnas con valores faltantes:\n",
      " Empty DataFrame\n",
      "Columns: []\n",
      "Index: [0, 1, 2, 3, 4]\n"
     ]
    }
   ],
   "source": [
    "df_sin_columnas_faltantes = df.dropna(axis=1)\n",
    "print(\"DataFrame sin columnas con valores faltantes:\\n\", df_sin_columnas_faltantes)"
   ]
  },
  {
   "cell_type": "code",
   "execution_count": 7,
   "id": "9ceae9dd-9c4c-4bc7-aa45-a036e49774a6",
   "metadata": {},
   "outputs": [
    {
     "name": "stdout",
     "output_type": "stream",
     "text": [
      "DataFrame con valores faltantes rellenados con 0:\n",
      "      A    B    C\n",
      "0  1.0  0.0  1.0\n",
      "1  2.0  2.0  2.0\n",
      "2  0.0  3.0  3.0\n",
      "3  4.0  4.0  0.0\n",
      "4  5.0  0.0  5.0\n"
     ]
    }
   ],
   "source": [
    "df_rellenado = df.fillna(0)\n",
    "print(\"DataFrame con valores faltantes rellenados con 0:\\n\", df_rellenado)"
   ]
  },
  {
   "cell_type": "code",
   "execution_count": 8,
   "id": "4ab9aa27-8368-4036-b1a8-545e55081e37",
   "metadata": {},
   "outputs": [
    {
     "name": "stdout",
     "output_type": "stream",
     "text": [
      "DataFrame con valores faltantes rellenados con la media:\n",
      "      A    B     C\n",
      "0  1.0  3.0  1.00\n",
      "1  2.0  2.0  2.00\n",
      "2  3.0  3.0  3.00\n",
      "3  4.0  4.0  2.75\n",
      "4  5.0  3.0  5.00\n"
     ]
    }
   ],
   "source": [
    "df_rellenado_media = df.fillna(df.mean())\n",
    "print(\"DataFrame con valores faltantes rellenados con la media:\\n\", df_rellenado_media)"
   ]
  },
  {
   "cell_type": "code",
   "execution_count": 9,
   "id": "d6ccb2f1-acaf-4388-9c6f-6d2e04ae9737",
   "metadata": {},
   "outputs": [
    {
     "data": {
      "text/html": [
       "<div>\n",
       "<style scoped>\n",
       "    .dataframe tbody tr th:only-of-type {\n",
       "        vertical-align: middle;\n",
       "    }\n",
       "\n",
       "    .dataframe tbody tr th {\n",
       "        vertical-align: top;\n",
       "    }\n",
       "\n",
       "    .dataframe thead th {\n",
       "        text-align: right;\n",
       "    }\n",
       "</style>\n",
       "<table border=\"1\" class=\"dataframe\">\n",
       "  <thead>\n",
       "    <tr style=\"text-align: right;\">\n",
       "      <th></th>\n",
       "      <th>A</th>\n",
       "      <th>B</th>\n",
       "      <th>C</th>\n",
       "    </tr>\n",
       "  </thead>\n",
       "  <tbody>\n",
       "    <tr>\n",
       "      <th>0</th>\n",
       "      <td>1.0</td>\n",
       "      <td>NaN</td>\n",
       "      <td>1.0</td>\n",
       "    </tr>\n",
       "    <tr>\n",
       "      <th>1</th>\n",
       "      <td>2.0</td>\n",
       "      <td>2.0</td>\n",
       "      <td>2.0</td>\n",
       "    </tr>\n",
       "    <tr>\n",
       "      <th>2</th>\n",
       "      <td>NaN</td>\n",
       "      <td>3.0</td>\n",
       "      <td>3.0</td>\n",
       "    </tr>\n",
       "    <tr>\n",
       "      <th>3</th>\n",
       "      <td>4.0</td>\n",
       "      <td>4.0</td>\n",
       "      <td>NaN</td>\n",
       "    </tr>\n",
       "    <tr>\n",
       "      <th>4</th>\n",
       "      <td>5.0</td>\n",
       "      <td>NaN</td>\n",
       "      <td>5.0</td>\n",
       "    </tr>\n",
       "  </tbody>\n",
       "</table>\n",
       "</div>"
      ],
      "text/plain": [
       "     A    B    C\n",
       "0  1.0  NaN  1.0\n",
       "1  2.0  2.0  2.0\n",
       "2  NaN  3.0  3.0\n",
       "3  4.0  4.0  NaN\n",
       "4  5.0  NaN  5.0"
      ]
     },
     "execution_count": 9,
     "metadata": {},
     "output_type": "execute_result"
    }
   ],
   "source": [
    "df"
   ]
  },
  {
   "cell_type": "code",
   "execution_count": 10,
   "id": "687c8a5c-e00e-49db-9ea5-a50c6585b991",
   "metadata": {},
   "outputs": [
    {
     "name": "stdout",
     "output_type": "stream",
     "text": [
      "DataFrame con valores faltantes rellenados con el valor anterior:\n",
      "      A    B    C\n",
      "0  1.0  NaN  1.0\n",
      "1  2.0  2.0  2.0\n",
      "2  2.0  3.0  3.0\n",
      "3  4.0  4.0  3.0\n",
      "4  5.0  4.0  5.0\n"
     ]
    }
   ],
   "source": [
    "df_rellenado_ffill = df.fillna(method='ffill')\n",
    "print(\"DataFrame con valores faltantes rellenados con el valor anterior:\\n\", df_rellenado_ffill)"
   ]
  },
  {
   "cell_type": "code",
   "execution_count": 11,
   "id": "ae09d15d-5a37-464f-a1c7-738c6e1f41f1",
   "metadata": {},
   "outputs": [
    {
     "name": "stdout",
     "output_type": "stream",
     "text": [
      "DataFrame con valores faltantes rellenados con el valor siguiente:\n",
      "      A    B    C\n",
      "0  1.0  2.0  1.0\n",
      "1  2.0  2.0  2.0\n",
      "2  4.0  3.0  3.0\n",
      "3  4.0  4.0  5.0\n",
      "4  5.0  NaN  5.0\n"
     ]
    }
   ],
   "source": [
    "df_rellenado_bfill = df.fillna(method='bfill')\n",
    "print(\"DataFrame con valores faltantes rellenados con el valor siguiente:\\n\", df_rellenado_bfill)"
   ]
  },
  {
   "cell_type": "code",
   "execution_count": null,
   "id": "956c92ff-3c23-4787-a0ef-56f508ee9865",
   "metadata": {},
   "outputs": [],
   "source": []
  }
 ],
 "metadata": {
  "kernelspec": {
   "display_name": "Python 3 (ipykernel)",
   "language": "python",
   "name": "python3"
  },
  "language_info": {
   "codemirror_mode": {
    "name": "ipython",
    "version": 3
   },
   "file_extension": ".py",
   "mimetype": "text/x-python",
   "name": "python",
   "nbconvert_exporter": "python",
   "pygments_lexer": "ipython3",
   "version": "3.12.3"
  }
 },
 "nbformat": 4,
 "nbformat_minor": 5
}
