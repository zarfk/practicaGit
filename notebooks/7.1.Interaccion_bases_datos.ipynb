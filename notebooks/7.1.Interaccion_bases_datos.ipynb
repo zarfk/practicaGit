{
 "cells": [
  {
   "cell_type": "code",
   "execution_count": 5,
   "id": "d7d0023b-5e1f-44ee-b9c9-87e70e9d8c9c",
   "metadata": {},
   "outputs": [],
   "source": [
    "import pandas as pd\n",
    "from sqlalchemy import create_engine"
   ]
  },
  {
   "cell_type": "code",
   "execution_count": 6,
   "id": "91463124-fe54-4098-ab41-417fc3a4f907",
   "metadata": {},
   "outputs": [],
   "source": [
    "engine = create_engine('sqlite:///:memory:')"
   ]
  },
  {
   "cell_type": "code",
   "execution_count": 7,
   "id": "7e19d11e-3dc4-4aed-9b3f-c62c397d4f77",
   "metadata": {},
   "outputs": [],
   "source": [
    "data = {\n",
    "    'Empleado': ['Juan', 'Ana', 'Pedro', 'Luis', 'Maria'],\n",
    "    'Departamento': ['Ventas', 'Marketing', 'Ventas', 'IT', 'Marketing'],\n",
    "    'Salario': [50000, 60000, 55000, 58000, 62000],\n",
    "    'Años_Experiencia': [5, 7, 6, 8, 9]\n",
    "}\n",
    "\n",
    "df = pd.DataFrame(data)"
   ]
  },
  {
   "cell_type": "code",
   "execution_count": 9,
   "id": "41d4de37-e40d-4ccc-9f22-e9cc3e003cc2",
   "metadata": {},
   "outputs": [
    {
     "data": {
      "text/plain": [
       "5"
      ]
     },
     "execution_count": 9,
     "metadata": {},
     "output_type": "execute_result"
    }
   ],
   "source": [
    "df.to_sql('empleados', engine, index=False, if_exists='replace')"
   ]
  },
  {
   "cell_type": "code",
   "execution_count": 10,
   "id": "cef3fd1a-ac91-4be9-a0a2-c74f0783238e",
   "metadata": {},
   "outputs": [
    {
     "data": {
      "text/html": [
       "<div>\n",
       "<style scoped>\n",
       "    .dataframe tbody tr th:only-of-type {\n",
       "        vertical-align: middle;\n",
       "    }\n",
       "\n",
       "    .dataframe tbody tr th {\n",
       "        vertical-align: top;\n",
       "    }\n",
       "\n",
       "    .dataframe thead th {\n",
       "        text-align: right;\n",
       "    }\n",
       "</style>\n",
       "<table border=\"1\" class=\"dataframe\">\n",
       "  <thead>\n",
       "    <tr style=\"text-align: right;\">\n",
       "      <th></th>\n",
       "      <th>Empleado</th>\n",
       "      <th>Departamento</th>\n",
       "      <th>Salario</th>\n",
       "      <th>Años_Experiencia</th>\n",
       "    </tr>\n",
       "  </thead>\n",
       "  <tbody>\n",
       "    <tr>\n",
       "      <th>0</th>\n",
       "      <td>Juan</td>\n",
       "      <td>Ventas</td>\n",
       "      <td>50000</td>\n",
       "      <td>5</td>\n",
       "    </tr>\n",
       "    <tr>\n",
       "      <th>1</th>\n",
       "      <td>Ana</td>\n",
       "      <td>Marketing</td>\n",
       "      <td>60000</td>\n",
       "      <td>7</td>\n",
       "    </tr>\n",
       "    <tr>\n",
       "      <th>2</th>\n",
       "      <td>Pedro</td>\n",
       "      <td>Ventas</td>\n",
       "      <td>55000</td>\n",
       "      <td>6</td>\n",
       "    </tr>\n",
       "    <tr>\n",
       "      <th>3</th>\n",
       "      <td>Luis</td>\n",
       "      <td>IT</td>\n",
       "      <td>58000</td>\n",
       "      <td>8</td>\n",
       "    </tr>\n",
       "    <tr>\n",
       "      <th>4</th>\n",
       "      <td>Maria</td>\n",
       "      <td>Marketing</td>\n",
       "      <td>62000</td>\n",
       "      <td>9</td>\n",
       "    </tr>\n",
       "  </tbody>\n",
       "</table>\n",
       "</div>"
      ],
      "text/plain": [
       "  Empleado Departamento  Salario  Años_Experiencia\n",
       "0     Juan       Ventas    50000                 5\n",
       "1      Ana    Marketing    60000                 7\n",
       "2    Pedro       Ventas    55000                 6\n",
       "3     Luis           IT    58000                 8\n",
       "4    Maria    Marketing    62000                 9"
      ]
     },
     "metadata": {},
     "output_type": "display_data"
    }
   ],
   "source": [
    "df_leido = pd.read_sql('empleados', engine)\n",
    "display(df_leido)"
   ]
  },
  {
   "cell_type": "code",
   "execution_count": 11,
   "id": "124f6f8c-a279-41fb-b6c0-658e8970a4c5",
   "metadata": {},
   "outputs": [
    {
     "data": {
      "text/html": [
       "<div>\n",
       "<style scoped>\n",
       "    .dataframe tbody tr th:only-of-type {\n",
       "        vertical-align: middle;\n",
       "    }\n",
       "\n",
       "    .dataframe tbody tr th {\n",
       "        vertical-align: top;\n",
       "    }\n",
       "\n",
       "    .dataframe thead th {\n",
       "        text-align: right;\n",
       "    }\n",
       "</style>\n",
       "<table border=\"1\" class=\"dataframe\">\n",
       "  <thead>\n",
       "    <tr style=\"text-align: right;\">\n",
       "      <th></th>\n",
       "      <th>Empleado</th>\n",
       "      <th>Salario</th>\n",
       "    </tr>\n",
       "  </thead>\n",
       "  <tbody>\n",
       "    <tr>\n",
       "      <th>0</th>\n",
       "      <td>Ana</td>\n",
       "      <td>60000</td>\n",
       "    </tr>\n",
       "    <tr>\n",
       "      <th>1</th>\n",
       "      <td>Luis</td>\n",
       "      <td>58000</td>\n",
       "    </tr>\n",
       "    <tr>\n",
       "      <th>2</th>\n",
       "      <td>Maria</td>\n",
       "      <td>62000</td>\n",
       "    </tr>\n",
       "  </tbody>\n",
       "</table>\n",
       "</div>"
      ],
      "text/plain": [
       "  Empleado  Salario\n",
       "0      Ana    60000\n",
       "1     Luis    58000\n",
       "2    Maria    62000"
      ]
     },
     "metadata": {},
     "output_type": "display_data"
    }
   ],
   "source": [
    "consulta_sql = \"SELECT Empleado, Salario FROM empleados WHERE Salario > 55000\"\n",
    "df_consulta = pd.read_sql(consulta_sql, engine)\n",
    "display(df_consulta)"
   ]
  },
  {
   "cell_type": "code",
   "execution_count": 12,
   "id": "6bf8de6b-f509-4bcc-8cb1-12803ed1da20",
   "metadata": {},
   "outputs": [],
   "source": [
    "with engine.connect() as con:\n",
    "    con.execute(\"UPDATE empleados SET Salario = Salario * 1.1 WHERE Departamento = 'Ventas'\")\n"
   ]
  },
  {
   "cell_type": "code",
   "execution_count": 13,
   "id": "9c0a7173-a3a4-438e-9617-e1716f3e59b4",
   "metadata": {},
   "outputs": [
    {
     "data": {
      "text/html": [
       "<div>\n",
       "<style scoped>\n",
       "    .dataframe tbody tr th:only-of-type {\n",
       "        vertical-align: middle;\n",
       "    }\n",
       "\n",
       "    .dataframe tbody tr th {\n",
       "        vertical-align: top;\n",
       "    }\n",
       "\n",
       "    .dataframe thead th {\n",
       "        text-align: right;\n",
       "    }\n",
       "</style>\n",
       "<table border=\"1\" class=\"dataframe\">\n",
       "  <thead>\n",
       "    <tr style=\"text-align: right;\">\n",
       "      <th></th>\n",
       "      <th>Empleado</th>\n",
       "      <th>Departamento</th>\n",
       "      <th>Salario</th>\n",
       "      <th>Años_Experiencia</th>\n",
       "    </tr>\n",
       "  </thead>\n",
       "  <tbody>\n",
       "    <tr>\n",
       "      <th>0</th>\n",
       "      <td>Juan</td>\n",
       "      <td>Ventas</td>\n",
       "      <td>55000</td>\n",
       "      <td>5</td>\n",
       "    </tr>\n",
       "    <tr>\n",
       "      <th>1</th>\n",
       "      <td>Ana</td>\n",
       "      <td>Marketing</td>\n",
       "      <td>60000</td>\n",
       "      <td>7</td>\n",
       "    </tr>\n",
       "    <tr>\n",
       "      <th>2</th>\n",
       "      <td>Pedro</td>\n",
       "      <td>Ventas</td>\n",
       "      <td>60500</td>\n",
       "      <td>6</td>\n",
       "    </tr>\n",
       "    <tr>\n",
       "      <th>3</th>\n",
       "      <td>Luis</td>\n",
       "      <td>IT</td>\n",
       "      <td>58000</td>\n",
       "      <td>8</td>\n",
       "    </tr>\n",
       "    <tr>\n",
       "      <th>4</th>\n",
       "      <td>Maria</td>\n",
       "      <td>Marketing</td>\n",
       "      <td>62000</td>\n",
       "      <td>9</td>\n",
       "    </tr>\n",
       "  </tbody>\n",
       "</table>\n",
       "</div>"
      ],
      "text/plain": [
       "  Empleado Departamento  Salario  Años_Experiencia\n",
       "0     Juan       Ventas    55000                 5\n",
       "1      Ana    Marketing    60000                 7\n",
       "2    Pedro       Ventas    60500                 6\n",
       "3     Luis           IT    58000                 8\n",
       "4    Maria    Marketing    62000                 9"
      ]
     },
     "metadata": {},
     "output_type": "display_data"
    }
   ],
   "source": [
    "df_actualizado = pd.read_sql('empleados', engine)\n",
    "display(df_actualizado)"
   ]
  },
  {
   "cell_type": "code",
   "execution_count": 14,
   "id": "fec109d8-6d81-4e11-a412-de5792ec2e8d",
   "metadata": {},
   "outputs": [],
   "source": [
    "with engine.connect() as con:\n",
    "    con.execute(\"DELETE FROM empleados WHERE Empleado = 'Pedro'\")"
   ]
  },
  {
   "cell_type": "code",
   "execution_count": 15,
   "id": "c4c4d59b-6490-4f69-97ee-99195a2d7dff",
   "metadata": {},
   "outputs": [
    {
     "data": {
      "text/html": [
       "<div>\n",
       "<style scoped>\n",
       "    .dataframe tbody tr th:only-of-type {\n",
       "        vertical-align: middle;\n",
       "    }\n",
       "\n",
       "    .dataframe tbody tr th {\n",
       "        vertical-align: top;\n",
       "    }\n",
       "\n",
       "    .dataframe thead th {\n",
       "        text-align: right;\n",
       "    }\n",
       "</style>\n",
       "<table border=\"1\" class=\"dataframe\">\n",
       "  <thead>\n",
       "    <tr style=\"text-align: right;\">\n",
       "      <th></th>\n",
       "      <th>Empleado</th>\n",
       "      <th>Departamento</th>\n",
       "      <th>Salario</th>\n",
       "      <th>Años_Experiencia</th>\n",
       "    </tr>\n",
       "  </thead>\n",
       "  <tbody>\n",
       "    <tr>\n",
       "      <th>0</th>\n",
       "      <td>Juan</td>\n",
       "      <td>Ventas</td>\n",
       "      <td>55000</td>\n",
       "      <td>5</td>\n",
       "    </tr>\n",
       "    <tr>\n",
       "      <th>1</th>\n",
       "      <td>Ana</td>\n",
       "      <td>Marketing</td>\n",
       "      <td>60000</td>\n",
       "      <td>7</td>\n",
       "    </tr>\n",
       "    <tr>\n",
       "      <th>2</th>\n",
       "      <td>Luis</td>\n",
       "      <td>IT</td>\n",
       "      <td>58000</td>\n",
       "      <td>8</td>\n",
       "    </tr>\n",
       "    <tr>\n",
       "      <th>3</th>\n",
       "      <td>Maria</td>\n",
       "      <td>Marketing</td>\n",
       "      <td>62000</td>\n",
       "      <td>9</td>\n",
       "    </tr>\n",
       "  </tbody>\n",
       "</table>\n",
       "</div>"
      ],
      "text/plain": [
       "  Empleado Departamento  Salario  Años_Experiencia\n",
       "0     Juan       Ventas    55000                 5\n",
       "1      Ana    Marketing    60000                 7\n",
       "2     Luis           IT    58000                 8\n",
       "3    Maria    Marketing    62000                 9"
      ]
     },
     "metadata": {},
     "output_type": "display_data"
    }
   ],
   "source": [
    "df_despues_eliminacion = pd.read_sql('empleados', engine)\n",
    "display(df_despues_eliminacion)"
   ]
  },
  {
   "cell_type": "code",
   "execution_count": null,
   "id": "5dfccdc0-193e-4608-829e-23be6bb5e4ce",
   "metadata": {},
   "outputs": [],
   "source": []
  }
 ],
 "metadata": {
  "kernelspec": {
   "display_name": "Python 3 (ipykernel)",
   "language": "python",
   "name": "python3"
  },
  "language_info": {
   "codemirror_mode": {
    "name": "ipython",
    "version": 3
   },
   "file_extension": ".py",
   "mimetype": "text/x-python",
   "name": "python",
   "nbconvert_exporter": "python",
   "pygments_lexer": "ipython3",
   "version": "3.12.4"
  }
 },
 "nbformat": 4,
 "nbformat_minor": 5
}
