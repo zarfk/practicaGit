{
 "cells": [
  {
   "cell_type": "code",
   "execution_count": 1,
   "id": "f9ed70ac-89be-4dc1-859b-6befe3b3b8ec",
   "metadata": {},
   "outputs": [],
   "source": [
    "import pandas as pd"
   ]
  },
  {
   "cell_type": "code",
   "execution_count": 2,
   "id": "f33da274-bc90-4831-a50f-d6e9f83b01e3",
   "metadata": {},
   "outputs": [
    {
     "name": "stdout",
     "output_type": "stream",
     "text": [
      "   Producto  Precio\n",
      "0  Manzanas     100\n",
      "1  Naranjas      80\n",
      "2  Plátanos      60\n",
      "3      Uvas     120\n",
      "4     Peras      90\n"
     ]
    }
   ],
   "source": [
    "data = {\n",
    "    'Producto': ['Manzanas', 'Naranjas', 'Plátanos', 'Uvas', 'Peras'],\n",
    "    'Precio': [100, 80, 60, 120, 90]\n",
    "}\n",
    "\n",
    "df = pd.DataFrame(data)\n",
    "print(df)"
   ]
  },
  {
   "cell_type": "code",
   "execution_count": 3,
   "id": "eee1b8e5-2f75-471a-a2f8-9863dbb7c10f",
   "metadata": {},
   "outputs": [],
   "source": [
    "df.set_index('Producto', inplace=True)"
   ]
  },
  {
   "cell_type": "code",
   "execution_count": 4,
   "id": "a0950c4f-2602-4958-8216-f1097869daae",
   "metadata": {},
   "outputs": [
    {
     "name": "stdout",
     "output_type": "stream",
     "text": [
      "          Precio\n",
      "Producto        \n",
      "Manzanas     100\n",
      "Naranjas      80\n",
      "Plátanos      60\n",
      "Uvas         120\n",
      "Peras         90\n"
     ]
    }
   ],
   "source": [
    "print(df)"
   ]
  },
  {
   "cell_type": "code",
   "execution_count": 5,
   "id": "de5505d3-e0c6-4c29-9fc9-d86715928ab5",
   "metadata": {},
   "outputs": [
    {
     "name": "stdout",
     "output_type": "stream",
     "text": [
      "          Precio\n",
      "Producto        \n",
      "Uvas       120.0\n",
      "Manzanas   100.0\n",
      "Melones      NaN\n",
      "Naranjas    80.0\n",
      "Peras       90.0\n",
      "Plátanos    60.0\n"
     ]
    }
   ],
   "source": [
    "nuevo_orden = ['Uvas', 'Manzanas', 'Melones', 'Naranjas', 'Peras', 'Plátanos']\n",
    "df_reindexado = df.reindex(nuevo_orden)\n",
    "print(df_reindexado)"
   ]
  },
  {
   "cell_type": "code",
   "execution_count": 6,
   "id": "31d1d81f-83a7-4450-a276-ed4482a4cb57",
   "metadata": {},
   "outputs": [
    {
     "name": "stdout",
     "output_type": "stream",
     "text": [
      "          Precio\n",
      "Producto        \n",
      "Apples       100\n",
      "Oranges       80\n",
      "Plátanos      60\n",
      "Uvas         120\n",
      "Peras         90\n"
     ]
    }
   ],
   "source": [
    "df_renombrado = df.rename(index={'Manzanas': 'Apples', 'Naranjas': 'Oranges'})\n",
    "print(df_renombrado)"
   ]
  },
  {
   "cell_type": "code",
   "execution_count": 8,
   "id": "4bf736f3-09aa-4e24-8099-df3d4e43e6c0",
   "metadata": {},
   "outputs": [
    {
     "name": "stdout",
     "output_type": "stream",
     "text": [
      "   Producto  Precio\n",
      "0  Manzanas     100\n",
      "1  Naranjas      80\n",
      "2  Plátanos      60\n",
      "3      Uvas     120\n",
      "4     Peras      90\n"
     ]
    }
   ],
   "source": [
    "df_reset = df.reset_index()\n",
    "print(df_reset)"
   ]
  },
  {
   "cell_type": "code",
   "execution_count": null,
   "id": "ebf7e2e1-f74c-4880-abf1-cfa85e25c520",
   "metadata": {},
   "outputs": [],
   "source": []
  }
 ],
 "metadata": {
  "kernelspec": {
   "display_name": "Python 3 (ipykernel)",
   "language": "python",
   "name": "python3"
  },
  "language_info": {
   "codemirror_mode": {
    "name": "ipython",
    "version": 3
   },
   "file_extension": ".py",
   "mimetype": "text/x-python",
   "name": "python",
   "nbconvert_exporter": "python",
   "pygments_lexer": "ipython3",
   "version": "3.12.3"
  }
 },
 "nbformat": 4,
 "nbformat_minor": 5
}
