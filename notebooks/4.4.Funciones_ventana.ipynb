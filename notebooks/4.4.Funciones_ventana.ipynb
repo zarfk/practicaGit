{
 "cells": [
  {
   "cell_type": "code",
   "execution_count": 1,
   "id": "a60a5ee9-8d1c-4afc-8bc4-c28b063a7344",
   "metadata": {},
   "outputs": [],
   "source": [
    "import pandas as pd"
   ]
  },
  {
   "cell_type": "code",
   "execution_count": 2,
   "id": "e68d5f25-e6d3-476e-9a08-5960db0bc445",
   "metadata": {},
   "outputs": [
    {
     "data": {
      "text/html": [
       "<div>\n",
       "<style scoped>\n",
       "    .dataframe tbody tr th:only-of-type {\n",
       "        vertical-align: middle;\n",
       "    }\n",
       "\n",
       "    .dataframe tbody tr th {\n",
       "        vertical-align: top;\n",
       "    }\n",
       "\n",
       "    .dataframe thead th {\n",
       "        text-align: right;\n",
       "    }\n",
       "</style>\n",
       "<table border=\"1\" class=\"dataframe\">\n",
       "  <thead>\n",
       "    <tr style=\"text-align: right;\">\n",
       "      <th></th>\n",
       "      <th>Valor</th>\n",
       "    </tr>\n",
       "    <tr>\n",
       "      <th>Fecha</th>\n",
       "      <th></th>\n",
       "    </tr>\n",
       "  </thead>\n",
       "  <tbody>\n",
       "    <tr>\n",
       "      <th>2023-01-01</th>\n",
       "      <td>10</td>\n",
       "    </tr>\n",
       "    <tr>\n",
       "      <th>2023-01-02</th>\n",
       "      <td>20</td>\n",
       "    </tr>\n",
       "    <tr>\n",
       "      <th>2023-01-03</th>\n",
       "      <td>30</td>\n",
       "    </tr>\n",
       "    <tr>\n",
       "      <th>2023-01-04</th>\n",
       "      <td>40</td>\n",
       "    </tr>\n",
       "    <tr>\n",
       "      <th>2023-01-05</th>\n",
       "      <td>50</td>\n",
       "    </tr>\n",
       "    <tr>\n",
       "      <th>2023-01-06</th>\n",
       "      <td>60</td>\n",
       "    </tr>\n",
       "    <tr>\n",
       "      <th>2023-01-07</th>\n",
       "      <td>70</td>\n",
       "    </tr>\n",
       "    <tr>\n",
       "      <th>2023-01-08</th>\n",
       "      <td>80</td>\n",
       "    </tr>\n",
       "    <tr>\n",
       "      <th>2023-01-09</th>\n",
       "      <td>90</td>\n",
       "    </tr>\n",
       "    <tr>\n",
       "      <th>2023-01-10</th>\n",
       "      <td>100</td>\n",
       "    </tr>\n",
       "  </tbody>\n",
       "</table>\n",
       "</div>"
      ],
      "text/plain": [
       "            Valor\n",
       "Fecha            \n",
       "2023-01-01     10\n",
       "2023-01-02     20\n",
       "2023-01-03     30\n",
       "2023-01-04     40\n",
       "2023-01-05     50\n",
       "2023-01-06     60\n",
       "2023-01-07     70\n",
       "2023-01-08     80\n",
       "2023-01-09     90\n",
       "2023-01-10    100"
      ]
     },
     "execution_count": 2,
     "metadata": {},
     "output_type": "execute_result"
    }
   ],
   "source": [
    "data = {\n",
    "    'Fecha': pd.date_range(start='2023-01-01', periods=10, freq='D'),\n",
    "    'Valor': [10, 20, 30, 40, 50, 60, 70, 80, 90, 100]\n",
    "}\n",
    "\n",
    "df = pd.DataFrame(data)\n",
    "df.set_index('Fecha', inplace=True)\n",
    "df"
   ]
  },
  {
   "cell_type": "code",
   "execution_count": 3,
   "id": "d0fb433c-8a62-45fc-ac10-3e1d085c1cd2",
   "metadata": {},
   "outputs": [
    {
     "name": "stdout",
     "output_type": "stream",
     "text": [
      "Media Móvil:\n",
      " Fecha\n",
      "2023-01-01     NaN\n",
      "2023-01-02     NaN\n",
      "2023-01-03    20.0\n",
      "2023-01-04    30.0\n",
      "2023-01-05    40.0\n",
      "2023-01-06    50.0\n",
      "2023-01-07    60.0\n",
      "2023-01-08    70.0\n",
      "2023-01-09    80.0\n",
      "2023-01-10    90.0\n",
      "Name: Valor, dtype: float64\n"
     ]
    }
   ],
   "source": [
    "media_movil = df['Valor'].rolling(window=3).mean()\n",
    "print(\"Media Móvil:\\n\", media_movil)"
   ]
  },
  {
   "cell_type": "code",
   "execution_count": 5,
   "id": "ead59e8e-e3fc-4394-ad1c-04ce8a774911",
   "metadata": {},
   "outputs": [
    {
     "name": "stdout",
     "output_type": "stream",
     "text": [
      "Suma Móvil:\n",
      " Fecha\n",
      "2023-01-01      NaN\n",
      "2023-01-02     30.0\n",
      "2023-01-03     50.0\n",
      "2023-01-04     70.0\n",
      "2023-01-05     90.0\n",
      "2023-01-06    110.0\n",
      "2023-01-07    130.0\n",
      "2023-01-08    150.0\n",
      "2023-01-09    170.0\n",
      "2023-01-10    190.0\n",
      "Name: Valor, dtype: float64\n"
     ]
    }
   ],
   "source": [
    "suma_movil = df['Valor'].rolling(window=2).sum()\n",
    "print(\"Suma Móvil:\\n\", suma_movil)"
   ]
  },
  {
   "cell_type": "code",
   "execution_count": 6,
   "id": "2858cb9e-e433-4d5f-ad14-05026d0169c9",
   "metadata": {},
   "outputs": [
    {
     "name": "stdout",
     "output_type": "stream",
     "text": [
      "Desviación Estándar Móvil:\n",
      " Fecha\n",
      "2023-01-01     NaN\n",
      "2023-01-02     NaN\n",
      "2023-01-03    10.0\n",
      "2023-01-04    10.0\n",
      "2023-01-05    10.0\n",
      "2023-01-06    10.0\n",
      "2023-01-07    10.0\n",
      "2023-01-08    10.0\n",
      "2023-01-09    10.0\n",
      "2023-01-10    10.0\n",
      "Name: Valor, dtype: float64\n"
     ]
    }
   ],
   "source": [
    "std_movil = df['Valor'].rolling(window=3).std()\n",
    "print(\"Desviación Estándar Móvil:\\n\", std_movil)"
   ]
  },
  {
   "cell_type": "code",
   "execution_count": null,
   "id": "e6f342bc-8c6a-4a26-af46-4ff3c6eb1b42",
   "metadata": {},
   "outputs": [],
   "source": []
  }
 ],
 "metadata": {
  "kernelspec": {
   "display_name": "Python 3 (ipykernel)",
   "language": "python",
   "name": "python3"
  },
  "language_info": {
   "codemirror_mode": {
    "name": "ipython",
    "version": 3
   },
   "file_extension": ".py",
   "mimetype": "text/x-python",
   "name": "python",
   "nbconvert_exporter": "python",
   "pygments_lexer": "ipython3",
   "version": "3.12.3"
  }
 },
 "nbformat": 4,
 "nbformat_minor": 5
}
