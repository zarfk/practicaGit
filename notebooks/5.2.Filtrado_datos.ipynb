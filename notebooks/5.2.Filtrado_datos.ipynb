{
 "cells": [
  {
   "cell_type": "code",
   "execution_count": 17,
   "id": "10de24aa-1ed3-47c6-a98d-db934be2cc55",
   "metadata": {},
   "outputs": [
    {
     "data": {
      "text/html": [
       "<div>\n",
       "<style scoped>\n",
       "    .dataframe tbody tr th:only-of-type {\n",
       "        vertical-align: middle;\n",
       "    }\n",
       "\n",
       "    .dataframe tbody tr th {\n",
       "        vertical-align: top;\n",
       "    }\n",
       "\n",
       "    .dataframe thead th {\n",
       "        text-align: right;\n",
       "    }\n",
       "</style>\n",
       "<table border=\"1\" class=\"dataframe\">\n",
       "  <thead>\n",
       "    <tr style=\"text-align: right;\">\n",
       "      <th></th>\n",
       "      <th>Producto</th>\n",
       "      <th>Precio</th>\n",
       "      <th>Stock</th>\n",
       "    </tr>\n",
       "  </thead>\n",
       "  <tbody>\n",
       "    <tr>\n",
       "      <th>0</th>\n",
       "      <td>Manzanas</td>\n",
       "      <td>100</td>\n",
       "      <td>30</td>\n",
       "    </tr>\n",
       "    <tr>\n",
       "      <th>1</th>\n",
       "      <td>Naranjas</td>\n",
       "      <td>80</td>\n",
       "      <td>50</td>\n",
       "    </tr>\n",
       "    <tr>\n",
       "      <th>2</th>\n",
       "      <td>Plátanos</td>\n",
       "      <td>60</td>\n",
       "      <td>20</td>\n",
       "    </tr>\n",
       "    <tr>\n",
       "      <th>3</th>\n",
       "      <td>Uvas</td>\n",
       "      <td>120</td>\n",
       "      <td>60</td>\n",
       "    </tr>\n",
       "    <tr>\n",
       "      <th>4</th>\n",
       "      <td>Peras</td>\n",
       "      <td>90</td>\n",
       "      <td>40</td>\n",
       "    </tr>\n",
       "  </tbody>\n",
       "</table>\n",
       "</div>"
      ],
      "text/plain": [
       "   Producto  Precio  Stock\n",
       "0  Manzanas     100     30\n",
       "1  Naranjas      80     50\n",
       "2  Plátanos      60     20\n",
       "3      Uvas     120     60\n",
       "4     Peras      90     40"
      ]
     },
     "execution_count": 17,
     "metadata": {},
     "output_type": "execute_result"
    }
   ],
   "source": [
    "import pandas as pd\n",
    "\n",
    "data = {\n",
    "    'Producto': ['Manzanas', 'Naranjas', 'Plátanos', 'Uvas', 'Peras'],\n",
    "    'Precio': [100, 80, 60, 120, 90],\n",
    "    'Stock': [30, 50, 20, 60, 40]\n",
    "}\n",
    "\n",
    "df = pd.DataFrame(data)\n",
    "df"
   ]
  },
  {
   "cell_type": "code",
   "execution_count": 3,
   "id": "8649e8e1-4b56-460f-b6cb-2f7ef37c87c1",
   "metadata": {},
   "outputs": [
    {
     "name": "stdout",
     "output_type": "stream",
     "text": [
      "Productos con precio mayor a 80:\n",
      "    Producto  Precio  Stock\n",
      "0  Manzanas     100     30\n",
      "1  Naranjas      80     50\n",
      "3      Uvas     120     60\n",
      "4     Peras      90     40\n"
     ]
    }
   ],
   "source": [
    "filtro_precio = df[df['Precio'] >= 80]\n",
    "print(\"Productos con precio mayor a 80:\\n\", filtro_precio)"
   ]
  },
  {
   "cell_type": "code",
   "execution_count": 11,
   "id": "ece4f9c6-bff6-4ea5-a5f0-b13878970e14",
   "metadata": {},
   "outputs": [
    {
     "name": "stdout",
     "output_type": "stream",
     "text": [
      "Productos con precio mayor a 80 y stock mayor a 30:\n",
      "   Producto  Precio  Stock\n",
      "3     Uvas     120     60\n",
      "4    Peras      90     40\n"
     ]
    }
   ],
   "source": [
    "filtro_multiple = df[(df['Precio'] > 80) & (df['Stock'] > 30)]\n",
    "print(\"Productos con precio mayor a 80 y stock mayor a 30:\\n\", filtro_multiple)"
   ]
  },
  {
   "cell_type": "code",
   "execution_count": 15,
   "id": "ed0d8a4a-107c-4841-bbbe-bdf78a8ded57",
   "metadata": {},
   "outputs": [
    {
     "name": "stdout",
     "output_type": "stream",
     "text": [
      "Productos que contienen la letra 'a':\n",
      "    Producto  Precio  Stock\n",
      "0  Manzanas     100     30\n",
      "1  Naranjas      80     50\n",
      "2  Plátanos      60     20\n",
      "4     Peras      90     40\n"
     ]
    }
   ],
   "source": [
    "filtro_texto = df[df['Producto'].str.contains('a')]\n",
    "print(\"Productos que contienen la letra 'a':\\n\", filtro_texto)"
   ]
  },
  {
   "cell_type": "code",
   "execution_count": 13,
   "id": "7ab0366f-7d6a-4258-9d96-0f0f8551058e",
   "metadata": {},
   "outputs": [
    {
     "data": {
      "text/html": [
       "<div>\n",
       "<style scoped>\n",
       "    .dataframe tbody tr th:only-of-type {\n",
       "        vertical-align: middle;\n",
       "    }\n",
       "\n",
       "    .dataframe tbody tr th {\n",
       "        vertical-align: top;\n",
       "    }\n",
       "\n",
       "    .dataframe thead th {\n",
       "        text-align: right;\n",
       "    }\n",
       "</style>\n",
       "<table border=\"1\" class=\"dataframe\">\n",
       "  <thead>\n",
       "    <tr style=\"text-align: right;\">\n",
       "      <th></th>\n",
       "      <th>Producto</th>\n",
       "      <th>Precio</th>\n",
       "      <th>Stock</th>\n",
       "    </tr>\n",
       "  </thead>\n",
       "  <tbody>\n",
       "    <tr>\n",
       "      <th>0</th>\n",
       "      <td>Manzanas</td>\n",
       "      <td>100</td>\n",
       "      <td>30</td>\n",
       "    </tr>\n",
       "    <tr>\n",
       "      <th>1</th>\n",
       "      <td>Naranjas</td>\n",
       "      <td>80</td>\n",
       "      <td>50</td>\n",
       "    </tr>\n",
       "    <tr>\n",
       "      <th>2</th>\n",
       "      <td>Plátanos</td>\n",
       "      <td>60</td>\n",
       "      <td>20</td>\n",
       "    </tr>\n",
       "    <tr>\n",
       "      <th>3</th>\n",
       "      <td>Uvas</td>\n",
       "      <td>120</td>\n",
       "      <td>60</td>\n",
       "    </tr>\n",
       "    <tr>\n",
       "      <th>4</th>\n",
       "      <td>Peras</td>\n",
       "      <td>90</td>\n",
       "      <td>40</td>\n",
       "    </tr>\n",
       "  </tbody>\n",
       "</table>\n",
       "</div>"
      ],
      "text/plain": [
       "   Producto  Precio  Stock\n",
       "0  Manzanas     100     30\n",
       "1  Naranjas      80     50\n",
       "2  Plátanos      60     20\n",
       "3      Uvas     120     60\n",
       "4     Peras      90     40"
      ]
     },
     "execution_count": 13,
     "metadata": {},
     "output_type": "execute_result"
    }
   ],
   "source": [
    "df"
   ]
  },
  {
   "cell_type": "code",
   "execution_count": 18,
   "id": "4906837f-de59-4f85-87c6-e08579729409",
   "metadata": {},
   "outputs": [
    {
     "name": "stdout",
     "output_type": "stream",
     "text": [
      "Seleccionar columnas 'Producto' y 'Precio':\n",
      "    Producto  Precio\n",
      "0  Manzanas     100\n",
      "1  Naranjas      80\n",
      "2  Plátanos      60\n",
      "3      Uvas     120\n",
      "4     Peras      90\n"
     ]
    }
   ],
   "source": [
    "filtro_columnas = df[['Producto', 'Precio']]\n",
    "print(\"Seleccionar columnas 'Producto' y 'Precio':\\n\", filtro_columnas)"
   ]
  },
  {
   "cell_type": "code",
   "execution_count": 19,
   "id": "e25b03d5-3899-4dca-963b-e5048544d505",
   "metadata": {},
   "outputs": [
    {
     "name": "stdout",
     "output_type": "stream",
     "text": [
      "Productos con precio mayor a 80 usando query:\n",
      "    Producto  Precio  Stock\n",
      "0  Manzanas     100     30\n",
      "3      Uvas     120     60\n",
      "4     Peras      90     40\n"
     ]
    }
   ],
   "source": [
    "filtro_query = df.query('Precio > 80')\n",
    "print(\"Productos con precio mayor a 80 usando query:\\n\", filtro_query)"
   ]
  },
  {
   "cell_type": "code",
   "execution_count": 20,
   "id": "2fac23ed-fa9e-495e-b5af-bcfdaceddfee",
   "metadata": {},
   "outputs": [
    {
     "name": "stdout",
     "output_type": "stream",
     "text": [
      "Productos que son 'Manzanas' o 'Uvas':\n",
      "    Producto  Precio  Stock\n",
      "0  Manzanas     100     30\n",
      "3      Uvas     120     60\n"
     ]
    }
   ],
   "source": [
    "filtro_isin = df[df['Producto'].isin(['Manzanas', 'Uvas'])]\n",
    "print(\"Productos que son 'Manzanas' o 'Uvas':\\n\", filtro_isin)"
   ]
  },
  {
   "cell_type": "code",
   "execution_count": null,
   "id": "67836aa6-8908-4c0f-aac3-73915057befb",
   "metadata": {},
   "outputs": [],
   "source": []
  }
 ],
 "metadata": {
  "kernelspec": {
   "display_name": "Python 3 (ipykernel)",
   "language": "python",
   "name": "python3"
  },
  "language_info": {
   "codemirror_mode": {
    "name": "ipython",
    "version": 3
   },
   "file_extension": ".py",
   "mimetype": "text/x-python",
   "name": "python",
   "nbconvert_exporter": "python",
   "pygments_lexer": "ipython3",
   "version": "3.12.3"
  }
 },
 "nbformat": 4,
 "nbformat_minor": 5
}
