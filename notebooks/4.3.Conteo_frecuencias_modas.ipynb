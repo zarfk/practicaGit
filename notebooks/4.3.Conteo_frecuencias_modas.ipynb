{
 "cells": [
  {
   "cell_type": "code",
   "execution_count": 1,
   "id": "b0c520db-96de-4199-a287-002749e4af31",
   "metadata": {},
   "outputs": [],
   "source": [
    "import pandas as pd\n"
   ]
  },
  {
   "cell_type": "code",
   "execution_count": 2,
   "id": "189aadbe-e4b4-4a70-8cf2-ce7b354ad466",
   "metadata": {},
   "outputs": [
    {
     "data": {
      "text/html": [
       "<div>\n",
       "<style scoped>\n",
       "    .dataframe tbody tr th:only-of-type {\n",
       "        vertical-align: middle;\n",
       "    }\n",
       "\n",
       "    .dataframe tbody tr th {\n",
       "        vertical-align: top;\n",
       "    }\n",
       "\n",
       "    .dataframe thead th {\n",
       "        text-align: right;\n",
       "    }\n",
       "</style>\n",
       "<table border=\"1\" class=\"dataframe\">\n",
       "  <thead>\n",
       "    <tr style=\"text-align: right;\">\n",
       "      <th></th>\n",
       "      <th>Producto</th>\n",
       "      <th>Precio</th>\n",
       "      <th>Stock</th>\n",
       "    </tr>\n",
       "  </thead>\n",
       "  <tbody>\n",
       "    <tr>\n",
       "      <th>0</th>\n",
       "      <td>Manzanas</td>\n",
       "      <td>100</td>\n",
       "      <td>30</td>\n",
       "    </tr>\n",
       "    <tr>\n",
       "      <th>1</th>\n",
       "      <td>Naranjas</td>\n",
       "      <td>80</td>\n",
       "      <td>50</td>\n",
       "    </tr>\n",
       "    <tr>\n",
       "      <th>2</th>\n",
       "      <td>Plátanos</td>\n",
       "      <td>60</td>\n",
       "      <td>20</td>\n",
       "    </tr>\n",
       "    <tr>\n",
       "      <th>3</th>\n",
       "      <td>Manzanas</td>\n",
       "      <td>100</td>\n",
       "      <td>30</td>\n",
       "    </tr>\n",
       "    <tr>\n",
       "      <th>4</th>\n",
       "      <td>Peras</td>\n",
       "      <td>90</td>\n",
       "      <td>40</td>\n",
       "    </tr>\n",
       "  </tbody>\n",
       "</table>\n",
       "</div>"
      ],
      "text/plain": [
       "   Producto  Precio  Stock\n",
       "0  Manzanas     100     30\n",
       "1  Naranjas      80     50\n",
       "2  Plátanos      60     20\n",
       "3  Manzanas     100     30\n",
       "4     Peras      90     40"
      ]
     },
     "execution_count": 2,
     "metadata": {},
     "output_type": "execute_result"
    }
   ],
   "source": [
    "data = {\n",
    "    'Producto': ['Manzanas', 'Naranjas', 'Plátanos', 'Manzanas', 'Peras'],\n",
    "    'Precio': [100, 80, 60, 100, 90],\n",
    "    'Stock': [30, 50, 20, 30, 40]\n",
    "}\n",
    "\n",
    "df = pd.DataFrame(data)\n",
    "df"
   ]
  },
  {
   "cell_type": "code",
   "execution_count": 3,
   "id": "ef1a8b8d-f5d5-4cda-bcab-0646e0060f79",
   "metadata": {},
   "outputs": [
    {
     "name": "stdout",
     "output_type": "stream",
     "text": [
      "Valores únicos por columna:\n",
      " Producto    4\n",
      "Precio      4\n",
      "Stock       4\n",
      "dtype: int64\n"
     ]
    }
   ],
   "source": [
    "valores_unicos = df.nunique()\n",
    "print(\"Valores únicos por columna:\\n\", valores_unicos)"
   ]
  },
  {
   "cell_type": "code",
   "execution_count": 4,
   "id": "50ceb47a-3acd-4e73-a3d0-09d42465adfa",
   "metadata": {},
   "outputs": [
    {
     "name": "stdout",
     "output_type": "stream",
     "text": [
      "Frecuencia de productos:\n",
      " Manzanas    2\n",
      "Naranjas    1\n",
      "Plátanos    1\n",
      "Peras       1\n",
      "Name: Producto, dtype: int64\n"
     ]
    }
   ],
   "source": [
    "frecuencia_productos = df['Producto'].value_counts()\n",
    "print(\"Frecuencia de productos:\\n\", frecuencia_productos)"
   ]
  },
  {
   "cell_type": "code",
   "execution_count": 5,
   "id": "116f7480-3cfb-49ea-bf6d-6eded498aafc",
   "metadata": {},
   "outputs": [
    {
     "name": "stdout",
     "output_type": "stream",
     "text": [
      "Moda de precios:\n",
      " 0    100\n",
      "Name: Precio, dtype: int64\n"
     ]
    }
   ],
   "source": [
    "moda_precio = df['Precio'].mode()\n",
    "print(\"Moda de precios:\\n\", moda_precio)"
   ]
  },
  {
   "cell_type": "code",
   "execution_count": null,
   "id": "33019e5c-819f-4abd-9562-1fc2a67e4de8",
   "metadata": {},
   "outputs": [],
   "source": []
  }
 ],
 "metadata": {
  "kernelspec": {
   "display_name": "Python 3 (ipykernel)",
   "language": "python",
   "name": "python3"
  },
  "language_info": {
   "codemirror_mode": {
    "name": "ipython",
    "version": 3
   },
   "file_extension": ".py",
   "mimetype": "text/x-python",
   "name": "python",
   "nbconvert_exporter": "python",
   "pygments_lexer": "ipython3",
   "version": "3.12.3"
  }
 },
 "nbformat": 4,
 "nbformat_minor": 5
}
