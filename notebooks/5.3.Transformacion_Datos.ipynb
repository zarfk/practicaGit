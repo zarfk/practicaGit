{
 "cells": [
  {
   "cell_type": "code",
   "execution_count": 1,
   "id": "dd1c51a3-12d4-4c38-969c-143ab6a55941",
   "metadata": {},
   "outputs": [],
   "source": [
    "import pandas as pd"
   ]
  },
  {
   "cell_type": "code",
   "execution_count": 2,
   "id": "a92919c8-6ef7-4012-8f19-a9a3d6dc71c6",
   "metadata": {},
   "outputs": [
    {
     "name": "stdout",
     "output_type": "stream",
     "text": [
      "DataFrame Original:\n",
      "   Empleado  Salario  Años_Experiencia\n",
      "0     Juan    50000                 5\n",
      "1      Ana    60000                 7\n",
      "2    Pedro    55000                 6\n",
      "3     Luis    58000                 8\n",
      "4    Maria    62000                 9\n"
     ]
    }
   ],
   "source": [
    "data = {\n",
    "    'Empleado': ['Juan', 'Ana', 'Pedro', 'Luis', 'Maria'],\n",
    "    'Salario': [50000, 60000, 55000, 58000, 62000],\n",
    "    'Años_Experiencia': [5, 7, 6, 8, 9]\n",
    "}\n",
    "\n",
    "df = pd.DataFrame(data)\n",
    "print(\"DataFrame Original:\\n\", df)"
   ]
  },
  {
   "cell_type": "code",
   "execution_count": 3,
   "id": "35040e0d-5e63-4cbc-9c96-b0c8e7fd169f",
   "metadata": {},
   "outputs": [
    {
     "name": "stdout",
     "output_type": "stream",
     "text": [
      "DataFrame con salario ajustado:\n",
      "   Empleado  Salario  Años_Experiencia  Salario_Ajustado\n",
      "0     Juan    50000                 5           62500.0\n",
      "1      Ana    60000                 7           81000.0\n",
      "2    Pedro    55000                 6           71500.0\n",
      "3     Luis    58000                 8           81200.0\n",
      "4    Maria    62000                 9           89900.0\n"
     ]
    }
   ],
   "source": [
    "def calcular_salario_ajustado(row):\n",
    "    salario = row['Salario']\n",
    "    años_experiencia = row['Años_Experiencia']\n",
    "    bono = 0.05 * años_experiencia * salario  # 5% del salario por cada año de experiencia\n",
    "    salario_ajustado = salario + bono\n",
    "    return salario_ajustado\n",
    "\n",
    "df['Salario_Ajustado'] = df.apply(calcular_salario_ajustado, axis=1)\n",
    "print(\"DataFrame con salario ajustado:\\n\", df)"
   ]
  },
  {
   "cell_type": "code",
   "execution_count": 4,
   "id": "580b4a67-6947-437f-8c0d-927a122eecfc",
   "metadata": {},
   "outputs": [
    {
     "name": "stdout",
     "output_type": "stream",
     "text": [
      "DataFrame con salarios y años de experiencia normalizados:\n",
      "   Empleado  Salario  Años_Experiencia  Salario_Ajustado  Salario_Normalizado  \\\n",
      "0     Juan    50000                 5           62500.0            -1.492405   \n",
      "1      Ana    60000                 7           81000.0             0.639602   \n",
      "2    Pedro    55000                 6           71500.0            -0.426401   \n",
      "3     Luis    58000                 8           81200.0             0.213201   \n",
      "4    Maria    62000                 9           89900.0             1.066004   \n",
      "\n",
      "   Años_Experiencia_Normalizado  \n",
      "0                     -1.264911  \n",
      "1                      0.000000  \n",
      "2                     -0.632456  \n",
      "3                      0.632456  \n",
      "4                      1.264911  \n"
     ]
    }
   ],
   "source": [
    "def normalizar(serie):\n",
    "    return (serie - serie.mean()) / serie.std()\n",
    "\n",
    "df[['Salario_Normalizado', 'Años_Experiencia_Normalizado']] = df[['Salario', 'Años_Experiencia']].apply(normalizar)\n",
    "print(\"DataFrame con salarios y años de experiencia normalizados:\\n\", df)"
   ]
  },
  {
   "cell_type": "code",
   "execution_count": 6,
   "id": "538e0576-90e1-4434-8f8b-70a827d365b7",
   "metadata": {},
   "outputs": [
    {
     "data": {
      "text/html": [
       "<div>\n",
       "<style scoped>\n",
       "    .dataframe tbody tr th:only-of-type {\n",
       "        vertical-align: middle;\n",
       "    }\n",
       "\n",
       "    .dataframe tbody tr th {\n",
       "        vertical-align: top;\n",
       "    }\n",
       "\n",
       "    .dataframe thead th {\n",
       "        text-align: right;\n",
       "    }\n",
       "</style>\n",
       "<table border=\"1\" class=\"dataframe\">\n",
       "  <thead>\n",
       "    <tr style=\"text-align: right;\">\n",
       "      <th></th>\n",
       "      <th>Empleado</th>\n",
       "      <th>Salario</th>\n",
       "      <th>Años_Experiencia</th>\n",
       "      <th>Salario_Ajustado</th>\n",
       "      <th>Salario_Normalizado</th>\n",
       "      <th>Años_Experiencia_Normalizado</th>\n",
       "      <th>Categoria_Salario</th>\n",
       "    </tr>\n",
       "  </thead>\n",
       "  <tbody>\n",
       "    <tr>\n",
       "      <th>0</th>\n",
       "      <td>Juan</td>\n",
       "      <td>50000</td>\n",
       "      <td>5</td>\n",
       "      <td>62500.0</td>\n",
       "      <td>-1.492405</td>\n",
       "      <td>-1.264911</td>\n",
       "      <td>Bajo</td>\n",
       "    </tr>\n",
       "    <tr>\n",
       "      <th>1</th>\n",
       "      <td>Ana</td>\n",
       "      <td>60000</td>\n",
       "      <td>7</td>\n",
       "      <td>81000.0</td>\n",
       "      <td>0.639602</td>\n",
       "      <td>0.000000</td>\n",
       "      <td>Medio</td>\n",
       "    </tr>\n",
       "    <tr>\n",
       "      <th>2</th>\n",
       "      <td>Pedro</td>\n",
       "      <td>55000</td>\n",
       "      <td>6</td>\n",
       "      <td>71500.0</td>\n",
       "      <td>-0.426401</td>\n",
       "      <td>-0.632456</td>\n",
       "      <td>Bajo</td>\n",
       "    </tr>\n",
       "    <tr>\n",
       "      <th>3</th>\n",
       "      <td>Luis</td>\n",
       "      <td>58000</td>\n",
       "      <td>8</td>\n",
       "      <td>81200.0</td>\n",
       "      <td>0.213201</td>\n",
       "      <td>0.632456</td>\n",
       "      <td>Medio</td>\n",
       "    </tr>\n",
       "    <tr>\n",
       "      <th>4</th>\n",
       "      <td>Maria</td>\n",
       "      <td>62000</td>\n",
       "      <td>9</td>\n",
       "      <td>89900.0</td>\n",
       "      <td>1.066004</td>\n",
       "      <td>1.264911</td>\n",
       "      <td>Alto</td>\n",
       "    </tr>\n",
       "  </tbody>\n",
       "</table>\n",
       "</div>"
      ],
      "text/plain": [
       "  Empleado  Salario  Años_Experiencia  Salario_Ajustado  Salario_Normalizado  \\\n",
       "0     Juan    50000                 5           62500.0            -1.492405   \n",
       "1      Ana    60000                 7           81000.0             0.639602   \n",
       "2    Pedro    55000                 6           71500.0            -0.426401   \n",
       "3     Luis    58000                 8           81200.0             0.213201   \n",
       "4    Maria    62000                 9           89900.0             1.066004   \n",
       "\n",
       "   Años_Experiencia_Normalizado Categoria_Salario  \n",
       "0                     -1.264911              Bajo  \n",
       "1                      0.000000             Medio  \n",
       "2                     -0.632456              Bajo  \n",
       "3                      0.632456             Medio  \n",
       "4                      1.264911              Alto  "
      ]
     },
     "execution_count": 6,
     "metadata": {},
     "output_type": "execute_result"
    }
   ],
   "source": [
    "def categorizar_salario(salario):\n",
    "    if salario > 60000:\n",
    "        return 'Alto'\n",
    "    elif salario > 55000:\n",
    "        return 'Medio'\n",
    "    else:\n",
    "        return 'Bajo'\n",
    "\n",
    "df['Categoria_Salario'] = df['Salario'].map(categorizar_salario)\n",
    "df"
   ]
  },
  {
   "cell_type": "code",
   "execution_count": 9,
   "id": "cf50ac1e-06cb-4a1f-9c0f-cd7331bdd0b0",
   "metadata": {},
   "outputs": [
    {
     "data": {
      "text/html": [
       "<div>\n",
       "<style scoped>\n",
       "    .dataframe tbody tr th:only-of-type {\n",
       "        vertical-align: middle;\n",
       "    }\n",
       "\n",
       "    .dataframe tbody tr th {\n",
       "        vertical-align: top;\n",
       "    }\n",
       "\n",
       "    .dataframe thead th {\n",
       "        text-align: right;\n",
       "    }\n",
       "</style>\n",
       "<table border=\"1\" class=\"dataframe\">\n",
       "  <thead>\n",
       "    <tr style=\"text-align: right;\">\n",
       "      <th></th>\n",
       "      <th>Empleado</th>\n",
       "      <th>Salario</th>\n",
       "      <th>Años_Experiencia</th>\n",
       "      <th>Salario_Ajustado</th>\n",
       "      <th>Salario_Normalizado</th>\n",
       "      <th>Años_Experiencia_Normalizado</th>\n",
       "      <th>Categoria_Salario</th>\n",
       "    </tr>\n",
       "  </thead>\n",
       "  <tbody>\n",
       "    <tr>\n",
       "      <th>0</th>\n",
       "      <td>Juan</td>\n",
       "      <td>$50,000.00</td>\n",
       "      <td>$5.00</td>\n",
       "      <td>$62,500.00</td>\n",
       "      <td>$-1.49</td>\n",
       "      <td>$-1.26</td>\n",
       "      <td>Bajo</td>\n",
       "    </tr>\n",
       "    <tr>\n",
       "      <th>1</th>\n",
       "      <td>Ana</td>\n",
       "      <td>$60,000.00</td>\n",
       "      <td>$7.00</td>\n",
       "      <td>$81,000.00</td>\n",
       "      <td>$0.64</td>\n",
       "      <td>$0.00</td>\n",
       "      <td>Medio</td>\n",
       "    </tr>\n",
       "    <tr>\n",
       "      <th>2</th>\n",
       "      <td>Pedro</td>\n",
       "      <td>$55,000.00</td>\n",
       "      <td>$6.00</td>\n",
       "      <td>$71,500.00</td>\n",
       "      <td>$-0.43</td>\n",
       "      <td>$-0.63</td>\n",
       "      <td>Bajo</td>\n",
       "    </tr>\n",
       "    <tr>\n",
       "      <th>3</th>\n",
       "      <td>Luis</td>\n",
       "      <td>$58,000.00</td>\n",
       "      <td>$8.00</td>\n",
       "      <td>$81,200.00</td>\n",
       "      <td>$0.21</td>\n",
       "      <td>$0.63</td>\n",
       "      <td>Medio</td>\n",
       "    </tr>\n",
       "    <tr>\n",
       "      <th>4</th>\n",
       "      <td>Maria</td>\n",
       "      <td>$62,000.00</td>\n",
       "      <td>$9.00</td>\n",
       "      <td>$89,900.00</td>\n",
       "      <td>$1.07</td>\n",
       "      <td>$1.26</td>\n",
       "      <td>Alto</td>\n",
       "    </tr>\n",
       "  </tbody>\n",
       "</table>\n",
       "</div>"
      ],
      "text/plain": [
       "  Empleado     Salario Años_Experiencia Salario_Ajustado Salario_Normalizado  \\\n",
       "0     Juan  $50,000.00            $5.00       $62,500.00              $-1.49   \n",
       "1      Ana  $60,000.00            $7.00       $81,000.00               $0.64   \n",
       "2    Pedro  $55,000.00            $6.00       $71,500.00              $-0.43   \n",
       "3     Luis  $58,000.00            $8.00       $81,200.00               $0.21   \n",
       "4    Maria  $62,000.00            $9.00       $89,900.00               $1.07   \n",
       "\n",
       "  Años_Experiencia_Normalizado Categoria_Salario  \n",
       "0                       $-1.26              Bajo  \n",
       "1                        $0.00             Medio  \n",
       "2                       $-0.63              Bajo  \n",
       "3                        $0.63             Medio  \n",
       "4                        $1.26              Alto  "
      ]
     },
     "execution_count": 9,
     "metadata": {},
     "output_type": "execute_result"
    }
   ],
   "source": [
    "def formatear_valor(x):\n",
    "    if isinstance(x, (int, float)):\n",
    "        return f\"${x:,.2f}\"\n",
    "    return x\n",
    "\n",
    "df_formateado = df.applymap(formatear_valor)\n",
    "df_formateado"
   ]
  },
  {
   "cell_type": "code",
   "execution_count": null,
   "id": "821eda05-5593-40ef-a9bf-c2137eb834cc",
   "metadata": {},
   "outputs": [],
   "source": []
  }
 ],
 "metadata": {
  "kernelspec": {
   "display_name": "Python 3 (ipykernel)",
   "language": "python",
   "name": "python3"
  },
  "language_info": {
   "codemirror_mode": {
    "name": "ipython",
    "version": 3
   },
   "file_extension": ".py",
   "mimetype": "text/x-python",
   "name": "python",
   "nbconvert_exporter": "python",
   "pygments_lexer": "ipython3",
   "version": "3.12.3"
  }
 },
 "nbformat": 4,
 "nbformat_minor": 5
}
