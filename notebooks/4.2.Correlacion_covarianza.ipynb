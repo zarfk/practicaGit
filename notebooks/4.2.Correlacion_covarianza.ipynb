{
 "cells": [
  {
   "cell_type": "markdown",
   "id": "4f51d1cb-d7a4-4d01-ab59-e24b103fcbad",
   "metadata": {},
   "source": [
    "## Correlación:\n",
    "\n",
    "La correlación mide la relación entre dos variables. \n",
    "\n",
    "**Pearson:** Mide la relación lineal entre dos variables. Los valores pueden variar entre -1 y 1:\n",
    "\n",
    "1 indica una correlación lineal positiva perfecta.\n",
    "-1 indica una correlación lineal negativa perfecta.\n",
    "0 indica que no hay correlación lineal.\n",
    "\n",
    "**Kendall:** Mide la relación de orden entre dos variables. Los valores pueden variar entre -1 y 1:\n",
    "\n",
    "1 indica una concordancia perfecta.\n",
    "-1 indica una discordancia perfecta.\n",
    "0 indica que no hay correlación de orden.\n",
    "\n",
    "**Spearman:** Mide la relación monótona entre dos variables. Los valores pueden variar entre -1 y 1:\n",
    "\n",
    "1 indica una correlación monótona positiva perfecta.\n",
    "-1 indica una correlación monótona negativa perfecta.\n",
    "0 indica que no hay correlación monótona.\n",
    "\n",
    "## Covarianza\n",
    "\n",
    "La covarianza mide la relación conjunta entre dos variables, similar a la correlación pero no está normalizada. Los valores de covarianza pueden ser cualquier número real:\n",
    "\n",
    "- Valores positivos indican que las variables tienden a aumentar juntas.\n",
    "- Valores negativos indican que cuando una variable aumenta, la otra tiende a disminuir."
   ]
  },
  {
   "cell_type": "code",
   "execution_count": 1,
   "id": "21ceaa33-74d4-4515-884f-3ae51a28618e",
   "metadata": {},
   "outputs": [],
   "source": [
    "import pandas as pd"
   ]
  },
  {
   "cell_type": "code",
   "execution_count": 3,
   "id": "bb3b2c84-9406-4229-89f0-2c01de503ed0",
   "metadata": {},
   "outputs": [
    {
     "data": {
      "text/html": [
       "<div>\n",
       "<style scoped>\n",
       "    .dataframe tbody tr th:only-of-type {\n",
       "        vertical-align: middle;\n",
       "    }\n",
       "\n",
       "    .dataframe tbody tr th {\n",
       "        vertical-align: top;\n",
       "    }\n",
       "\n",
       "    .dataframe thead th {\n",
       "        text-align: right;\n",
       "    }\n",
       "</style>\n",
       "<table border=\"1\" class=\"dataframe\">\n",
       "  <thead>\n",
       "    <tr style=\"text-align: right;\">\n",
       "      <th></th>\n",
       "      <th>A</th>\n",
       "      <th>B</th>\n",
       "      <th>C</th>\n",
       "    </tr>\n",
       "  </thead>\n",
       "  <tbody>\n",
       "    <tr>\n",
       "      <th>0</th>\n",
       "      <td>1</td>\n",
       "      <td>5</td>\n",
       "      <td>2</td>\n",
       "    </tr>\n",
       "    <tr>\n",
       "      <th>1</th>\n",
       "      <td>2</td>\n",
       "      <td>4</td>\n",
       "      <td>3</td>\n",
       "    </tr>\n",
       "    <tr>\n",
       "      <th>2</th>\n",
       "      <td>3</td>\n",
       "      <td>3</td>\n",
       "      <td>4</td>\n",
       "    </tr>\n",
       "    <tr>\n",
       "      <th>3</th>\n",
       "      <td>4</td>\n",
       "      <td>2</td>\n",
       "      <td>5</td>\n",
       "    </tr>\n",
       "    <tr>\n",
       "      <th>4</th>\n",
       "      <td>5</td>\n",
       "      <td>1</td>\n",
       "      <td>6</td>\n",
       "    </tr>\n",
       "  </tbody>\n",
       "</table>\n",
       "</div>"
      ],
      "text/plain": [
       "   A  B  C\n",
       "0  1  5  2\n",
       "1  2  4  3\n",
       "2  3  3  4\n",
       "3  4  2  5\n",
       "4  5  1  6"
      ]
     },
     "execution_count": 3,
     "metadata": {},
     "output_type": "execute_result"
    }
   ],
   "source": [
    "data = {\n",
    "    'A': [1, 2, 3, 4, 5],\n",
    "    'B': [5, 4, 3, 2, 1],\n",
    "    'C': [2, 3, 4, 5, 6]\n",
    "}\n",
    "df = pd.DataFrame(data)\n",
    "df"
   ]
  },
  {
   "cell_type": "code",
   "execution_count": 4,
   "id": "da3c6604-8e4e-4774-b68d-b506079c8c0c",
   "metadata": {},
   "outputs": [
    {
     "name": "stdout",
     "output_type": "stream",
     "text": [
      "Correlación de Pearson:\n",
      "      A    B    C\n",
      "A  1.0 -1.0  1.0\n",
      "B -1.0  1.0 -1.0\n",
      "C  1.0 -1.0  1.0\n"
     ]
    }
   ],
   "source": [
    "correlacion_pearson = df.corr(method='pearson')\n",
    "print(\"Correlación de Pearson:\\n\", correlacion_pearson)"
   ]
  },
  {
   "cell_type": "code",
   "execution_count": 5,
   "id": "b04d31fe-e359-4612-b65e-bc8bfec047ad",
   "metadata": {},
   "outputs": [
    {
     "name": "stdout",
     "output_type": "stream",
     "text": [
      "Correlación de Kendall:\n",
      "      A    B    C\n",
      "A  1.0 -1.0  1.0\n",
      "B -1.0  1.0 -1.0\n",
      "C  1.0 -1.0  1.0\n"
     ]
    }
   ],
   "source": [
    "correlacion_kendall = df.corr(method='kendall')\n",
    "print(\"Correlación de Kendall:\\n\", correlacion_kendall)"
   ]
  },
  {
   "cell_type": "code",
   "execution_count": 6,
   "id": "19e5814f-ae9b-421a-8279-21b12dc8cdbc",
   "metadata": {},
   "outputs": [
    {
     "name": "stdout",
     "output_type": "stream",
     "text": [
      "Correlación de Spearman:\n",
      "      A    B    C\n",
      "A  1.0 -1.0  1.0\n",
      "B -1.0  1.0 -1.0\n",
      "C  1.0 -1.0  1.0\n"
     ]
    }
   ],
   "source": [
    "# Correlación de Spearman\n",
    "correlacion_spearman = df.corr(method='spearman')\n",
    "print(\"Correlación de Spearman:\\n\", correlacion_spearman)"
   ]
  },
  {
   "cell_type": "code",
   "execution_count": 7,
   "id": "ac58037a-a9d8-415f-817a-9a293ef4c373",
   "metadata": {},
   "outputs": [
    {
     "name": "stdout",
     "output_type": "stream",
     "text": [
      "Covarianza:\n",
      "      A    B    C\n",
      "A  2.5 -2.5  2.5\n",
      "B -2.5  2.5 -2.5\n",
      "C  2.5 -2.5  2.5\n"
     ]
    }
   ],
   "source": [
    "covarianza = df.cov()\n",
    "print(\"Covarianza:\\n\", covarianza)"
   ]
  },
  {
   "cell_type": "code",
   "execution_count": null,
   "id": "3cfc31fb-eb56-46d2-8b4b-6ca8e4d807da",
   "metadata": {},
   "outputs": [],
   "source": []
  }
 ],
 "metadata": {
  "kernelspec": {
   "display_name": "Python 3 (ipykernel)",
   "language": "python",
   "name": "python3"
  },
  "language_info": {
   "codemirror_mode": {
    "name": "ipython",
    "version": 3
   },
   "file_extension": ".py",
   "mimetype": "text/x-python",
   "name": "python",
   "nbconvert_exporter": "python",
   "pygments_lexer": "ipython3",
   "version": "3.12.3"
  }
 },
 "nbformat": 4,
 "nbformat_minor": 5
}
