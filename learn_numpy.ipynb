{
 "cells": [
  {
   "cell_type": "markdown",
   "id": "92feac61-baf2-45d7-bfd8-a6ece3e6992c",
   "metadata": {},
   "source": [
    "# Aprendiendo a usar numpy"
   ]
  },
  {
   "cell_type": "markdown",
   "id": "9ee660a3-034f-4470-b860-2a64fedcbbb1",
   "metadata": {
    "jp-MarkdownHeadingCollapsed": true
   },
   "source": [
    "## Fundamendos de numpy"
   ]
  },
  {
   "cell_type": "code",
   "execution_count": 1,
   "id": "dce0a97d-13b4-4ba2-af0f-050451479a86",
   "metadata": {},
   "outputs": [],
   "source": [
    "import numpy as np"
   ]
  },
  {
   "cell_type": "markdown",
   "id": "21d4a9e0-ce6f-47c1-86d4-4032002633f4",
   "metadata": {
    "jp-MarkdownHeadingCollapsed": true
   },
   "source": [
    "### Creación de arreglos y matrices"
   ]
  },
  {
   "cell_type": "markdown",
   "id": "b3568b0e-15c1-4e83-97ae-94338ab9fa4b",
   "metadata": {
    "jp-MarkdownHeadingCollapsed": true
   },
   "source": [
    "#### Arreglos unidimensionales"
   ]
  },
  {
   "cell_type": "code",
   "execution_count": 2,
   "id": "65b28a10-572f-454a-a96e-ddfe35464568",
   "metadata": {},
   "outputs": [
    {
     "name": "stdout",
     "output_type": "stream",
     "text": [
      "[1, 2, 3]\n",
      "[1 2 3]\n"
     ]
    }
   ],
   "source": [
    "L = [1, 2, 3]\n",
    "A = np.array(L)\n",
    "\n",
    "print(L)\n",
    "print(A)"
   ]
  },
  {
   "cell_type": "markdown",
   "id": "bb4ffa4b-8181-44da-9b66-40bd3c63efbf",
   "metadata": {
    "jp-MarkdownHeadingCollapsed": true
   },
   "source": [
    "#### Arreglos multidimensionales"
   ]
  },
  {
   "cell_type": "code",
   "execution_count": 3,
   "id": "a7705b82-42cc-44d6-ae5e-0be06898d974",
   "metadata": {},
   "outputs": [
    {
     "name": "stdout",
     "output_type": "stream",
     "text": [
      "[[1, 2], [3, 4]]\n",
      "[[1 2]\n",
      " [3 4]]\n"
     ]
    }
   ],
   "source": [
    "L2 = [[1, 2], [3, 4]]\n",
    "A2 = np.array(L2)\n",
    "\n",
    "print(L2)\n",
    "print(A2)"
   ]
  },
  {
   "cell_type": "markdown",
   "id": "d0678a98-7b61-46c7-84ca-b6315bceb186",
   "metadata": {
    "jp-MarkdownHeadingCollapsed": true
   },
   "source": [
    "#### Arreglos de unos y ceros"
   ]
  },
  {
   "cell_type": "code",
   "execution_count": 4,
   "id": "f09a712e-8388-4424-94a3-c70ca37b2d03",
   "metadata": {},
   "outputs": [
    {
     "name": "stdout",
     "output_type": "stream",
     "text": [
      "[[0. 0. 0.]\n",
      " [0. 0. 0.]]\n",
      "[[1. 1.]\n",
      " [1. 1.]\n",
      " [1. 1.]]\n"
     ]
    }
   ],
   "source": [
    "ceros = np.zeros((2, 3))\n",
    "unos = np.ones((3, 2))\n",
    "\n",
    "print(ceros)\n",
    "print(unos)"
   ]
  },
  {
   "cell_type": "markdown",
   "id": "18cbde9f-2519-4463-8526-1413a26cc7be",
   "metadata": {
    "jp-MarkdownHeadingCollapsed": true
   },
   "source": [
    "#### Arreglos de rango"
   ]
  },
  {
   "cell_type": "code",
   "execution_count": 9,
   "id": "1c1a3629-6324-4246-baaa-8da62a329d43",
   "metadata": {},
   "outputs": [
    {
     "name": "stdout",
     "output_type": "stream",
     "text": [
      "[0 1 2 3 4 5 6 7 8 9]\n",
      "[0.   0.25 0.5  0.75 1.  ]\n"
     ]
    }
   ],
   "source": [
    "rango = np.arange(10)\n",
    "lp = np.linspace(0, 1, 5)\n",
    "print(rango)\n",
    "print(lp)"
   ]
  },
  {
   "cell_type": "markdown",
   "id": "94b86bac-c2af-4ecc-a461-e6ec6830c2a4",
   "metadata": {},
   "source": [
    "#### Arreglo o atriz de identidad"
   ]
  },
  {
   "cell_type": "code",
   "execution_count": 8,
   "id": "474fc070-ee4a-4aee-b97d-194c0603adee",
   "metadata": {},
   "outputs": [
    {
     "name": "stdout",
     "output_type": "stream",
     "text": [
      "[[1. 0. 0.]\n",
      " [0. 1. 0.]\n",
      " [0. 0. 1.]]\n"
     ]
    }
   ],
   "source": [
    "identidad = np.eye(3)\n",
    "print(identidad)"
   ]
  },
  {
   "cell_type": "markdown",
   "id": "c6e16455-2f0a-472e-b8e1-196afd3566e1",
   "metadata": {},
   "source": [
    "para especificar el tipo de dato del array, podemos colocar un atributo en la funcion llamado **dtype**"
   ]
  },
  {
   "cell_type": "markdown",
   "id": "5b0a9e46-e543-4ba1-ba00-d4aeee74206d",
   "metadata": {
    "jp-MarkdownHeadingCollapsed": true
   },
   "source": [
    "### Indexacion y selección de arrays"
   ]
  },
  {
   "cell_type": "markdown",
   "id": "66345d9c-91f1-4a82-a32f-36680d4bb44d",
   "metadata": {},
   "source": [
    "#### Acceder a arrays unidimensionales"
   ]
  },
  {
   "cell_type": "code",
   "execution_count": 24,
   "id": "3429be05-0187-4233-bf0c-8d1cf00eb523",
   "metadata": {},
   "outputs": [
    {
     "name": "stdout",
     "output_type": "stream",
     "text": [
      "3\n",
      "[1 3 5]\n"
     ]
    }
   ],
   "source": [
    "a = np.array([1, 2, 3, 4, 5])\n",
    "print(a[2])\n",
    "print(a[::2])"
   ]
  },
  {
   "cell_type": "markdown",
   "id": "65c4bfcb-e9fd-4ec0-aad0-69c347345559",
   "metadata": {},
   "source": [
    "#### Acceder a arrays multidimensionales"
   ]
  },
  {
   "cell_type": "code",
   "execution_count": 22,
   "id": "6ece5918-034b-4403-a914-3f16e200d5a3",
   "metadata": {},
   "outputs": [
    {
     "name": "stdout",
     "output_type": "stream",
     "text": [
      "18\n",
      "[[1 2]\n",
      " [7 8]]\n"
     ]
    }
   ],
   "source": [
    "b = np.array([\n",
    "    [1, 2, 3, 4, 5, 6], \n",
    "    [7, 8, 9, 10, 11, 12], \n",
    "    [13, 14, 15, 16, 17, 18]\n",
    "])\n",
    "\n",
    "print(b[-1, -1])\n",
    "print(b[:2, :2])"
   ]
  },
  {
   "cell_type": "markdown",
   "id": "171c8845-d6d1-45cc-89e7-8dfaa669383d",
   "metadata": {},
   "source": [
    "#### Acceder a varios elementos a traves de un array de indices"
   ]
  },
  {
   "cell_type": "code",
   "execution_count": 25,
   "id": "72e53dd0-cac0-45b3-95da-54dc079c656b",
   "metadata": {},
   "outputs": [
    {
     "data": {
      "text/plain": [
       "array([2, 5, 5, 3])"
      ]
     },
     "execution_count": 25,
     "metadata": {},
     "output_type": "execute_result"
    }
   ],
   "source": [
    "e = np.array([1, 2, 3, 4, 5, 6, 7, 8, 9])\n",
    "indices = np.array([1, 4, 4, 2])\n",
    "e[indices]"
   ]
  },
  {
   "cell_type": "markdown",
   "id": "3a41f67d-80b4-477e-843c-062b56e8af4d",
   "metadata": {},
   "source": [
    "#### Acceder a elementos de array mediante condiciones"
   ]
  },
  {
   "cell_type": "code",
   "execution_count": 31,
   "id": "bad32755-e69d-4d85-a255-e68e25601a5e",
   "metadata": {},
   "outputs": [
    {
     "name": "stdout",
     "output_type": "stream",
     "text": [
      "[ 1 -1  3 -5  2  4 -7 -9]\n",
      "[ True False  True False  True  True False False]\n",
      "[1 3 2 4]\n",
      "[3 2 4]\n"
     ]
    }
   ],
   "source": [
    "f = np.array([1, -1, 3, -5, 2, 4, -7, -9])\n",
    "condicion = f>0\n",
    "\n",
    "print(f)\n",
    "print(condicion)\n",
    "print(f[condicion])\n",
    "print(f[f>1])"
   ]
  },
  {
   "cell_type": "markdown",
   "id": "5c63ec59-c8f3-43fc-9eb3-b456c609a440",
   "metadata": {
    "jp-MarkdownHeadingCollapsed": true
   },
   "source": [
    "### Operaciones básicas de arrays"
   ]
  },
  {
   "cell_type": "markdown",
   "id": "41012adc-09b1-4d7b-b347-aecf06837535",
   "metadata": {},
   "source": [
    "#### Operaciones entre arrays"
   ]
  },
  {
   "cell_type": "code",
   "execution_count": 36,
   "id": "6fe7a7ff-8aab-4054-9736-e78956428726",
   "metadata": {},
   "outputs": [
    {
     "name": "stdout",
     "output_type": "stream",
     "text": [
      "[5 3 9]\n",
      "[-3  1 -3]\n",
      "[ 4  2 18]\n",
      "[4.  0.5 2. ]\n"
     ]
    }
   ],
   "source": [
    "a = np.array([1, 2, 3])\n",
    "b = np.array([4, 1, 6])\n",
    "\n",
    "print(a+b)\n",
    "print(a-b)\n",
    "print(a*b)\n",
    "print(b/a)"
   ]
  },
  {
   "cell_type": "markdown",
   "id": "e2b3a97a-caca-4c43-a34b-46a01cebebea",
   "metadata": {},
   "source": [
    "#### Operaciones entre array y escalar"
   ]
  },
  {
   "cell_type": "code",
   "execution_count": 40,
   "id": "f89f5ea8-1a62-4618-8f83-340440324ff6",
   "metadata": {},
   "outputs": [
    {
     "name": "stdout",
     "output_type": "stream",
     "text": [
      "[11 12 13]\n",
      "[-1  0  1]\n",
      "[10 20 30]\n",
      "[0.4 0.1 0.6]\n"
     ]
    }
   ],
   "source": [
    "print(a+10)\n",
    "print(a-2)\n",
    "print(a*10)\n",
    "print(b/10)"
   ]
  },
  {
   "cell_type": "markdown",
   "id": "a74fc506-6590-4c47-87a0-796763590aa1",
   "metadata": {
    "jp-MarkdownHeadingCollapsed": true
   },
   "source": [
    "## Operaciones avanzadas de numpy"
   ]
  },
  {
   "cell_type": "markdown",
   "id": "c3a00a54-2bf5-42fb-ba16-7fa80dae251b",
   "metadata": {
    "jp-MarkdownHeadingCollapsed": true
   },
   "source": [
    "### Broadcasting"
   ]
  },
  {
   "cell_type": "markdown",
   "id": "db33f6fe-418b-4604-9755-d7921df761ca",
   "metadata": {},
   "source": [
    "El broadcasting es el operar matrices que no tienen las mismas dimensiones. \n",
    "\n",
    "Consiste en que si tenemos dos matrices de distintos tamaños, la de menor \n",
    "tamaño se extenderá al tamaño de la mayor en un eje compatible. \n",
    "\n",
    "- **Concepto clave**:\n",
    "  - Solo se puede usar broadcasting si amboas array tienen las mismas dimensiones, o una de ellas es 1\n",
    "\n",
    "Para usar broadcasting tenemos una reglas:\n",
    "\n",
    "- **Regla 1**: Si los arrays no tienen las misma dimensiones, se añade una dimension de tamaño 1 al inicio del array con menos dimensiones\n",
    "- **Regla 2**: Se comparan las dimensiones de los arrays. Si ambos tienen las mismas dimensiones o una de ellas es 1, se puede operar, sino se obtiene un error\n",
    "- **Regla3**: Los arrays con dimensiones de tamaño 1 se expanden para coincidir con el tamaño de la dimension mayor"
   ]
  },
  {
   "cell_type": "code",
   "execution_count": 44,
   "id": "0ed9eca3-016a-476a-b997-d4bb617234c3",
   "metadata": {},
   "outputs": [
    {
     "name": "stdout",
     "output_type": "stream",
     "text": [
      "[[7 8 9]\n",
      " [4 5 6]\n",
      " [1 2 3]]\n",
      "[[1]\n",
      " [2]\n",
      " [3]]\n",
      "[[ 7  8  9]\n",
      " [ 8 10 12]\n",
      " [ 3  6  9]]\n"
     ]
    }
   ],
   "source": [
    "a = np.array([\n",
    "    [7, 8, 9],\n",
    "    [4, 5, 6],\n",
    "    [1, 2, 3] \n",
    "])\n",
    "\n",
    "b = np.array([\n",
    "    [1], \n",
    "    [2],\n",
    "    [3]\n",
    "])\n",
    "\n",
    "print(a)\n",
    "print(b)\n",
    "print(a*b)"
   ]
  },
  {
   "cell_type": "markdown",
   "id": "1ba44d9a-3580-42da-ba33-cf24bfe8e4dc",
   "metadata": {
    "jp-MarkdownHeadingCollapsed": true
   },
   "source": [
    "### Funciones universales"
   ]
  },
  {
   "cell_type": "markdown",
   "id": "f537a98c-ca65-400c-a395-771426e5eacb",
   "metadata": {
    "jp-MarkdownHeadingCollapsed": true
   },
   "source": [
    "#### Funciones de suma, resta, multiplicacion y division"
   ]
  },
  {
   "cell_type": "code",
   "execution_count": 50,
   "id": "b4bc13e7-2a51-447c-a53b-1671173f56db",
   "metadata": {},
   "outputs": [
    {
     "name": "stdout",
     "output_type": "stream",
     "text": [
      "[4 4 4]\n",
      "[-2  0  2]\n",
      "[3 4 3]\n",
      "[0.33333333 1.         3.        ]\n"
     ]
    }
   ],
   "source": [
    "a = np.array([1, 2, 3])\n",
    "b = np.array([3, 2, 1])\n",
    "\n",
    "print(np.add(a, b))\n",
    "print(np.subtract(a, b))\n",
    "print(np.multiply(a, b))\n",
    "print(np.divide(a, b))"
   ]
  },
  {
   "cell_type": "markdown",
   "id": "3a4bbe16-1aea-43f8-8665-6128026da973",
   "metadata": {
    "jp-MarkdownHeadingCollapsed": true
   },
   "source": [
    "#### Trabajar con angulos, y funciones trigonometricas"
   ]
  },
  {
   "cell_type": "code",
   "execution_count": 52,
   "id": "f6607e81-b607-43e8-a658-85aaa6ddd098",
   "metadata": {},
   "outputs": [
    {
     "name": "stdout",
     "output_type": "stream",
     "text": [
      "[ 0.         -0.98803162 -0.30481062  0.89399666]\n",
      "[0.        0.5       0.8660254 1.       ]\n",
      "[1.00000000e+00 8.66025404e-01 5.00000000e-01 6.12323400e-17]\n",
      "[0.00000000e+00 5.77350269e-01 1.73205081e+00 1.63312394e+16]\n"
     ]
    }
   ],
   "source": [
    "angulos = np.array([0, 30, 60, 90])\n",
    "angulos_rad = np.radians(angulos)\n",
    "\n",
    "print(np.sin(angulos))\n",
    "\n",
    "print(np.sin(angulos_rad))\n",
    "print(np.cos(angulos_rad))\n",
    "print(np.tan(angulos_rad))"
   ]
  },
  {
   "cell_type": "markdown",
   "id": "12827017-9c80-48e4-b35c-d1f529931d3a",
   "metadata": {
    "jp-MarkdownHeadingCollapsed": true
   },
   "source": [
    "#### Funciones de comparación"
   ]
  },
  {
   "cell_type": "code",
   "execution_count": 57,
   "id": "b19f86a8-d9e7-4bfb-ba39-02862da9f1d1",
   "metadata": {},
   "outputs": [
    {
     "name": "stdout",
     "output_type": "stream",
     "text": [
      "[1 2 3] [3 2 1]\n",
      "[ True False False]\n",
      "[False  True False]\n",
      "[False False  True]\n"
     ]
    }
   ],
   "source": [
    "print(a, b)\n",
    "\n",
    "print(np.less(a, b))\n",
    "print(np.equal(a, b))\n",
    "print(np.greater(a, b))"
   ]
  },
  {
   "cell_type": "markdown",
   "id": "8ce3b3ad-705c-4492-9fee-757bf566c576",
   "metadata": {
    "jp-MarkdownHeadingCollapsed": true
   },
   "source": [
    "#### Funcion para elevar a una potencia"
   ]
  },
  {
   "cell_type": "code",
   "execution_count": 58,
   "id": "0c212f23-633b-4654-af09-78f10b788dc6",
   "metadata": {},
   "outputs": [
    {
     "name": "stdout",
     "output_type": "stream",
     "text": [
      "[1 4 3]\n"
     ]
    }
   ],
   "source": [
    "print(np.power(a, b))"
   ]
  },
  {
   "cell_type": "markdown",
   "id": "6be9d03b-1a06-4e63-8bbb-95192de41420",
   "metadata": {
    "jp-MarkdownHeadingCollapsed": true
   },
   "source": [
    "#### Funcion para desviación y de promedio"
   ]
  },
  {
   "cell_type": "code",
   "execution_count": 60,
   "id": "bb7974f7-26de-418e-baaa-6aa93c2c05b0",
   "metadata": {},
   "outputs": [
    {
     "name": "stdout",
     "output_type": "stream",
     "text": [
      "2.0\n",
      "0.816496580927726\n"
     ]
    }
   ],
   "source": [
    "print(np.mean(a))\n",
    "print(np.std(b))"
   ]
  },
  {
   "cell_type": "markdown",
   "id": "25675a69-0e3e-4ade-9939-5b1e5837b21a",
   "metadata": {},
   "source": [
    "## Algebra lineal con numpy"
   ]
  },
  {
   "cell_type": "markdown",
   "id": "11be9452-dead-47ab-a059-96d607bc1920",
   "metadata": {},
   "source": [
    "### Manipulación y reducción de arrays"
   ]
  },
  {
   "cell_type": "markdown",
   "id": "8ae0fb78-27bb-4d0a-a567-06ccbe75e0f4",
   "metadata": {
    "jp-MarkdownHeadingCollapsed": true
   },
   "source": [
    "#### Copiar un array por referencia y por valor"
   ]
  },
  {
   "cell_type": "code",
   "execution_count": 61,
   "id": "5a4e70de-913a-4684-963d-eab2c33011e5",
   "metadata": {},
   "outputs": [
    {
     "name": "stdout",
     "output_type": "stream",
     "text": [
      "[1 9 3]\n",
      "[1 9 3]\n",
      "[1 2 3]\n"
     ]
    }
   ],
   "source": [
    "x = np.array([1, 2, 3])\n",
    "y = x\n",
    "z = x.copy()\n",
    "\n",
    "x[1] = 9\n",
    "\n",
    "print(x)\n",
    "print(y)\n",
    "print(z)"
   ]
  },
  {
   "cell_type": "markdown",
   "id": "17b9ea64-7b59-4e42-bd28-2cb4c63ef946",
   "metadata": {
    "jp-MarkdownHeadingCollapsed": true
   },
   "source": [
    "#### Redibujar array como trigonometricas, y aplanar matriz a una dimension"
   ]
  },
  {
   "cell_type": "code",
   "execution_count": 63,
   "id": "b17cc32f-2789-437a-955b-116f4561ba11",
   "metadata": {},
   "outputs": [
    {
     "name": "stdout",
     "output_type": "stream",
     "text": [
      "[1 2 3 4 5 6 7 8 9]\n",
      "[[1 2 3]\n",
      " [4 5 6]\n",
      " [7 8 9]]\n",
      "[1 2 3 4 5 6 7 8 9]\n",
      "[1 2 3 4 5 6 7 8 9]\n"
     ]
    }
   ],
   "source": [
    "a = np.arange(1, 10)\n",
    "b = a.reshape((3, 3))\n",
    "c = b.flatten() # es una copia\n",
    "d = b.ravel()   # es un apuntador\n",
    "\n",
    "print(a)\n",
    "print(b)\n",
    "print(c)\n",
    "print(d)"
   ]
  },
  {
   "cell_type": "markdown",
   "id": "b4cc6135-0fa1-44f7-a06a-52557efe2b31",
   "metadata": {
    "jp-MarkdownHeadingCollapsed": true
   },
   "source": [
    "#### Funciones aplicadas a filas y columnas"
   ]
  },
  {
   "cell_type": "code",
   "execution_count": 69,
   "id": "b284caf4-397b-4a5a-86e6-3b1064fd7ce2",
   "metadata": {},
   "outputs": [
    {
     "data": {
      "text/plain": [
       "array([1, 4, 7])"
      ]
     },
     "execution_count": 69,
     "metadata": {},
     "output_type": "execute_result"
    }
   ],
   "source": [
    "m = np.array([[1, 2, 3], [4, 5, 6], [7, 8, 9]])\n",
    "np.min(m, axis=1) # min, max, sum, std, mean"
   ]
  },
  {
   "cell_type": "markdown",
   "id": "0187ac53-d6b0-48ad-96e1-0f91c7730b30",
   "metadata": {},
   "source": [
    "### Operaciones de algebra lineal"
   ]
  },
  {
   "cell_type": "code",
   "execution_count": 71,
   "id": "5a4bb82d-48e2-483d-9cf4-1fa5b75613ae",
   "metadata": {},
   "outputs": [
    {
     "name": "stdout",
     "output_type": "stream",
     "text": [
      "[[ 5  8]\n",
      " [11 18]]\n",
      "[[ 5  8]\n",
      " [11 18]]\n"
     ]
    }
   ],
   "source": [
    "a = np.array([[1, 2], [3, 4]])\n",
    "b = np.array([[1, 2], [2, 3]])\n",
    "\n",
    "c = np.dot(a, b)\n",
    "d = a @ b\n",
    "\n",
    "print(c)\n",
    "print(d)"
   ]
  },
  {
   "cell_type": "code",
   "execution_count": null,
   "id": "9c48a0ca-c0cd-4964-a593-edd00b1326fb",
   "metadata": {},
   "outputs": [],
   "source": []
  }
 ],
 "metadata": {
  "kernelspec": {
   "display_name": "Python 3 (ipykernel)",
   "language": "python",
   "name": "python3"
  },
  "language_info": {
   "codemirror_mode": {
    "name": "ipython",
    "version": 3
   },
   "file_extension": ".py",
   "mimetype": "text/x-python",
   "name": "python",
   "nbconvert_exporter": "python",
   "pygments_lexer": "ipython3",
   "version": "3.12.7"
  }
 },
 "nbformat": 4,
 "nbformat_minor": 5
}
